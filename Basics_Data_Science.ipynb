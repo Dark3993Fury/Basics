{
  "nbformat": 4,
  "nbformat_minor": 0,
  "metadata": {
    "colab": {
      "provenance": []
    },
    "kernelspec": {
      "name": "python3",
      "display_name": "Python 3"
    },
    "language_info": {
      "name": "python"
    }
  },
  "cells": [
    {
      "cell_type": "markdown",
      "source": [
        "# 1. Data Structures\n",
        "\n",
        "Ref: https://www.geeksforgeeks.org/python-data-structures/\n",
        "\n",
        ">***1.1 Sets*** :sets are mutable, and their elements must be immutable (e.g., numbers, strings, tuples). Sets do not support indexing or slicing because they are unordered collections.\n",
        "italicized text\n"
      ],
      "metadata": {
        "id": "c2L-nN5Y9jMj"
      }
    },
    {
      "cell_type": "markdown",
      "source": [
        "\n",
        "\n",
        "> 1.1.1. Creating Sets\n",
        "         - `my_set = set()`: Creates an empty set.\n",
        "\n",
        "         - my_set = {1, 2, 3}: Initializes a set with elements.\n",
        "\n",
        "\n"
      ],
      "metadata": {
        "id": "-EDSfMzF9rhM"
      }
    },
    {
      "cell_type": "code",
      "source": [
        "empty_set = set()\n",
        "integer_set = {1, 2, 3}\n"
      ],
      "metadata": {
        "id": "3CmKR-ue-PPQ"
      },
      "execution_count": null,
      "outputs": []
    },
    {
      "cell_type": "markdown",
      "source": [
        "\n",
        "\n",
        "> 1.1.2. Adding Elements:\n",
        "  - `my_set.add(element)`: Adds an element to the set.\n",
        "  - `my_set.update(iterable)`: Adds elements from an iterable (e.g., list, tuple) to the set.\n",
        "\n",
        "\n",
        "\n"
      ],
      "metadata": {
        "id": "KmZDHZpF-2ry"
      }
    },
    {
      "cell_type": "code",
      "source": [],
      "metadata": {
        "id": "ntoTIq5b_S6d"
      },
      "execution_count": null,
      "outputs": []
    },
    {
      "cell_type": "code",
      "source": [
        "   my_set = {1, 2, 3}\n",
        "   my_set.add(4)\n",
        "   print(my_set)\n",
        "   my_set.update([5, 6])\n",
        "   print(my_set)\n"
      ],
      "metadata": {
        "colab": {
          "base_uri": "https://localhost:8080/"
        },
        "id": "7AvMJPtl_EDM",
        "outputId": "abca3ec5-0be4-4428-ee13-a76a777e0beb"
      },
      "execution_count": null,
      "outputs": [
        {
          "output_type": "stream",
          "name": "stdout",
          "text": [
            "{1, 2, 3, 4}\n",
            "{1, 2, 3, 4, 5, 6}\n"
          ]
        }
      ]
    },
    {
      "cell_type": "markdown",
      "source": [
        "\n",
        "\n",
        "> 1.1.3. Removing Elements:\n",
        "  - `my_set.remove(element)`: Removes a specified element. Raises an error if the element is not found.\n",
        "  - `my_set.discard(element)`: Removes a specified element. No error if the element is not found.\n",
        "  - `my_set.pop()`: Removes and returns an arbitrary element.\n",
        "  - `my_set.clear()`: Removes all elements, making the set empty.\n",
        "\n",
        "\n",
        "\n",
        "\n"
      ],
      "metadata": {
        "id": "sfL7pykY_Ukz"
      }
    },
    {
      "cell_type": "code",
      "source": [
        "my_set = {1, 2, 3, 4, 5}\n",
        "my_set.remove(3)\n",
        "print(my_set)\n",
        "my_set.discard(6)\n",
        "print(my_set)\n",
        "popped_element = my_set.pop()\n",
        "print(f\"popped_element: {popped_element}\")\n",
        "print(my_set)\n",
        "my_set.clear()\n",
        "my_set"
      ],
      "metadata": {
        "colab": {
          "base_uri": "https://localhost:8080/"
        },
        "id": "d9rq8PkR_H8H",
        "outputId": "069b77c3-c128-47ea-eb71-497f6eb4df4c"
      },
      "execution_count": null,
      "outputs": [
        {
          "output_type": "stream",
          "name": "stdout",
          "text": [
            "{1, 2, 4, 5}\n",
            "{1, 2, 4, 5}\n",
            "popped_element: 1\n",
            "{2, 4, 5}\n"
          ]
        },
        {
          "output_type": "execute_result",
          "data": {
            "text/plain": [
              "set()"
            ]
          },
          "metadata": {},
          "execution_count": 3
        }
      ]
    },
    {
      "cell_type": "markdown",
      "source": [
        "\n",
        "\n",
        "> 1.1.4. Set Operations:**\n",
        "   - `my_set.union(other_set)`: Returns a new set containing all unique elements from both sets.\n",
        "   - `my_set.intersection(other_set)`: Returns a new set containing elements common to both sets.\n",
        "   - `my_set.difference(other_set)`: Returns a new set containing elements in `my_set` but not in `other_set`.\n",
        "   - `my_set.symmetric_difference(other_set)`: Returns a new set containing elements that are in either set, but not in both.\n",
        "   - `my_set.issubset(other_set)`: Checks if `my_set` is a subset of `other_set`.\n",
        "   - `my_set.issuperset(other_set)`: Checks if `my_set` is a superset of `other_set`.\n",
        "\n",
        "\n",
        "\n",
        "\n",
        "\n"
      ],
      "metadata": {
        "id": "oNRaSLMPAJA7"
      }
    },
    {
      "cell_type": "code",
      "source": [
        "set1 = {1, 2, 3}\n",
        "set2 = {3, 4, 5}\n",
        "union_set = set1.union(set2)\n",
        "print(union_set)\n",
        "intersection_set = set1.intersection(set2)\n",
        "print(intersection_set)\n",
        "difference_set = set1.difference(set2)\n",
        "print(difference_set)\n",
        "symmetric_difference_set = set1.symmetric_difference(set2)\n",
        "print(symmetric_difference_set)\n",
        "is_subset = set1.issubset(set2)\n",
        "print(is_subset)\n",
        "is_superset = set1.issuperset(set2)\n",
        "print(is_superset)\n"
      ],
      "metadata": {
        "colab": {
          "base_uri": "https://localhost:8080/"
        },
        "id": "RON6BznJ_rma",
        "outputId": "dd309fee-bfe9-4756-dd0a-e3a67c0ae25c"
      },
      "execution_count": null,
      "outputs": [
        {
          "output_type": "stream",
          "name": "stdout",
          "text": [
            "{1, 2, 3, 4, 5}\n",
            "{3}\n",
            "{1, 2}\n",
            "{1, 2, 4, 5}\n",
            "False\n",
            "False\n"
          ]
        }
      ]
    },
    {
      "cell_type": "markdown",
      "source": [
        "\n",
        "\n",
        "> 1.1.5. Set Comparisons:\n",
        "   - `my_set == other_set`: Checks if two sets are equal.\n",
        "   - `my_set != other_set`: Checks if two sets are not equal.\n",
        "\n",
        "\n",
        "\n",
        "\n",
        "\n",
        "\n"
      ],
      "metadata": {
        "id": "zm2mBJaZBmJx"
      }
    },
    {
      "cell_type": "code",
      "source": [
        "set1 = {1, 2, 3}\n",
        "set2 = {2, 3, 1}\n",
        "are_equal = set1 == set2\n",
        "print(are_equal)\n",
        "not_equal = set1 != set2\n",
        "print(not_equal)"
      ],
      "metadata": {
        "colab": {
          "base_uri": "https://localhost:8080/"
        },
        "id": "9a_iGOCSBVyq",
        "outputId": "3cc0d015-4ac4-4042-ead4-f90ff23d0efd"
      },
      "execution_count": null,
      "outputs": [
        {
          "output_type": "stream",
          "name": "stdout",
          "text": [
            "True\n",
            "False\n"
          ]
        }
      ]
    },
    {
      "cell_type": "markdown",
      "source": [
        "\n",
        "\n",
        "> 1.1.6. Set Methods:\n",
        "   - `len(my_set)`: Returns the number of elements in the set.\n",
        "   - `element in my_set`: Checks if an element is present in the set.\n",
        "   - `element not in my_set`: Checks if an element is not present in the set.\n",
        "   - `my_set.copy()`: Returns a shallow copy of the set.\n",
        "   - `my_set.clear()`: Removes all elements from the set.\n",
        "   - `my_set.pop()`: Removes and returns an arbitrary element from the set.\n",
        "   - `my_set.remove(element)`: Removes a specified element from the set.\n",
        "   - `my_set.discard(element)`: Removes a specified element from the set (no error if not found).\n",
        "   - `my_set.isdisjoint(other_set)`: Checks if two sets have no common elements.\n",
        "\n",
        "\n",
        "\n",
        "\n",
        "\n",
        "\n"
      ],
      "metadata": {
        "id": "vBk1GR71CLnY"
      }
    },
    {
      "cell_type": "code",
      "source": [
        "my_set = {1, 2, 3, 4, 5}\n",
        "length = len(my_set)\n",
        "is_present = 3 in my_set\n",
        "print(f\"is_present {is_present}\")\n",
        "is_not_present = 6 not in my_set\n",
        "print(f\"is_present {is_present}\")\n",
        "set_copy = my_set.copy()\n"
      ],
      "metadata": {
        "colab": {
          "base_uri": "https://localhost:8080/"
        },
        "id": "FedLiaepCGo_",
        "outputId": "4ed861c5-cd48-4ff4-f828-e7c67461e203"
      },
      "execution_count": null,
      "outputs": [
        {
          "output_type": "stream",
          "name": "stdout",
          "text": [
            "is_present True\n",
            "is_present True\n"
          ]
        }
      ]
    },
    {
      "cell_type": "markdown",
      "source": [
        "\n",
        ">***1.2 Lists*** :\n"
      ],
      "metadata": {
        "id": "vsLh3P4QDgOg"
      }
    },
    {
      "cell_type": "markdown",
      "source": [
        "\n",
        "\n",
        "> 1.2.1. Creating Lists:\n",
        "   - `my_list = []`: Creates an empty list.\n",
        "   - `my_list = [1, 2, 3]`: Initializes a list with elements.\n",
        "\n",
        "\n",
        "\n"
      ],
      "metadata": {
        "id": "tiUT8cWxDwGS"
      }
    },
    {
      "cell_type": "code",
      "source": [
        "empty_list = []\n",
        "integer_list = [1, 2, 3]\n"
      ],
      "metadata": {
        "id": "mQtnEQ4PCuiR"
      },
      "execution_count": null,
      "outputs": []
    },
    {
      "cell_type": "markdown",
      "source": [
        "\n",
        "\n",
        "> 1.2.2. Accessing Elements:\n",
        "   - `element = my_list[index]`: Accesses an element by its index (0-based).\n",
        "   - `element = my_list[-index]`: Accesses an element from the end using negative indexing.\n",
        "   - Slicing: `sublist = my_list[start:end]` gets a sublist from `start` (inclusive) to `end` (exclusive).\n",
        "\n",
        "\n",
        "\n",
        "\n"
      ],
      "metadata": {
        "id": "hVZf9SkfETyZ"
      }
    },
    {
      "cell_type": "code",
      "source": [
        "   my_list = [1, 2, 3, 4, 5]\n",
        "   first_element = my_list[0]\n",
        "   last_element = my_list[-1]\n",
        "   sublist = my_list[1:4]\n"
      ],
      "metadata": {
        "id": "gBOjr-82D9Rm"
      },
      "execution_count": null,
      "outputs": []
    },
    {
      "cell_type": "markdown",
      "source": [
        "\n",
        "\n",
        "> 1.2.3. Adding Elements:\n",
        "   - `my_list.append(element)`: Adds an element to the end of the list.\n",
        "   - `my_list.insert(index, element)`: Inserts an element at a specific index.\n",
        "   - `my_list.extend(iterable)`: Adds elements from an iterable (e.g., list, tuple) to the end.\n",
        "\n",
        "\n",
        "\n",
        "\n",
        "\n"
      ],
      "metadata": {
        "id": "5TLw9FiREyAS"
      }
    },
    {
      "cell_type": "code",
      "source": [
        "   my_list = [1, 2, 3]\n",
        "   my_list.append(4)\n",
        "   my_list.insert(1, 5)\n",
        "   my_list.extend([6, 7])\n"
      ],
      "metadata": {
        "id": "V428p_5ZEvW2"
      },
      "execution_count": null,
      "outputs": []
    },
    {
      "cell_type": "markdown",
      "source": [
        "\n",
        "\n",
        "> 1.2.4. Removing Elements:\n",
        "   - `my_list.remove(element)`: Removes the first occurrence of a specified element.\n",
        "   - `element = my_list.pop()`: Removes and returns the last element.\n",
        "   - `element = my_list.pop(index)`: Removes and returns the element at a specific index.\n",
        "   - `my_list.clear()`: Removes all elements, making the list empty.\n",
        "\n",
        "\n",
        "\n",
        "\n",
        "\n",
        "\n"
      ],
      "metadata": {
        "id": "Zci898uIFOGJ"
      }
    },
    {
      "cell_type": "code",
      "source": [
        "   my_list = [1, 2, 3, 4, 5]\n",
        "   my_list.remove(3)\n",
        "   popped_element = my_list.pop()\n",
        "   popped_element_at_index = my_list.pop(1)\n",
        "   my_list.clear()\n"
      ],
      "metadata": {
        "id": "Q_Q82bpBFHNB"
      },
      "execution_count": null,
      "outputs": []
    },
    {
      "cell_type": "markdown",
      "source": [
        "\n",
        "\n",
        "> 1.2.5. List Operations:\n",
        "   - `length = len(my_list)`: Returns the number of elements in the list.\n",
        "   - `element in my_list`: Checks if an element is present in the list.\n",
        "   - `element not in my_list`: Checks if an element is not present in the list.\n",
        "   - `my_list.index(element)`: Returns the index of the first occurrence of an element.\n",
        "   - `my_list.count(element)`: Returns the number of occurrences of an element.\n",
        "\n",
        "\n",
        "\n",
        "\n",
        "\n",
        "\n",
        "\n"
      ],
      "metadata": {
        "id": "MrFY13vqFbKI"
      }
    },
    {
      "cell_type": "code",
      "source": [
        "   my_list = [1, 2, 2, 3, 4]\n",
        "   length = len(my_list)\n",
        "   is_present = 3 in my_list\n",
        "   is_not_present = 5 not in my_list\n",
        "   first_index = my_list.index(2)\n",
        "   count = my_list.count(2)\n"
      ],
      "metadata": {
        "id": "15V0rZ1wFZeO"
      },
      "execution_count": null,
      "outputs": []
    },
    {
      "cell_type": "code",
      "source": [],
      "metadata": {
        "id": "JHNQTbXMFvaV"
      },
      "execution_count": null,
      "outputs": []
    },
    {
      "cell_type": "markdown",
      "source": [
        "\n",
        "\n",
        "> 1.2.6. List Manipulation:\n",
        "   - `my_list.sort()`: Sorts the list in ascending order.\n",
        "   - `my_list.reverse()`: Reverses the order of elements in the list.\n",
        "   - `new_list = sorted(my_list)`: Returns a new sorted list without modifying the original.\n",
        "   - `my_list.copy()`: Returns a shallow copy of the list.\n",
        "\n",
        "\n",
        "\n",
        "\n",
        "\n",
        "\n",
        "\n",
        "\n"
      ],
      "metadata": {
        "id": "MsdTahNZFzux"
      }
    },
    {
      "cell_type": "code",
      "source": [
        "   my_list = [3, 1, 4, 2]\n",
        "   my_list.sort()\n",
        "   my_list.reverse()\n",
        "   new_sorted_list = sorted(my_list)\n",
        "   list_copy = my_list.copy()\n"
      ],
      "metadata": {
        "id": "KHkJfra6F8qg"
      },
      "execution_count": null,
      "outputs": []
    },
    {
      "cell_type": "markdown",
      "source": [
        "\n",
        "\n",
        "> 1.2.7. List Manipulation:\n",
        "   - `my_list.sort()`: Sorts the list in ascending order.\n",
        "   - `my_list.reverse()`: Reverses the order of elements in the list.\n",
        "   - `new_list = sorted(my_list)`: Returns a new sorted list without modifying the original.\n",
        "   - `my_list.copy()`: Returns a shallow copy of the list.\n",
        "\n",
        "\n",
        "\n",
        "\n",
        "\n",
        "\n",
        "\n",
        "\n"
      ],
      "metadata": {
        "id": "ZoxvGgVYGAWJ"
      }
    },
    {
      "cell_type": "code",
      "source": [
        "   my_list = [1, 2, 3, 4, 5]\n",
        "   squared_list = [x ** 2 for x in my_list]\n",
        "   even_numbers = [x for x in my_list if x % 2 == 0]\n",
        "   print(even_numbers)"
      ],
      "metadata": {
        "colab": {
          "base_uri": "https://localhost:8080/"
        },
        "id": "SfhqKr-jBIq4",
        "outputId": "5e0343bd-e87a-4e32-dac0-57f05b02910a"
      },
      "execution_count": null,
      "outputs": [
        {
          "output_type": "stream",
          "name": "stdout",
          "text": [
            "[2, 4]\n"
          ]
        }
      ]
    },
    {
      "cell_type": "markdown",
      "source": [
        "\n",
        "\n",
        "> 1.2.8. Nested Lists:\n",
        "   - Lists can contain other lists (nested lists)..\n",
        "\n",
        "\n",
        "\n",
        "\n",
        "\n",
        "\n",
        "\n",
        "\n"
      ],
      "metadata": {
        "id": "Pp-6olOQBWBq"
      }
    },
    {
      "cell_type": "code",
      "source": [
        "nested_list = [[1, 2, 3], [4, 5, 6], [7, 8, 9]]"
      ],
      "metadata": {
        "id": "IHpzuJcOBP3p"
      },
      "execution_count": null,
      "outputs": []
    },
    {
      "cell_type": "markdown",
      "source": [
        "\n",
        ">***1.3 Tuples*** :Tuples are similar to lists but are immutable, which means they cannot be changed after creation. They are often used when you want to ensure data integrity and protect against accidental modification.\n"
      ],
      "metadata": {
        "id": "O4pMKxhgBrWf"
      }
    },
    {
      "cell_type": "markdown",
      "source": [
        "\n",
        "\n",
        "> 1.3.1. Creating Tuples:\n",
        "   - `my_tuple = ()`: Creates an empty tuple.\n",
        "   - `my_tuple = (1, 2, 3)`: Initializes a tuple with elements.\n",
        "   - Parentheses are optional for defining tuples.\n",
        "\n",
        "\n",
        "\n",
        "\n"
      ],
      "metadata": {
        "id": "zsMzTowAB0ic"
      }
    },
    {
      "cell_type": "code",
      "source": [
        "   empty_tuple = ()\n",
        "   integer_tuple = (1, 2, 3)\n"
      ],
      "metadata": {
        "id": "kRiASIvsBikB"
      },
      "execution_count": null,
      "outputs": []
    },
    {
      "cell_type": "markdown",
      "source": [
        "\n",
        "\n",
        "> 1.3.2. Accessing Elements:\n",
        "   - `element = my_tuple[index]`: Accesses an element by its index (0-based).\n",
        "   - `element = my_tuple[-index]`: Accesses an element from the end using negative indexing.\n",
        "   - Slicing: `subtuple = my_tuple[start:end]` gets a subtuple from `start` (inclusive) to `end` (exclusive).\n",
        "\n",
        "\n",
        "\n",
        "\n",
        "\n"
      ],
      "metadata": {
        "id": "dtbEu-ioCEqo"
      }
    },
    {
      "cell_type": "code",
      "source": [
        "   my_tuple = (1, 2, 3, 4, 5)\n",
        "   first_element = my_tuple[0]\n",
        "   last_element = my_tuple[-1]\n",
        "   subtuple = my_tuple[1:4]\n"
      ],
      "metadata": {
        "id": "7rzfUTJLCBfz"
      },
      "execution_count": null,
      "outputs": []
    },
    {
      "cell_type": "markdown",
      "source": [
        "\n",
        "\n",
        "> 1.3.3. Tuple Operations:\n",
        "   - `length = len(my_tuple)`: Returns the number of elements in the tuple.\n",
        "   - `element in my_tuple`: Checks if an element is present in the tuple.\n",
        "   - `element not in my_tuple`: Checks if an element is not present in the tuple.\n",
        "   - `my_tuple.index(element)`: Returns the index of the first occurrence of an element.\n",
        "   - `my_tuple.count(element)`: Returns the number of occurrences of an element.\n",
        "\n",
        "\n",
        "\n",
        "\n",
        "\n",
        "\n",
        "\n"
      ],
      "metadata": {
        "id": "v3-yqH7lCTi-"
      }
    },
    {
      "cell_type": "code",
      "source": [
        "   my_tuple = (1, 2, 2, 3, 4)\n",
        "   length = len(my_tuple)\n",
        "   is_present = 3 in my_tuple\n",
        "   is_not_present = 5 not in my_tuple\n",
        "   first_index = my_tuple.index(2)\n",
        "   count = my_tuple.count(2)\n"
      ],
      "metadata": {
        "id": "Gu5PvjZlCROc"
      },
      "execution_count": null,
      "outputs": []
    },
    {
      "cell_type": "markdown",
      "source": [
        "\n",
        "\n",
        "> 1.3.4. Tuple Packing and Unpackings:\n",
        "   - Multiple values can be assigned to a single tuple.\n",
        "   - Tuple elements can be unpacked into individual variables.\n",
        "\n",
        "\n",
        "\n",
        "\n",
        "\n",
        "\n",
        "\n",
        "\n"
      ],
      "metadata": {
        "id": "UApJ9zhtCkRo"
      }
    },
    {
      "cell_type": "code",
      "source": [
        "   coordinates = (3, 4)\n",
        "   x, y = coordinates\n"
      ],
      "metadata": {
        "id": "ymH_Cr1bCh6u"
      },
      "execution_count": null,
      "outputs": []
    },
    {
      "cell_type": "markdown",
      "source": [
        "\n",
        "\n",
        "> 1.3.5. Immutability:\n",
        "   - Tuples are immutable, meaning their elements cannot be changed after creation.\n",
        "   - However, you can create a new tuple with modified elements.\n",
        "\n",
        "\n",
        "\n",
        "\n",
        "\n",
        "\n",
        "\n",
        "\n",
        "\n"
      ],
      "metadata": {
        "id": "YFxYD2DlCz8P"
      }
    },
    {
      "cell_type": "code",
      "source": [
        "   my_tuple = (1, 2, 3)\n",
        "   # This is not allowed: my_tuple[0] = 5\n",
        "   new_tuple = my_tuple + (5,)  # Create a new tuple with modified elements\n"
      ],
      "metadata": {
        "id": "MFahgjvxCxU7"
      },
      "execution_count": null,
      "outputs": []
    },
    {
      "cell_type": "markdown",
      "source": [
        "\n",
        "\n",
        "> 1.3.6. Nested Tuples:\n",
        "   - Tuples can contain other tuples (nested tuples).\n",
        "\n",
        "\n",
        "\n",
        "\n",
        "\n",
        "\n",
        "\n",
        "\n",
        "\n"
      ],
      "metadata": {
        "id": "Nl8eZhfgC_Nw"
      }
    },
    {
      "cell_type": "code",
      "source": [
        "nested_tuple = ((1, 2), (3, 4))"
      ],
      "metadata": {
        "id": "3lxLsFGVC9XT"
      },
      "execution_count": null,
      "outputs": []
    },
    {
      "cell_type": "markdown",
      "source": [
        "\n",
        ">***1.4 Dictionaries*** :\n"
      ],
      "metadata": {
        "id": "y3ySDkS50Hne"
      }
    },
    {
      "cell_type": "markdown",
      "source": [
        "\n",
        "\n",
        "> 1.4.1. Creating Dictionaries:\n",
        "- my_dict = {}: Creates an empty dictionary.\n",
        "- my_dict = {'key1': 'value1', 'key2': 'value2'}: Initializes a dictionary with key-value pairs.\n",
        "\n",
        "\n",
        "\n"
      ],
      "metadata": {
        "id": "pS77EonE0Hnf"
      }
    },
    {
      "cell_type": "code",
      "source": [
        "empty_dict = {}\n",
        "sample_dict = {'name': 'John', 'age': 25, 'city': 'New York'}\n",
        "print(sample_dict)"
      ],
      "metadata": {
        "colab": {
          "base_uri": "https://localhost:8080/"
        },
        "id": "cGjQugxE0Hnf",
        "outputId": "a3019b0f-67b3-4a16-f044-53605bd995a5"
      },
      "execution_count": 22,
      "outputs": [
        {
          "output_type": "stream",
          "name": "stdout",
          "text": [
            "{'name': 'John', 'age': 25, 'city': 'New York'}\n"
          ]
        }
      ]
    },
    {
      "cell_type": "markdown",
      "source": [
        "\n",
        "\n",
        "> 1.4.2. Accessing Elements:\n",
        "- value = my_dict['key']: Accesses a value by its key.\n",
        "- value = my_dict.get('key', default_value): Accesses a value with a default if the key is not present.\n",
        "\n",
        "\n",
        "\n",
        "\n"
      ],
      "metadata": {
        "id": "70WYa3Sl0Hnf"
      }
    },
    {
      "cell_type": "code",
      "source": [
        "person = {'name': 'Alice', 'age': 30, 'city': 'London'}\n",
        "name = person['name']\n",
        "age = person.get('age', 0)\n",
        "print(name, age)"
      ],
      "metadata": {
        "colab": {
          "base_uri": "https://localhost:8080/"
        },
        "id": "TPY4mIwq0Hnf",
        "outputId": "22123a50-1234-4e9a-f46e-964017b571d2"
      },
      "execution_count": 23,
      "outputs": [
        {
          "output_type": "stream",
          "name": "stdout",
          "text": [
            "Alice 30\n"
          ]
        }
      ]
    },
    {
      "cell_type": "markdown",
      "source": [
        "\n",
        "\n",
        "> 1.4.3. Adding Elements:\n",
        "- my_dict['new_key'] = 'new_value': Adds a new key-value pair.\n",
        "- my_dict.update({'key1': 'new_value1', 'key2': 'new_value2'}): Updates multiple key-value pairs.\n",
        "\n",
        "\n",
        "\n",
        "\n",
        "\n"
      ],
      "metadata": {
        "id": "2LoXdbrA0Hnf"
      }
    },
    {
      "cell_type": "code",
      "source": [
        "grades = {'math': 90, 'science': 85, 'history': 75}\n",
        "grades['english'] = 88\n",
        "grades.update({'science': 90, 'programming': 95})\n",
        "print(grades)"
      ],
      "metadata": {
        "colab": {
          "base_uri": "https://localhost:8080/"
        },
        "id": "P0O2Y9x80Hng",
        "outputId": "183a9922-0007-4ba8-b169-26b66b342719"
      },
      "execution_count": 25,
      "outputs": [
        {
          "output_type": "stream",
          "name": "stdout",
          "text": [
            "{'math': 90, 'science': 90, 'history': 75, 'english': 88, 'programming': 95}\n"
          ]
        }
      ]
    },
    {
      "cell_type": "markdown",
      "source": [
        "\n",
        "\n",
        "> 1.4.4. Removing Elements:\n",
        "- del my_dict['key']: Removes a key-value pair.\n",
        "- value = my_dict.pop('key', default_value): Removes and returns the value with the specified key.\n",
        "- my_dict.clear(): Removes all key-value pairs, making the dictionary empty.\n",
        "\n",
        "\n",
        "\n",
        "\n",
        "\n",
        "\n"
      ],
      "metadata": {
        "id": "yy6yCzdw0Hng"
      }
    },
    {
      "cell_type": "code",
      "source": [
        "contacts = {'Alice': '123-456', 'Bob': '789-012', 'Charlie': '345-678'}\n",
        "del contacts['Bob']\n",
        "number = contacts.pop('Alice', 'N/A')\n",
        "contacts.clear()\n"
      ],
      "metadata": {
        "id": "vsr7momn0Hng"
      },
      "execution_count": 26,
      "outputs": []
    },
    {
      "cell_type": "markdown",
      "source": [
        "\n",
        "\n",
        "> 1.4.5. Dictionary Operations:\n",
        "- len(my_dict): Returns the number of key-value pairs in the dictionary.\n",
        "- key in my_dict: Checks if a key is present in the dictionary.\n",
        "- key not in my_dict: Checks if a key is not present in the dictionary.\n",
        "\n",
        "\n",
        "\n",
        "\n",
        "\n",
        "\n",
        "\n"
      ],
      "metadata": {
        "id": "_kP806xF0Hng"
      }
    },
    {
      "cell_type": "code",
      "source": [
        "fruit_count = {'apple': 5, 'banana': 3, 'orange': 8}\n",
        "num_items = len(fruit_count)\n",
        "has_apple = 'apple' in fruit_count\n",
        "no_grape = 'grape' not in fruit_count\n",
        "print(has_apple,no_grape)"
      ],
      "metadata": {
        "colab": {
          "base_uri": "https://localhost:8080/"
        },
        "id": "_GoIoQHV0Hng",
        "outputId": "2b340479-0543-4302-810c-905c26493aa1"
      },
      "execution_count": 27,
      "outputs": [
        {
          "output_type": "stream",
          "name": "stdout",
          "text": [
            "True True\n"
          ]
        }
      ]
    },
    {
      "cell_type": "code",
      "source": [],
      "metadata": {
        "id": "twgs1B_E0Hng"
      },
      "execution_count": null,
      "outputs": []
    },
    {
      "cell_type": "markdown",
      "source": [
        "\n",
        "\n",
        "> 1.4.6.Dictionary Manipulation:\n",
        "- my_dict.keys(): Returns a view of all keys in the dictionary.\n",
        "- my_dict.values(): Returns a view of all values in the dictionary.\n",
        "- my_dict.items(): Returns a view of all key-value pairs in the dictionary.\n",
        "\n",
        "\n",
        "\n",
        "\n",
        "\n",
        "\n",
        "\n",
        "\n"
      ],
      "metadata": {
        "id": "mNH0T_2o0Hng"
      }
    },
    {
      "cell_type": "code",
      "source": [
        "grades = {'math': 90, 'science': 85, 'history': 75}\n",
        "subjects = grades.keys()\n",
        "scores = grades.values()\n",
        "subject_scores = grades.items()\n",
        "print(subjects, scores, subject_scores)"
      ],
      "metadata": {
        "colab": {
          "base_uri": "https://localhost:8080/"
        },
        "id": "EwmRBhBh0Hng",
        "outputId": "aa2846dd-60bc-4dd0-cc75-2e81c90c6368"
      },
      "execution_count": 28,
      "outputs": [
        {
          "output_type": "stream",
          "name": "stdout",
          "text": [
            "dict_keys(['math', 'science', 'history']) dict_values([90, 85, 75]) dict_items([('math', 90), ('science', 85), ('history', 75)])\n"
          ]
        }
      ]
    },
    {
      "cell_type": "markdown",
      "source": [
        "\n",
        "\n",
        "> 1.4.7. Dictionary Comprehension:\n",
        "   - `{key_expr: value_expr for item in iterable}`: Creates a dictionary using comprehension.\n",
        "\n",
        "\n",
        "\n",
        "\n",
        "\n",
        "\n",
        "\n",
        "\n"
      ],
      "metadata": {
        "id": "MMhQJ2rd0Hng"
      }
    },
    {
      "cell_type": "code",
      "source": [
        "numbers = [1, 2, 3, 4, 5]\n",
        "squared_dict = {x: x**2 for x in numbers}\n",
        "even_numbers_dict = {x: x for x in numbers if x % 2 == 0}\n",
        "print(even_numbers_dict)\n"
      ],
      "metadata": {
        "colab": {
          "base_uri": "https://localhost:8080/"
        },
        "outputId": "00aa1a00-5cb7-4274-fc52-4182b357dc01",
        "id": "NOGkHPoh0Hnh"
      },
      "execution_count": 29,
      "outputs": [
        {
          "output_type": "stream",
          "name": "stdout",
          "text": [
            "{2: 2, 4: 4}\n"
          ]
        }
      ]
    },
    {
      "cell_type": "markdown",
      "source": [
        "\n",
        "\n",
        "> 1.4.8. Nested Dictionaries:\n",
        "   - Dictionaries can be nested within other dictionaries.\n",
        "\n",
        "\n",
        "\n",
        "\n",
        "\n",
        "\n",
        "\n",
        "\n"
      ],
      "metadata": {
        "id": "eUrjg4nj0Hnh"
      }
    },
    {
      "cell_type": "code",
      "source": [
        "nested_dict = {'person': {'name': 'Alice', 'age': 25, 'address': {'city': 'Paris', 'zipcode': '75001'}}}\n",
        "print(nested_dict)"
      ],
      "metadata": {
        "colab": {
          "base_uri": "https://localhost:8080/"
        },
        "id": "9CTJJwO520Yc",
        "outputId": "ecf11baa-0f41-470e-f64f-9b5c0b805504"
      },
      "execution_count": 30,
      "outputs": [
        {
          "output_type": "stream",
          "name": "stdout",
          "text": [
            "{'person': {'name': 'Alice', 'age': 25, 'address': {'city': 'Paris', 'zipcode': '75001'}}}\n"
          ]
        }
      ]
    },
    {
      "cell_type": "markdown",
      "source": [
        "# 2. Python Helper Functions\n",
        "\n",
        ">***2.1 Lamda Functions*** :\n"
      ],
      "metadata": {
        "id": "5VoFA7biEePR"
      }
    },
    {
      "cell_type": "markdown",
      "source": [
        "\n",
        "\n",
        "> 2.1.1. Basic Lambda Functions:\n",
        "   - Define a lambda function to add two numbers.\n",
        "\n",
        "\n",
        "\n",
        "\n",
        "\n",
        "\n",
        "\n",
        "\n",
        "\n"
      ],
      "metadata": {
        "id": "0C4zESD4E2Lm"
      }
    },
    {
      "cell_type": "code",
      "source": [
        "x, y = 1, 3\n",
        "add = lambda x, y: x + y"
      ],
      "metadata": {
        "id": "Q0Mjas6tDJhi"
      },
      "execution_count": null,
      "outputs": []
    },
    {
      "cell_type": "markdown",
      "source": [
        "\n",
        "\n",
        "> 2.1.2. Filtering with Lambda Functions:\n",
        "\n",
        "\n",
        "\n",
        "\n",
        "\n",
        "\n",
        "\n",
        "\n",
        "\n",
        "\n"
      ],
      "metadata": {
        "id": "6Gp1NssFT77b"
      }
    },
    {
      "cell_type": "code",
      "source": [
        "   numbers = [1, 2, 3, 4, 5, 6]\n",
        "   even_numbers = list(filter(lambda x: x % 2 == 0, numbers))"
      ],
      "metadata": {
        "id": "qKZHmYjvFFOU"
      },
      "execution_count": null,
      "outputs": []
    },
    {
      "cell_type": "markdown",
      "source": [
        "\n",
        "\n",
        "> 2.1.3. Mapping with Lambda Functions:\n",
        "\n",
        "\n",
        "\n",
        "\n",
        "\n",
        "\n",
        "\n",
        "\n",
        "\n",
        "\n"
      ],
      "metadata": {
        "id": "Vk2JzjKGUKjz"
      }
    },
    {
      "cell_type": "code",
      "source": [
        "   numbers = [1, 2, 3, 4, 5]\n",
        "   squared_numbers = list(map(lambda x: x**2, numbers))\n"
      ],
      "metadata": {
        "id": "EJbjnCFgUINv"
      },
      "execution_count": null,
      "outputs": []
    },
    {
      "cell_type": "markdown",
      "source": [
        "\n",
        "\n",
        "> 2.1.4. Sorting with Lambda Functions:\n",
        "- Sort a list of tuples based on the second element using a lambda function.\n",
        "\n",
        "\n",
        "\n",
        "\n",
        "\n",
        "\n",
        "\n",
        "\n",
        "\n",
        "\n"
      ],
      "metadata": {
        "id": "AaYK9tgMUbRb"
      }
    },
    {
      "cell_type": "code",
      "source": [
        "   data = [(1, 4), (2, 3), (3, 1), (4, 2)]\n",
        "   sorted_data = sorted(data, key=lambda x: x[1])\n"
      ],
      "metadata": {
        "id": "7FJfdQ8cUUQ-"
      },
      "execution_count": null,
      "outputs": []
    },
    {
      "cell_type": "markdown",
      "source": [
        "\n",
        "\n",
        "> 2.1.5. Lambda Functions with Conditional Logic:\n",
        "- Use a lambda function to return 'Even' for even numbers and 'Odd' for odd numbers.\n",
        "\n",
        "\n",
        "\n",
        "\n",
        "\n",
        "\n",
        "\n",
        "\n",
        "\n",
        "\n"
      ],
      "metadata": {
        "id": "Wso_guzjUr8v"
      }
    },
    {
      "cell_type": "code",
      "source": [
        "classify = lambda x: 'Even' if x % 2 == 0 else 'Odd'"
      ],
      "metadata": {
        "id": "yK1w2JQWUmyQ"
      },
      "execution_count": null,
      "outputs": []
    },
    {
      "cell_type": "markdown",
      "source": [
        "\n",
        "\n",
        "> 2.1.6. Multiple Arguments in Lambda Functions:\n",
        "- Define a lambda function that takes three numbers and returns their product.\n",
        "\n",
        "\n",
        "\n",
        "\n",
        "\n",
        "\n",
        "\n",
        "\n",
        "\n",
        "\n"
      ],
      "metadata": {
        "id": "ukP608fSU5rt"
      }
    },
    {
      "cell_type": "code",
      "source": [
        "multiply = lambda x, y, z: x * y * z"
      ],
      "metadata": {
        "id": "4jmWr6XKU4Ue"
      },
      "execution_count": null,
      "outputs": []
    },
    {
      "cell_type": "markdown",
      "source": [
        "\n",
        "\n",
        "> 2.1.7. Lambda Functions in Key Functions:\n",
        "- Sort a list of dictionaries based on a specific key using a lambda function.\n",
        "\n",
        "\n",
        "\n",
        "\n",
        "\n",
        "\n",
        "\n",
        "\n",
        "\n",
        "\n"
      ],
      "metadata": {
        "id": "LqzyrzGsVLDI"
      }
    },
    {
      "cell_type": "code",
      "source": [
        "   data = [{'name': 'Alice', 'age': 30}, {'name': 'Bob', 'age': 25}, {'name': 'Charlie', 'age': 35}]\n",
        "   sorted_data = sorted(data, key=lambda x: x['age'])\n"
      ],
      "metadata": {
        "id": "gDHTUKHiVFw8"
      },
      "execution_count": null,
      "outputs": []
    },
    {
      "cell_type": "markdown",
      "source": [
        "\n",
        "\n",
        "> 2.1.8. Combining Lambda Functions with Higher-Order Functions:\n",
        "- Use a lambda function and the `reduce` function to find the product of all elements in a list.\n",
        "\n",
        "\n",
        "\n",
        "\n",
        "\n",
        "\n",
        "\n",
        "\n",
        "\n",
        "\n"
      ],
      "metadata": {
        "id": "riR9FGYnVaL_"
      }
    },
    {
      "cell_type": "code",
      "source": [
        "   from functools import reduce\n",
        "   numbers = [1, 2, 3, 4, 5]\n",
        "   product = reduce(lambda x, y: x * y, numbers)\n",
        "   print(product)"
      ],
      "metadata": {
        "colab": {
          "base_uri": "https://localhost:8080/"
        },
        "id": "30aJ7cnzVXKk",
        "outputId": "d010691b-3186-4d49-d6e7-6c120fe44d65"
      },
      "execution_count": null,
      "outputs": [
        {
          "output_type": "stream",
          "name": "stdout",
          "text": [
            "120\n"
          ]
        }
      ]
    },
    {
      "cell_type": "markdown",
      "source": [
        "\n",
        "\n",
        "> 2.1.9. Lambda Functions for String Manipulation:\n",
        "- Create a lambda function to reverse a string.\n",
        "\n",
        "\n",
        "\n",
        "\n",
        "\n",
        "\n",
        "\n",
        "\n",
        "\n",
        "\n"
      ],
      "metadata": {
        "id": "3IqWXPJmWFlx"
      }
    },
    {
      "cell_type": "code",
      "source": [
        "reverse_string = lambda s: s[::-1]"
      ],
      "metadata": {
        "id": "OlxSYkG1Vn93"
      },
      "execution_count": null,
      "outputs": []
    },
    {
      "cell_type": "markdown",
      "source": [
        "\n",
        "\n",
        "> 2.1.10. Lambda Functions with Default Arguments:\n",
        "- Define a lambda function that calculates the sum of two numbers, with a default value of 0 for the second number.\n",
        "\n",
        "\n",
        "\n",
        "\n",
        "\n",
        "\n",
        "\n",
        "\n",
        "\n",
        "\n"
      ],
      "metadata": {
        "id": "R8zcdVEGWUlz"
      }
    },
    {
      "cell_type": "code",
      "source": [
        "add = lambda x, y=0: x + y"
      ],
      "metadata": {
        "id": "Bx8HG4yIWRpG"
      },
      "execution_count": null,
      "outputs": []
    },
    {
      "cell_type": "markdown",
      "source": [
        "\n",
        ">***2.2 Filter Functions*** :\n"
      ],
      "metadata": {
        "id": "HcIeEd2jXA46"
      }
    },
    {
      "cell_type": "markdown",
      "source": [
        "\n",
        "\n",
        "> 2.2.1. Filtering Even or Odd Numbers:\n",
        "\n",
        "\n",
        "\n",
        "\n",
        "\n",
        "\n",
        "\n",
        "\n",
        "\n",
        "\n"
      ],
      "metadata": {
        "id": "01PRxoe7WrXz"
      }
    },
    {
      "cell_type": "code",
      "source": [
        "   numbers = [1, 2, 3, 4, 5, 6]\n",
        "   even_numbers = list(filter(lambda x: x % 2 == 0, numbers))\n"
      ],
      "metadata": {
        "id": "41h0JvLRWrX5"
      },
      "execution_count": null,
      "outputs": []
    },
    {
      "cell_type": "markdown",
      "source": [
        "\n",
        "\n",
        "> 2.2.2. Filtering Non-Empty Strings:\n",
        "- Use `filter()` to extract non-empty strings from a list of strings.\n",
        "\n",
        "\n",
        "\n",
        "\n",
        "\n",
        "\n",
        "\n",
        "\n",
        "\n",
        "\n"
      ],
      "metadata": {
        "id": "1WNeT4rTWrX5"
      }
    },
    {
      "cell_type": "code",
      "source": [
        "   words = ['', 'hello', '', 'world', '']\n",
        "   non_empty_words = list(filter(lambda x: len(x) > 0, words))\n",
        "   print(non_empty_words)"
      ],
      "metadata": {
        "colab": {
          "base_uri": "https://localhost:8080/"
        },
        "id": "MmM39GzTWrX5",
        "outputId": "e643ca14-8e2c-4ec1-a75a-d5c869754e41"
      },
      "execution_count": null,
      "outputs": [
        {
          "output_type": "stream",
          "name": "stdout",
          "text": [
            "['hello', 'world']\n"
          ]
        }
      ]
    },
    {
      "cell_type": "markdown",
      "source": [
        "\n",
        "\n",
        "> 2.2.3. Filtering Positive or Negative Numbers:\n",
        "-  Use `filter()` to separate positive or negative numbers from a list.\n",
        "\n",
        "\n",
        "\n",
        "\n",
        "\n",
        "\n",
        "\n",
        "\n",
        "\n",
        "\n"
      ],
      "metadata": {
        "id": "f6muHJMDWrX5"
      }
    },
    {
      "cell_type": "code",
      "source": [
        "   numbers = [-2, 5, -8, 10, -12]\n",
        "   positive_numbers = list(filter(lambda x: x > 0, numbers))\n",
        "   print(positive_numbers)"
      ],
      "metadata": {
        "colab": {
          "base_uri": "https://localhost:8080/"
        },
        "id": "kGOAYaxxWrX5",
        "outputId": "95d0681c-0e8b-47c4-d33c-d08775f559e9"
      },
      "execution_count": null,
      "outputs": [
        {
          "output_type": "stream",
          "name": "stdout",
          "text": [
            "[5, 10]\n"
          ]
        }
      ]
    },
    {
      "cell_type": "markdown",
      "source": [
        "\n",
        "\n",
        "> 2.2.4. Sorting with Lambda Functions:\n",
        "- Use `filter()` to extract strings of a specific length from a list..\n",
        "\n",
        "\n",
        "\n",
        "\n",
        "\n",
        "\n",
        "\n",
        "\n",
        "\n"
      ],
      "metadata": {
        "id": "mA9nYY3gWrX5"
      }
    },
    {
      "cell_type": "code",
      "source": [
        "   words = ['apple', 'banana', 'kiwi', 'grape']\n",
        "   short_words = list(filter(lambda x: len(x) < 5, words))\n",
        "   print(short_words)"
      ],
      "metadata": {
        "colab": {
          "base_uri": "https://localhost:8080/"
        },
        "id": "NIbAthRaWrX5",
        "outputId": "794b6028-cf7b-4c2c-8630-5632e7fc870c"
      },
      "execution_count": null,
      "outputs": [
        {
          "output_type": "stream",
          "name": "stdout",
          "text": [
            "['kiwi']\n"
          ]
        }
      ]
    },
    {
      "cell_type": "markdown",
      "source": [
        "\n",
        "\n",
        "> 2.2.5. Filtering Prime Numbers:\n",
        "- Use `filter()` to find prime numbers from a list of integers.\n",
        "\n",
        "\n",
        "\n",
        "\n",
        "\n",
        "\n",
        "\n",
        "\n",
        "\n",
        "\n"
      ],
      "metadata": {
        "id": "d3j6fix0WrX5"
      }
    },
    {
      "cell_type": "code",
      "source": [
        "   def is_prime(n):\n",
        "       if n <= 1:\n",
        "           return False\n",
        "       for i in range(2, int(n**0.5) + 1):\n",
        "           if n % i == 0:\n",
        "               return False\n",
        "       return True\n",
        "\n",
        "   numbers = [2, 3, 4, 5, 6, 7, 8, 9, 10]\n",
        "   prime_numbers = list(filter(is_prime, numbers))\n",
        "   print(prime_numbers)"
      ],
      "metadata": {
        "colab": {
          "base_uri": "https://localhost:8080/"
        },
        "id": "8pC1cAE9WrX6",
        "outputId": "75d33c9e-0176-4df1-cb97-9b2c6fecca4c"
      },
      "execution_count": null,
      "outputs": [
        {
          "output_type": "stream",
          "name": "stdout",
          "text": [
            "[2, 3, 5, 7]\n"
          ]
        }
      ]
    },
    {
      "cell_type": "markdown",
      "source": [
        "\n",
        "\n",
        "> 2.2.6. Filtering by Custom Criteria:\n",
        "-    Use `filter()` to filter elements based on a custom condition.\n",
        "\n",
        "\n",
        "\n",
        "\n",
        "\n",
        "\n",
        "\n",
        "\n",
        "\n",
        "\n"
      ],
      "metadata": {
        "id": "AqBdxfzYWrX6"
      }
    },
    {
      "cell_type": "code",
      "source": [
        "   data = [{'name': 'Alice', 'age': 30}, {'name': 'Bob', 'age': 25}, {'name': 'Charlie', 'age': 35}]\n",
        "   adults = list(filter(lambda x: x['age'] >= 30, data))\n",
        "   print(adults)"
      ],
      "metadata": {
        "colab": {
          "base_uri": "https://localhost:8080/"
        },
        "id": "OWSVOIejWrX6",
        "outputId": "93103b27-05fc-4a6b-eb6a-b3784cc99909"
      },
      "execution_count": null,
      "outputs": [
        {
          "output_type": "stream",
          "name": "stdout",
          "text": [
            "[{'name': 'Alice', 'age': 30}, {'name': 'Charlie', 'age': 35}]\n"
          ]
        }
      ]
    },
    {
      "cell_type": "markdown",
      "source": [
        "\n",
        "\n",
        "> 2.2.7. Removing Duplicates from a List:\n",
        "- Use `filter()` to remove duplicates from a list.\n",
        "\n",
        "\n",
        "\n",
        "\n",
        "\n",
        "\n",
        "\n",
        "\n",
        "\n",
        "\n"
      ],
      "metadata": {
        "id": "HqhrbsyEWrX6"
      }
    },
    {
      "cell_type": "code",
      "source": [
        "   numbers = [1, 2, 2, 3, 4, 4, 5]\n",
        "   unique_numbers = list(filter(lambda x: numbers.count(x) == 1, numbers))\n",
        "   print(unique_numbers)"
      ],
      "metadata": {
        "colab": {
          "base_uri": "https://localhost:8080/"
        },
        "id": "pHQebm5iWrX6",
        "outputId": "8e4a7127-f22e-4095-ad1c-7daf6984d999"
      },
      "execution_count": null,
      "outputs": [
        {
          "output_type": "stream",
          "name": "stdout",
          "text": [
            "[1, 3, 5]\n"
          ]
        }
      ]
    },
    {
      "cell_type": "markdown",
      "source": [
        "\n",
        "\n",
        "> 2.2.8. Filtering Based on Element Type:\n",
        "- Use `filter()` to extract elements of a specific data type from a mixed-type list.\n",
        "\n",
        "\n",
        "\n",
        "\n",
        "\n",
        "\n",
        "\n",
        "\n",
        "\n",
        "\n"
      ],
      "metadata": {
        "id": "hxMpRrJxWrX6"
      }
    },
    {
      "cell_type": "code",
      "source": [
        "   data = [1, 'apple', 2.5, 'banana', 3, 'cherry']\n",
        "   integers = list(filter(lambda x: isinstance(x, int), data))\n",
        "   print(integers)"
      ],
      "metadata": {
        "colab": {
          "base_uri": "https://localhost:8080/"
        },
        "outputId": "50cb2f73-4f40-49d9-8299-52658a88fc0f",
        "id": "PsuqQeL2WrX6"
      },
      "execution_count": null,
      "outputs": [
        {
          "output_type": "stream",
          "name": "stdout",
          "text": [
            "[1, 3]\n"
          ]
        }
      ]
    },
    {
      "cell_type": "markdown",
      "source": [
        "\n",
        "\n",
        "> 2.2.9. Filtering Using External Functions:\n",
        "- Use `filter()` with a custom function to filter elements.\n",
        "\n",
        "\n",
        "\n",
        "\n",
        "\n",
        "\n",
        "\n",
        "\n",
        "\n",
        "\n"
      ],
      "metadata": {
        "id": "HkmZxIMVWrX6"
      }
    },
    {
      "cell_type": "code",
      "source": [
        "   def starts_with_a(word):\n",
        "       return word.startswith('a')\n",
        "\n",
        "   words = ['apple', 'banana', 'kiwi', 'grape']\n",
        "   a_words = list(filter(starts_with_a, words))\n",
        "   print(a_words)"
      ],
      "metadata": {
        "colab": {
          "base_uri": "https://localhost:8080/"
        },
        "id": "EWx4jy3GWrX6",
        "outputId": "82112d4d-15b5-410b-a168-eecaa6b53329"
      },
      "execution_count": null,
      "outputs": [
        {
          "output_type": "stream",
          "name": "stdout",
          "text": [
            "['apple']\n"
          ]
        }
      ]
    },
    {
      "cell_type": "markdown",
      "source": [
        "\n",
        ">***2.3 Map Functions*** :\n"
      ],
      "metadata": {
        "id": "DjekCZfP4olw"
      }
    },
    {
      "cell_type": "markdown",
      "source": [
        "\n",
        "\n",
        "> 2.3.1. Mapping to Square Elements:\n",
        "- Use `map()` to square each element in a list of numbers.\n",
        "\n",
        "\n",
        "\n",
        "\n",
        "\n",
        "\n",
        "\n",
        "\n",
        "\n",
        "\n"
      ],
      "metadata": {
        "id": "cP7MPaiX4olx"
      }
    },
    {
      "cell_type": "code",
      "source": [
        "   numbers = [1, 2, 3, 4, 5]\n",
        "   squared_numbers = list(map(lambda x: x**2, numbers))\n",
        "   print(squared_numbers)"
      ],
      "metadata": {
        "colab": {
          "base_uri": "https://localhost:8080/"
        },
        "id": "a9qPEYfh4olx",
        "outputId": "59f5d203-13ad-4939-e953-b9f4d9dc4de3"
      },
      "execution_count": null,
      "outputs": [
        {
          "output_type": "stream",
          "name": "stdout",
          "text": [
            "[1, 4, 9, 16, 25]\n"
          ]
        }
      ]
    },
    {
      "cell_type": "markdown",
      "source": [
        "\n",
        "\n",
        "> 2.3.2. Mapping to Uppercase Strings:\n",
        "- Use `map()` to convert a list of strings to uppercase.\n",
        "\n",
        "\n",
        "\n",
        "\n",
        "\n",
        "\n",
        "\n",
        "\n",
        "\n",
        "\n"
      ],
      "metadata": {
        "id": "HxRf415w4oly"
      }
    },
    {
      "cell_type": "code",
      "source": [
        "   words = ['apple', 'banana', 'kiwi']\n",
        "   uppercase_words = list(map(lambda x: x.upper(), words))\n",
        "   print(uppercase_words)"
      ],
      "metadata": {
        "colab": {
          "base_uri": "https://localhost:8080/"
        },
        "outputId": "2afc74f7-5827-4fea-cd74-91e93ab7d18d",
        "id": "vP5sQ1DA4oly"
      },
      "execution_count": null,
      "outputs": [
        {
          "output_type": "stream",
          "name": "stdout",
          "text": [
            "['APPLE', 'BANANA', 'KIWI']\n"
          ]
        }
      ]
    },
    {
      "cell_type": "markdown",
      "source": [
        "\n",
        "\n",
        "> 2.3.3. Mapping to Custom Transformation:\n",
        "-  Use `map()` with a custom function to transform elements in a list.\n",
        "\n",
        "\n",
        "\n",
        "\n",
        "\n",
        "\n",
        "\n",
        "\n",
        "\n",
        "\n"
      ],
      "metadata": {
        "id": "po90MFRk4oly"
      }
    },
    {
      "cell_type": "code",
      "source": [
        "def double(x):\n",
        "       return x * 2\n",
        "\n",
        "numbers = [1, 2, 3, 4]\n",
        "doubled_numbers = list(map(double, numbers))\n",
        "\n",
        "print(positive_numbers)"
      ],
      "metadata": {
        "colab": {
          "base_uri": "https://localhost:8080/"
        },
        "outputId": "c7b44a42-1d70-4a28-f15f-8a441ecdaad7",
        "id": "Kk2eeGnN4oly"
      },
      "execution_count": null,
      "outputs": [
        {
          "output_type": "stream",
          "name": "stdout",
          "text": [
            "[5, 10]\n"
          ]
        }
      ]
    },
    {
      "cell_type": "markdown",
      "source": [
        "\n",
        "\n",
        "> 2.3.4. Mapping to Another Data Type:\n",
        "- Use `map()` to convert elements from one data type to another.\n",
        "\n",
        "\n",
        "\n",
        "\n",
        "\n",
        "\n",
        "\n",
        "\n",
        "\n"
      ],
      "metadata": {
        "id": "aFuvV0Xn4oly"
      }
    },
    {
      "cell_type": "code",
      "source": [
        "   numbers = ['1', '2', '3', '4']\n",
        "   integers = list(map(int, numbers))\n",
        "   print(integers)"
      ],
      "metadata": {
        "colab": {
          "base_uri": "https://localhost:8080/"
        },
        "outputId": "efc0c61a-b78a-4eaa-ac83-09eab74a542d",
        "id": "Tqtqk3WI4oly"
      },
      "execution_count": null,
      "outputs": [
        {
          "output_type": "stream",
          "name": "stdout",
          "text": [
            "[1, 2, 3, 4]\n"
          ]
        }
      ]
    },
    {
      "cell_type": "markdown",
      "source": [
        "\n",
        "\n",
        "> 2.3.5. Mapping with Multiple Iterables:\n",
        "- Use `map()` with multiple iterables to combine elements.\n",
        "\n",
        "\n",
        "\n",
        "\n",
        "\n",
        "\n",
        "\n",
        "\n",
        "\n",
        "\n"
      ],
      "metadata": {
        "id": "lTvU49kH4olz"
      }
    },
    {
      "cell_type": "code",
      "source": [
        "   list1 = [1, 2, 3]\n",
        "   list2 = [10, 20, 30]\n",
        "   combined = list(map(lambda x, y: x + y, list1, list2))\n",
        "\n",
        "   print(combined)"
      ],
      "metadata": {
        "colab": {
          "base_uri": "https://localhost:8080/"
        },
        "outputId": "51b15e9e-adbd-4f2d-eaa7-bea944bf4cd9",
        "id": "71HvjYzm4olz"
      },
      "execution_count": null,
      "outputs": [
        {
          "output_type": "stream",
          "name": "stdout",
          "text": [
            "[11, 22, 33]\n"
          ]
        }
      ]
    },
    {
      "cell_type": "markdown",
      "source": [
        "\n",
        "\n",
        "> 2.3.6.Mapping to Complex Data Structures:\n",
        "-    Use `map()` to transform elements in a list of dictionaries.\n",
        "\n",
        "\n",
        "\n",
        "\n",
        "\n",
        "\n",
        "\n",
        "\n",
        "\n",
        "\n"
      ],
      "metadata": {
        "id": "WzgJMAHo4olz"
      }
    },
    {
      "cell_type": "code",
      "source": [
        "   data = [{'name': 'Alice', 'score': 85}, {'name': 'Bob', 'score': 92}]\n",
        "   updated_data = list(map(lambda x: {'name': x['name'], 'adjusted_score': x['score'] + 5}, data))\n",
        "   print(updated_data)"
      ],
      "metadata": {
        "colab": {
          "base_uri": "https://localhost:8080/"
        },
        "outputId": "b7e1628c-2fcd-42e1-b924-a0882709efa3",
        "id": "jP1Er0Ct4olz"
      },
      "execution_count": null,
      "outputs": [
        {
          "output_type": "stream",
          "name": "stdout",
          "text": [
            "[{'name': 'Alice', 'adjusted_score': 90}, {'name': 'Bob', 'adjusted_score': 97}]\n"
          ]
        }
      ]
    },
    {
      "cell_type": "markdown",
      "source": [
        "\n",
        "\n",
        "> 2.3.7. Mapping with Default Values:\n",
        "- Use `map()` with a function that provides default values..\n",
        "\n",
        "\n",
        "\n",
        "\n",
        "\n",
        "\n",
        "\n",
        "\n",
        "\n",
        "\n"
      ],
      "metadata": {
        "id": "sJOuXSFL4olz"
      }
    },
    {
      "cell_type": "code",
      "source": [
        "   def increment_or_default(x, default=1):\n",
        "       return x + default\n",
        "\n",
        "   numbers = [1, 2, 3, 4]\n",
        "   incremented_numbers = list(map(lambda x: increment_or_default(x, default=5), numbers))\n",
        "\n",
        "   print(incremented_numbers)"
      ],
      "metadata": {
        "colab": {
          "base_uri": "https://localhost:8080/"
        },
        "outputId": "bd631de7-6866-4f2d-ad07-79d9e3c5d298",
        "id": "WdEZwWgu4olz"
      },
      "execution_count": null,
      "outputs": [
        {
          "output_type": "stream",
          "name": "stdout",
          "text": [
            "[6, 7, 8, 9]\n"
          ]
        }
      ]
    },
    {
      "cell_type": "markdown",
      "source": [
        "\n",
        "\n",
        "> 2.3.8. Mapping to Boolean Values:\n",
        "-    Use `map()` to apply a function that returns boolean values.\n",
        "\n",
        "\n",
        "\n",
        "\n",
        "\n",
        "\n",
        "\n",
        "\n",
        "\n",
        "\n"
      ],
      "metadata": {
        "id": "EJLTFbg64ol0"
      }
    },
    {
      "cell_type": "code",
      "source": [
        "   numbers = [10, 20, 30, 40, 50]\n",
        "   is_greater_than_30 = list(map(lambda x: x > 30, numbers))\n",
        "\n",
        "   print(is_greater_than_30)"
      ],
      "metadata": {
        "colab": {
          "base_uri": "https://localhost:8080/"
        },
        "outputId": "46c00fdb-fdde-40d0-f6f1-3e4ea6eb46c0",
        "id": "PMPJ8v1E4ol0"
      },
      "execution_count": null,
      "outputs": [
        {
          "output_type": "stream",
          "name": "stdout",
          "text": [
            "[False, False, False, True, True]\n"
          ]
        }
      ]
    },
    {
      "cell_type": "markdown",
      "source": [
        "\n",
        "\n",
        "> 2.3.9. Mapping to None (Filtering):\n",
        "-    Use `map()` to apply a function that filters elements and returns `None` for unwanted items.\n",
        "\n",
        "\n",
        "\n",
        "\n",
        "\n",
        "\n",
        "\n",
        "\n",
        "\n",
        "\n"
      ],
      "metadata": {
        "id": "6bw7L6UX4ol0"
      }
    },
    {
      "cell_type": "code",
      "source": [
        "   numbers = [1, 2, 3, 4, 5]\n",
        "   filtered_numbers = list(map(lambda x: x if x % 2 == 0 else None, numbers))\n",
        "\n",
        "   print(filtered_numbers)"
      ],
      "metadata": {
        "colab": {
          "base_uri": "https://localhost:8080/"
        },
        "outputId": "703c18d0-4860-48e5-c09d-6cb7a094a280",
        "id": "MoHfK3lP4ol0"
      },
      "execution_count": null,
      "outputs": [
        {
          "output_type": "stream",
          "name": "stdout",
          "text": [
            "[None, 2, None, 4, None]\n"
          ]
        }
      ]
    },
    {
      "cell_type": "markdown",
      "source": [
        "\n",
        "\n",
        "> 2.3.10. Mapping to Complex Objects:\n",
        "-     Use `map()` to create complex objects or instances based on simple input data.\n",
        "\n",
        "\n",
        "\n",
        "\n",
        "\n",
        "\n",
        "\n",
        "\n",
        "\n",
        "\n"
      ],
      "metadata": {
        "id": "S4R-1XIr7JD9"
      }
    },
    {
      "cell_type": "code",
      "source": [
        "data = ['Alice', 'Bob', 'Charlie']\n",
        "objects = list(map(lambda x: {'name': x, 'age': len(x) * 10}, data))\n",
        "print(objects)"
      ],
      "metadata": {
        "colab": {
          "base_uri": "https://localhost:8080/"
        },
        "outputId": "3cc21b8f-6a7e-4b76-a13f-3c8d8ca3857d",
        "id": "-gANWeKV7JED"
      },
      "execution_count": null,
      "outputs": [
        {
          "output_type": "stream",
          "name": "stdout",
          "text": [
            "[{'name': 'Alice', 'age': 50}, {'name': 'Bob', 'age': 30}, {'name': 'Charlie', 'age': 70}]\n"
          ]
        }
      ]
    },
    {
      "cell_type": "markdown",
      "source": [
        "# 3. Python Librariess\n",
        "\n",
        ">***3.1 Numpy*** :\n"
      ],
      "metadata": {
        "id": "IzroUbVg-UF_"
      }
    },
    {
      "cell_type": "markdown",
      "source": [
        "*3.1.1. NumPy Arrays:*"
      ],
      "metadata": {
        "id": "KylLQqcHAIG-"
      }
    },
    {
      "cell_type": "markdown",
      "source": [
        "\n",
        "\n",
        "> 3.1.1.1.Creation of NumPy Arrays:\n",
        "   - NumPy arrays are the foundation of numerical computing in Python. They provide a fast and efficient way to store and manipulate data. Understanding how to create arrays is essential for working with NumPy.\n",
        "\n",
        "\n",
        "\n",
        "\n",
        "\n",
        "\n",
        "\n",
        "\n",
        "\n"
      ],
      "metadata": {
        "id": "TAcNzUyP-UGA"
      }
    },
    {
      "cell_type": "code",
      "source": [
        "import numpy as np\n",
        "\n",
        "# Creating a 1D array\n",
        "arr_1d = np.array([1, 2, 3, 4, 5])\n",
        "print(\"1D Array:\")\n",
        "print(arr_1d)\n",
        "\n",
        "# Creating a 2D array\n",
        "arr_2d = np.array([[1, 2, 3], [4, 5, 6], [7, 8, 9]])\n",
        "print(\"\\n2D Array:\")\n",
        "print(arr_2d)\n",
        "\n",
        "# Creating an array with zeros\n",
        "zeros_array = np.zeros((3, 4))\n",
        "print(\"\\nZeros Array:\")\n",
        "print(zeros_array)\n",
        "\n",
        "# Creating an array with ones\n",
        "ones_array = np.ones((2, 3))\n",
        "print(\"\\nOnes Array:\")\n",
        "print(ones_array)\n",
        "\n",
        "# Creating an array with a range of values\n",
        "range_array = np.arange(0, 10, 2)\n",
        "print(\"\\nRange Array:\")\n",
        "print(range_array)\n",
        "\n",
        "# Creating an array with evenly spaced values\n",
        "linspace_array = np.linspace(0, 1, 5)\n",
        "print(\"\\nLinspace Array:\")\n",
        "print(linspace_array)\n"
      ],
      "metadata": {
        "colab": {
          "base_uri": "https://localhost:8080/"
        },
        "id": "1choCpXz-UGA",
        "outputId": "708288f5-b03a-4508-8494-662230a1e420"
      },
      "execution_count": null,
      "outputs": [
        {
          "output_type": "stream",
          "name": "stdout",
          "text": [
            "1D Array:\n",
            "[1 2 3 4 5]\n",
            "\n",
            "2D Array:\n",
            "[[1 2 3]\n",
            " [4 5 6]\n",
            " [7 8 9]]\n",
            "\n",
            "Zeros Array:\n",
            "[[0. 0. 0. 0.]\n",
            " [0. 0. 0. 0.]\n",
            " [0. 0. 0. 0.]]\n",
            "\n",
            "Ones Array:\n",
            "[[1. 1. 1.]\n",
            " [1. 1. 1.]]\n",
            "\n",
            "Range Array:\n",
            "[0 2 4 6 8]\n",
            "\n",
            "Linspace Array:\n",
            "[0.   0.25 0.5  0.75 1.  ]\n"
          ]
        }
      ]
    },
    {
      "cell_type": "markdown",
      "source": [
        "\n",
        "\n",
        "> 3.1.1.2. Array Indexing and Slicing:\n",
        "- Indexing and slicing are fundamental operations when working with arrays. They allow you to access and manipulate specific elements or portions of an array.\n",
        "\n",
        "\n",
        "\n",
        "\n",
        "\n",
        "\n",
        "\n",
        "\n",
        "\n",
        "\n"
      ],
      "metadata": {
        "id": "EtdDwxXX-UGB"
      }
    },
    {
      "cell_type": "code",
      "source": [
        "# Accessing elements in a 1D array\n",
        "print(\"First element of arr_1d:\", arr_1d[0])\n",
        "print(\"Last element of arr_1d:\", arr_1d[-1])\n",
        "\n",
        "# Accessing elements in a 2D array\n",
        "print(\"\\nElement at row 2, column 1 of arr_2d:\", arr_2d[1, 0])\n",
        "\n",
        "# Slicing a 1D array\n",
        "print(\"\\nSliced arr_1d from index 1 to 3:\", arr_1d[1:4])\n",
        "\n",
        "# Slicing a 2D array\n",
        "print(\"\\nSliced arr_2d, extracting the subarray:\")\n",
        "print(arr_2d[:2, 1:])\n",
        "\n",
        "# Boolean indexing\n",
        "bool_index = arr_1d > 3\n",
        "print(\"\\nElements in arr_1d greater than 3:\", arr_1d[bool_index])\n"
      ],
      "metadata": {
        "colab": {
          "base_uri": "https://localhost:8080/"
        },
        "id": "wFaf9D8g-UGB",
        "outputId": "09173f02-61e7-4081-e7e7-a14aac757f0b"
      },
      "execution_count": null,
      "outputs": [
        {
          "output_type": "stream",
          "name": "stdout",
          "text": [
            "First element of arr_1d: 1\n",
            "Last element of arr_1d: 5\n",
            "\n",
            "Element at row 2, column 1 of arr_2d: 4\n",
            "\n",
            "Sliced arr_1d from index 1 to 3: [2 3 4]\n",
            "\n",
            "Sliced arr_2d, extracting the subarray:\n",
            "[[2 3]\n",
            " [5 6]]\n",
            "\n",
            "Elements in arr_1d greater than 3: [4 5]\n"
          ]
        }
      ]
    },
    {
      "cell_type": "markdown",
      "source": [
        "\n",
        "\n",
        "> 3.1.1.3. Array Operations and Broadcasting:\n",
        "- Array operations in NumPy are performed element-wise. Broadcasting allows operations on arrays of different shapes and sizes.\n",
        "\n",
        "\n",
        "\n",
        "\n",
        "\n",
        "\n",
        "\n",
        "\n",
        "\n",
        "\n"
      ],
      "metadata": {
        "id": "zbjbCTU1-UGB"
      }
    },
    {
      "cell_type": "code",
      "source": [
        "# Element-wise operations\n",
        "addition_result = arr_1d + 2\n",
        "print(\"arr_1d + 2:\", addition_result)\n",
        "\n",
        "# Array operations with two arrays\n",
        "arr_a = np.array([1, 2, 3])\n",
        "arr_b = np.array([4, 5, 6])\n",
        "multiplication_result = arr_a * arr_b\n",
        "print(\"\\narr_a * arr_b:\", multiplication_result)\n",
        "\n",
        "# Broadcasting\n",
        "broadcasted_result = arr_2d + np.array([10, 20, 30])\n",
        "print(\"\\narr_2d + [10, 20, 30]:\")\n",
        "print(broadcasted_result)\n"
      ],
      "metadata": {
        "colab": {
          "base_uri": "https://localhost:8080/"
        },
        "id": "v9f4LAQ_-UGB",
        "outputId": "25d5a71f-ec74-4a9b-fb3b-1954b8863e7f"
      },
      "execution_count": null,
      "outputs": [
        {
          "output_type": "stream",
          "name": "stdout",
          "text": [
            "arr_1d + 2: [3 4 5 6 7]\n",
            "\n",
            "arr_a * arr_b: [ 4 10 18]\n",
            "\n",
            "arr_2d + [10, 20, 30]:\n",
            "[[11 22 33]\n",
            " [14 25 36]\n",
            " [17 28 39]]\n"
          ]
        }
      ]
    },
    {
      "cell_type": "markdown",
      "source": [
        "\n",
        "\n",
        "> 3.1.1.4. Array Manipulation Functions:\n",
        "- NumPy provides various functions to manipulate arrays, such as reshaping, resizing, and flattening..\n",
        "\n",
        "\n",
        "\n",
        "\n",
        "\n",
        "\n",
        "\n",
        "\n",
        "\n",
        "\n"
      ],
      "metadata": {
        "id": "-E064dR7-UGB"
      }
    },
    {
      "cell_type": "code",
      "source": [
        "# Reshaping an array\n",
        "reshaped_array = arr_a.reshape((3, 1))\n",
        "print(\"Reshaped arr_a:\")\n",
        "print(reshaped_array)\n",
        "\n",
        "# Resizing an array\n",
        "resized_array = np.resize(arr_a, (2, 2))\n",
        "print(\"\\nResized arr_a:\")\n",
        "print(resized_array)\n",
        "\n",
        "# Flattening a 2D array\n",
        "flattened_array = arr_2d.flatten()\n",
        "print(\"\\nFlattened arr_2d:\")\n",
        "print(flattened_array)\n"
      ],
      "metadata": {
        "colab": {
          "base_uri": "https://localhost:8080/"
        },
        "id": "0wgH1gGH-UGC",
        "outputId": "cc9068e9-1825-4f2c-be21-0d4090409a99"
      },
      "execution_count": null,
      "outputs": [
        {
          "output_type": "stream",
          "name": "stdout",
          "text": [
            "Reshaped arr_a:\n",
            "[[1]\n",
            " [2]\n",
            " [3]]\n",
            "\n",
            "Resized arr_a:\n",
            "[[1 2]\n",
            " [3 1]]\n",
            "\n",
            "Flattened arr_2d:\n",
            "[1 2 3 4 5 6 7 8 9]\n"
          ]
        }
      ]
    },
    {
      "cell_type": "markdown",
      "source": [
        "*3.1.2. Universal Functions (ufuncs):Universal functions (ufuncs) in NumPy are functions that operate element-wise on arrays. They provide a convenient way to apply operations to each element of an array without the need for explicit looping. Understanding ufuncs is crucial for efficient numerical computation in NumPy.*"
      ],
      "metadata": {
        "id": "19Sgs2Y2A8E_"
      }
    },
    {
      "cell_type": "markdown",
      "source": [
        "\n",
        "\n",
        "> 3.1.2.1. Basic Arithmetic Operations:\n",
        "\n",
        "\n",
        "\n",
        "\n",
        "\n",
        "\n",
        "\n",
        "\n",
        "\n",
        "\n",
        "\n"
      ],
      "metadata": {
        "id": "iSbHsg-u-UGC"
      }
    },
    {
      "cell_type": "code",
      "source": [
        "import numpy as np\n",
        "\n",
        "# Addition\n",
        "arr_a = np.array([1, 2, 3])\n",
        "arr_b = np.array([4, 5, 6])\n",
        "add_result = np.add(arr_a, arr_b)\n",
        "print(\"Addition Result:\", add_result)\n",
        "\n",
        "# Subtraction\n",
        "subtract_result = np.subtract(arr_a, arr_b)\n",
        "print(\"Subtraction Result:\", subtract_result)\n",
        "\n",
        "# Multiplication\n",
        "multiply_result = np.multiply(arr_a, arr_b)\n",
        "print(\"Multiplication Result:\", multiply_result)\n",
        "\n",
        "# Division\n",
        "divide_result = np.divide(arr_a, arr_b)\n",
        "print(\"Division Result:\", divide_result)\n"
      ],
      "metadata": {
        "colab": {
          "base_uri": "https://localhost:8080/"
        },
        "id": "AoWvXvBy-UGC",
        "outputId": "68bb3018-569c-40cd-a523-f57471d50263"
      },
      "execution_count": null,
      "outputs": [
        {
          "output_type": "stream",
          "name": "stdout",
          "text": [
            "Addition Result: [5 7 9]\n",
            "Subtraction Result: [-3 -3 -3]\n",
            "Multiplication Result: [ 4 10 18]\n",
            "Division Result: [0.25 0.4  0.5 ]\n"
          ]
        }
      ]
    },
    {
      "cell_type": "markdown",
      "source": [
        "\n",
        "\n",
        "> 3.1.2.2. Trigonometric Functions:\n",
        "\n",
        "\n",
        "\n",
        "\n",
        "\n",
        "\n",
        "\n",
        "\n",
        "\n",
        "\n",
        "\n"
      ],
      "metadata": {
        "id": "95ndyEmp-UGC"
      }
    },
    {
      "cell_type": "code",
      "source": [
        "# Sine function\n",
        "angles = np.array([0, np.pi/2, np.pi])\n",
        "sin_result = np.sin(angles)\n",
        "print(\"Sine Result:\", sin_result)\n",
        "\n",
        "# Cosine function\n",
        "cos_result = np.cos(angles)\n",
        "print(\"Cosine Result:\", cos_result)\n",
        "\n",
        "# Tangent function\n",
        "tan_result = np.tan(angles)\n",
        "print(\"Tangent Result:\", tan_result)\n"
      ],
      "metadata": {
        "colab": {
          "base_uri": "https://localhost:8080/"
        },
        "id": "OTekNbUh-UGC",
        "outputId": "9c1ad82c-39f4-4546-c895-38e66dbcae92"
      },
      "execution_count": null,
      "outputs": [
        {
          "output_type": "stream",
          "name": "stdout",
          "text": [
            "Sine Result: [0.0000000e+00 1.0000000e+00 1.2246468e-16]\n",
            "Cosine Result: [ 1.000000e+00  6.123234e-17 -1.000000e+00]\n",
            "Tangent Result: [ 0.00000000e+00  1.63312394e+16 -1.22464680e-16]\n"
          ]
        }
      ]
    },
    {
      "cell_type": "markdown",
      "source": [
        "\n",
        "\n",
        "> 3.1.2.3.  Exponential and Logarithmic Functions:\n",
        "\n",
        "\n",
        "\n",
        "\n",
        "\n",
        "\n",
        "\n",
        "\n",
        "\n",
        "\n",
        "\n"
      ],
      "metadata": {
        "id": "x6K21GZw-UGC"
      }
    },
    {
      "cell_type": "code",
      "source": [
        "# Exponential function\n",
        "arr_exp = np.array([1, 2, 3])\n",
        "exp_result = np.exp(arr_exp)\n",
        "print(\"Exponential Result:\", exp_result)\n",
        "\n",
        "# Natural logarithm\n",
        "log_result = np.log(arr_exp)\n",
        "print(\"Natural Logarithm Result:\", log_result)\n",
        "\n",
        "# Base 10 logarithm\n",
        "log10_result = np.log10(arr_exp)\n",
        "print(\"Base 10 Logarithm Result:\", log10_result)\n"
      ],
      "metadata": {
        "colab": {
          "base_uri": "https://localhost:8080/"
        },
        "id": "s7ev0Y-N-UGC",
        "outputId": "7cc8a23a-bc31-4322-fadb-9c72dfbe7e51"
      },
      "execution_count": null,
      "outputs": [
        {
          "output_type": "stream",
          "name": "stdout",
          "text": [
            "Exponential Result: [ 2.71828183  7.3890561  20.08553692]\n",
            "Natural Logarithm Result: [0.         0.69314718 1.09861229]\n",
            "Base 10 Logarithm Result: [0.         0.30103    0.47712125]\n"
          ]
        }
      ]
    },
    {
      "cell_type": "markdown",
      "source": [
        "\n",
        "\n",
        "> 3.1.2.4. Aggregation Functions:\n",
        "\n",
        "\n",
        "\n",
        "\n",
        "\n",
        "\n",
        "\n",
        "\n",
        "\n",
        "\n",
        "\n"
      ],
      "metadata": {
        "id": "oAz3gBKn-UGD"
      }
    },
    {
      "cell_type": "code",
      "source": [
        "# Summation\n",
        "arr_sum = np.array([1, 2, 3, 4])\n",
        "sum_result = np.sum(arr_sum)\n",
        "print(\"Sum Result:\", sum_result)\n",
        "\n",
        "# Mean\n",
        "mean_result = np.mean(arr_sum)\n",
        "print(\"Mean Result:\", mean_result)\n",
        "\n",
        "# Maximum\n",
        "max_result = np.max(arr_sum)\n",
        "print(\"Maximum Result:\", max_result)\n",
        "\n",
        "# Minimum\n",
        "min_result = np.min(arr_sum)\n",
        "print(\"Minimum Result:\", min_result)\n"
      ],
      "metadata": {
        "colab": {
          "base_uri": "https://localhost:8080/"
        },
        "outputId": "40b52e93-f47e-456a-c27a-6352c3f1f547",
        "id": "2JWQdOcy-UGD"
      },
      "execution_count": null,
      "outputs": [
        {
          "output_type": "stream",
          "name": "stdout",
          "text": [
            "Sum Result: 10\n",
            "Mean Result: 2.5\n",
            "Maximum Result: 4\n",
            "Minimum Result: 1\n"
          ]
        }
      ]
    },
    {
      "cell_type": "markdown",
      "source": [
        "\n",
        "\n",
        "> 3.1.2.5. Comparison Functions:\n",
        "\n",
        "\n",
        "\n",
        "\n",
        "\n",
        "\n",
        "\n",
        "\n",
        "\n",
        "\n",
        "\n"
      ],
      "metadata": {
        "id": "AjDpJVp9-UGD"
      }
    },
    {
      "cell_type": "code",
      "source": [
        "# Greater than\n",
        "arr_gt = np.array([1, 2, 3])\n",
        "arr_lt = np.array([3, 2, 1])\n",
        "greater_than_result = np.greater(arr_gt, arr_lt)\n",
        "print(\"Greater Than Result:\", greater_than_result)\n",
        "\n",
        "# Equal\n",
        "equal_result = np.equal(arr_gt, arr_lt)\n",
        "print(\"Equal Result:\", equal_result)\n",
        "\n",
        "# Logical AND\n",
        "logical_and_result = np.logical_and(greater_than_result, equal_result)\n",
        "print(\"Logical AND Result:\", logical_and_result)\n"
      ],
      "metadata": {
        "colab": {
          "base_uri": "https://localhost:8080/"
        },
        "id": "yqsaYTwU-UGD",
        "outputId": "12460865-27fe-47cd-8ac6-5c52ec919c0f"
      },
      "execution_count": null,
      "outputs": [
        {
          "output_type": "stream",
          "name": "stdout",
          "text": [
            "Greater Than Result: [False False  True]\n",
            "Equal Result: [False  True False]\n",
            "Logical AND Result: [False False False]\n"
          ]
        }
      ]
    },
    {
      "cell_type": "markdown",
      "source": [
        "*3.1.3. Array Operations:*"
      ],
      "metadata": {
        "id": "oQFHACn9DXYq"
      }
    },
    {
      "cell_type": "markdown",
      "source": [
        "\n",
        "\n",
        "> 3.1.3.1.Array Arithmetic and Linear Algebra Operations:\n",
        "   \n",
        "\n",
        "\n",
        "\n",
        "\n",
        "\n",
        "\n",
        "\n",
        "\n",
        "\n"
      ],
      "metadata": {
        "id": "wU0IRzNQDXYr"
      }
    },
    {
      "cell_type": "markdown",
      "source": [
        "a. Array Arithmetic: NumPy provides a wide range of arithmetic operations that can be performed element-wise on arrays."
      ],
      "metadata": {
        "id": "NC0CpNHQEbDw"
      }
    },
    {
      "cell_type": "code",
      "source": [
        "import numpy as np\n",
        "\n",
        "# Array addition\n",
        "arr_a = np.array([1, 2, 3])\n",
        "arr_b = np.array([4, 5, 6])\n",
        "addition_result = arr_a + arr_b\n",
        "print(\"Array Addition Result:\", addition_result)\n",
        "\n",
        "# Array subtraction\n",
        "subtraction_result = arr_a - arr_b\n",
        "print(\"Array Subtraction Result:\", subtraction_result)\n",
        "\n",
        "# Array multiplication\n",
        "multiplication_result = arr_a * arr_b\n",
        "print(\"Array Multiplication Result:\", multiplication_result)\n",
        "\n",
        "# Array division\n",
        "division_result = arr_a / arr_b\n",
        "print(\"Array Division Result:\", division_result)\n"
      ],
      "metadata": {
        "colab": {
          "base_uri": "https://localhost:8080/"
        },
        "outputId": "ab95dab1-429f-4bdc-d304-0cff03bcd25d",
        "id": "Zv_0gpP0DXYr"
      },
      "execution_count": null,
      "outputs": [
        {
          "output_type": "stream",
          "name": "stdout",
          "text": [
            "Array Addition Result: [5 7 9]\n",
            "Array Subtraction Result: [-3 -3 -3]\n",
            "Array Multiplication Result: [ 4 10 18]\n",
            "Array Division Result: [0.25 0.4  0.5 ]\n"
          ]
        }
      ]
    },
    {
      "cell_type": "markdown",
      "source": [
        "b. Linear Algebra Operations:\n",
        "NumPy provides functions for performing various linear algebra operations, such as matrix multiplication and determinant calculation."
      ],
      "metadata": {
        "id": "iJiaw3LiEkOP"
      }
    },
    {
      "cell_type": "code",
      "source": [
        "# Matrix multiplication\n",
        "matrix_a = np.array([[1, 2], [3, 4]])\n",
        "matrix_b = np.array([[5, 6], [7, 8]])\n",
        "matrix_mult_result = np.dot(matrix_a, matrix_b)\n",
        "print(\"\\nMatrix Multiplication Result:\")\n",
        "print(matrix_mult_result)\n",
        "\n",
        "# Determinant calculation\n",
        "matrix_det = np.linalg.det(matrix_a)\n",
        "print(\"\\nDeterminant of matrix_a:\", matrix_det)\n"
      ],
      "metadata": {
        "colab": {
          "base_uri": "https://localhost:8080/"
        },
        "id": "1sa5QaSOEnvl",
        "outputId": "6076c5a6-8121-46f7-e1d8-cb73088b0414"
      },
      "execution_count": null,
      "outputs": [
        {
          "output_type": "stream",
          "name": "stdout",
          "text": [
            "\n",
            "Matrix Multiplication Result:\n",
            "[[19 22]\n",
            " [43 50]]\n",
            "\n",
            "Determinant of matrix_a: -2.0000000000000004\n"
          ]
        }
      ]
    },
    {
      "cell_type": "markdown",
      "source": [
        "\n",
        "\n",
        "> 3.1.3.2. Statistical Operations on Arrays:\n",
        "- NumPy offers functions for calculating various statistical measures on arrays, including mean, median, standard deviation, and more.\n",
        "\n",
        "\n",
        "\n",
        "\n",
        "\n",
        "\n",
        "\n",
        "\n",
        "\n",
        "\n"
      ],
      "metadata": {
        "id": "EMsa5ddpDXYr"
      }
    },
    {
      "cell_type": "code",
      "source": [
        "# Mean of an array\n",
        "arr = np.array([1, 2, 3, 4, 5])\n",
        "mean_value = np.mean(arr)\n",
        "print(\"Mean of the array:\", mean_value)\n",
        "\n",
        "# Median of an array\n",
        "median_value = np.median(arr)\n",
        "print(\"Median of the array:\", median_value)\n",
        "\n",
        "# Standard deviation of an array\n",
        "std_deviation = np.std(arr)\n",
        "print(\"Standard Deviation of the array:\", std_deviation)\n",
        "\n",
        "# Sum of all elements in an array\n",
        "sum_of_elements = np.sum(arr)\n",
        "print(\"Sum of elements in the array:\", sum_of_elements)\n"
      ],
      "metadata": {
        "colab": {
          "base_uri": "https://localhost:8080/"
        },
        "outputId": "190873af-8915-4e36-fdaa-a3ec0bc85c2f",
        "id": "r1Qq2TQUDXYs"
      },
      "execution_count": null,
      "outputs": [
        {
          "output_type": "stream",
          "name": "stdout",
          "text": [
            "Mean of the array: 3.0\n",
            "Median of the array: 3.0\n",
            "Standard Deviation of the array: 1.4142135623730951\n",
            "Sum of elements in the array: 15\n"
          ]
        }
      ]
    },
    {
      "cell_type": "markdown",
      "source": [
        "\n",
        "\n",
        "> 3.1.3.3. Broadcasting in Detail:\n",
        "- Broadcasting allows NumPy to perform operations on arrays of different shapes and sizes, making code more concise and readable.\n",
        "\n",
        "\n",
        "\n",
        "\n",
        "\n",
        "\n",
        "\n",
        "\n",
        "\n",
        "\n"
      ],
      "metadata": {
        "id": "CvFs6ahxDXYs"
      }
    },
    {
      "cell_type": "code",
      "source": [
        "# Broadcasting with a scalar\n",
        "scalar_value = 2\n",
        "result_broadcast_scalar = arr_a + scalar_value\n",
        "print(\"Broadcasting Scalar Result:\", result_broadcast_scalar)\n",
        "\n",
        "# Broadcasting with arrays of different shapes\n",
        "matrix_c = np.array([[1], [2], [3]])\n",
        "result_broadcast_matrix = matrix_a + matrix_c\n",
        "print(\"\\nBroadcasting Matrix Result:\")\n",
        "print(result_broadcast_matrix)\n"
      ],
      "metadata": {
        "colab": {
          "base_uri": "https://localhost:8080/",
          "height": 262
        },
        "outputId": "aeaffa0b-dd5f-44ee-96a0-3a7a63b21ea1",
        "id": "NggqfqQ_DXYs"
      },
      "execution_count": null,
      "outputs": [
        {
          "output_type": "stream",
          "name": "stdout",
          "text": [
            "Broadcasting Scalar Result: [3 4 5]\n"
          ]
        },
        {
          "output_type": "error",
          "ename": "ValueError",
          "evalue": "ignored",
          "traceback": [
            "\u001b[0;31m---------------------------------------------------------------------------\u001b[0m",
            "\u001b[0;31mValueError\u001b[0m                                Traceback (most recent call last)",
            "\u001b[0;32m<ipython-input-65-64460e92fe2e>\u001b[0m in \u001b[0;36m<cell line: 8>\u001b[0;34m()\u001b[0m\n\u001b[1;32m      6\u001b[0m \u001b[0;31m# Broadcasting with arrays of different shapes\u001b[0m\u001b[0;34m\u001b[0m\u001b[0;34m\u001b[0m\u001b[0m\n\u001b[1;32m      7\u001b[0m \u001b[0mmatrix_c\u001b[0m \u001b[0;34m=\u001b[0m \u001b[0mnp\u001b[0m\u001b[0;34m.\u001b[0m\u001b[0marray\u001b[0m\u001b[0;34m(\u001b[0m\u001b[0;34m[\u001b[0m\u001b[0;34m[\u001b[0m\u001b[0;36m1\u001b[0m\u001b[0;34m]\u001b[0m\u001b[0;34m,\u001b[0m \u001b[0;34m[\u001b[0m\u001b[0;36m2\u001b[0m\u001b[0;34m]\u001b[0m\u001b[0;34m,\u001b[0m \u001b[0;34m[\u001b[0m\u001b[0;36m3\u001b[0m\u001b[0;34m]\u001b[0m\u001b[0;34m]\u001b[0m\u001b[0;34m)\u001b[0m\u001b[0;34m\u001b[0m\u001b[0;34m\u001b[0m\u001b[0m\n\u001b[0;32m----> 8\u001b[0;31m \u001b[0mresult_broadcast_matrix\u001b[0m \u001b[0;34m=\u001b[0m \u001b[0mmatrix_a\u001b[0m \u001b[0;34m+\u001b[0m \u001b[0mmatrix_c\u001b[0m\u001b[0;34m\u001b[0m\u001b[0;34m\u001b[0m\u001b[0m\n\u001b[0m\u001b[1;32m      9\u001b[0m \u001b[0mprint\u001b[0m\u001b[0;34m(\u001b[0m\u001b[0;34m\"\\nBroadcasting Matrix Result:\"\u001b[0m\u001b[0;34m)\u001b[0m\u001b[0;34m\u001b[0m\u001b[0;34m\u001b[0m\u001b[0m\n\u001b[1;32m     10\u001b[0m \u001b[0mprint\u001b[0m\u001b[0;34m(\u001b[0m\u001b[0mresult_broadcast_matrix\u001b[0m\u001b[0;34m)\u001b[0m\u001b[0;34m\u001b[0m\u001b[0;34m\u001b[0m\u001b[0m\n",
            "\u001b[0;31mValueError\u001b[0m: operands could not be broadcast together with shapes (2,2) (3,1) "
          ]
        }
      ]
    },
    {
      "cell_type": "markdown",
      "source": [
        "*3.1.4. Indexing and Slicing in NumPy:*"
      ],
      "metadata": {
        "id": "NLLXuCwfGn4B"
      }
    },
    {
      "cell_type": "markdown",
      "source": [
        "\n",
        "\n",
        "> 3.1.4.1.Advanced Indexing Techniques:\n",
        "   \n",
        "\n",
        "\n",
        "\n",
        "\n",
        "\n",
        "\n",
        "\n",
        "\n",
        "\n"
      ],
      "metadata": {
        "id": "ghBEzMoxGn4H"
      }
    },
    {
      "cell_type": "markdown",
      "source": [
        "a. Integer Indexing:\n",
        "NumPy allows you to use integer arrays to index or access specific elements from an array."
      ],
      "metadata": {
        "id": "vTiFfSNlGn4H"
      }
    },
    {
      "cell_type": "code",
      "source": [
        "import numpy as np\n",
        "\n",
        "# Integer indexing\n",
        "arr = np.array([1, 2, 3, 4, 5])\n",
        "indices = np.array([0, 2, 4])\n",
        "result_integer_indexing = arr[indices]\n",
        "print(\"Integer Indexing Result:\", result_integer_indexing)\n"
      ],
      "metadata": {
        "colab": {
          "base_uri": "https://localhost:8080/"
        },
        "outputId": "11900204-8d17-45db-ef1b-8332bbe81675",
        "id": "E7ZYhSUTGn4I"
      },
      "execution_count": null,
      "outputs": [
        {
          "output_type": "stream",
          "name": "stdout",
          "text": [
            "Integer Indexing Result: [1 3 5]\n"
          ]
        }
      ]
    },
    {
      "cell_type": "markdown",
      "source": [
        "b. Boolean Indexing:\n",
        "Boolean indexing is a powerful technique where you use a boolean array to filter elements from an array."
      ],
      "metadata": {
        "id": "n4SJfnynGn4I"
      }
    },
    {
      "cell_type": "code",
      "source": [
        "# Boolean indexing\n",
        "bool_condition = arr > 2\n",
        "result_boolean_indexing = arr[bool_condition]\n",
        "print(\"\\nBoolean Indexing Result:\", result_boolean_indexing)\n"
      ],
      "metadata": {
        "colab": {
          "base_uri": "https://localhost:8080/"
        },
        "outputId": "3911c4e0-ef5f-4b41-cb4d-2fb0c6c1cd9e",
        "id": "cWEcOV_5Gn4I"
      },
      "execution_count": null,
      "outputs": [
        {
          "output_type": "stream",
          "name": "stdout",
          "text": [
            "\n",
            "Boolean Indexing Result: [3 4 5]\n"
          ]
        }
      ]
    },
    {
      "cell_type": "markdown",
      "source": [
        "c. Fancy Indexing:\n",
        "Fancy indexing involves using arrays of indices to access multiple elements simultaneously."
      ],
      "metadata": {
        "id": "6BaAfgUCHQtm"
      }
    },
    {
      "cell_type": "code",
      "source": [
        "# Fancy indexing\n",
        "indices_2d = np.array([[0, 1], [2, 3]])\n",
        "result_fancy_indexing = arr[indices_2d]\n",
        "print(\"\\nFancy Indexing Result:\")\n",
        "print(result_fancy_indexing)\n"
      ],
      "metadata": {
        "colab": {
          "base_uri": "https://localhost:8080/"
        },
        "outputId": "b0dda03b-b526-4e37-aaad-468ec9fb4f18",
        "id": "YnvWZ5ZTHQts"
      },
      "execution_count": null,
      "outputs": [
        {
          "output_type": "stream",
          "name": "stdout",
          "text": [
            "\n",
            "Fancy Indexing Result:\n",
            "[[1 2]\n",
            " [3 4]]\n"
          ]
        }
      ]
    },
    {
      "cell_type": "markdown",
      "source": [
        "\n",
        "\n",
        "> 3.1.4.2. Slicing Multi-dimensional Arrays:\n",
        "- Slicing in NumPy works similarly for multi-dimensional arrays. You can use colon : to specify ranges along each dimension.\n",
        "\n",
        "\n",
        "\n",
        "\n",
        "\n",
        "\n",
        "\n",
        "\n",
        "\n",
        "\n"
      ],
      "metadata": {
        "id": "-LOANcNBGn4I"
      }
    },
    {
      "cell_type": "code",
      "source": [
        "# Slicing a 2D array\n",
        "matrix = np.array([[1, 2, 3], [4, 5, 6], [7, 8, 9]])\n",
        "\n",
        "# Slicing rows and columns\n",
        "sliced_rows = matrix[0:2, :]\n",
        "sliced_cols = matrix[:, 1:3]\n",
        "\n",
        "print(\"Sliced Rows:\")\n",
        "print(sliced_rows)\n",
        "print(\"\\nSliced Columns:\")\n",
        "print(sliced_cols)\n"
      ],
      "metadata": {
        "colab": {
          "base_uri": "https://localhost:8080/"
        },
        "outputId": "483eeb50-212f-4f04-ef9c-2dd9e6bb583f",
        "id": "4RMzzGuiGn4J"
      },
      "execution_count": null,
      "outputs": [
        {
          "output_type": "stream",
          "name": "stdout",
          "text": [
            "Sliced Rows:\n",
            "[[1 2 3]\n",
            " [4 5 6]]\n",
            "\n",
            "Sliced Columns:\n",
            "[[2 3]\n",
            " [5 6]\n",
            " [8 9]]\n"
          ]
        }
      ]
    },
    {
      "cell_type": "markdown",
      "source": [
        "*3.1.4. Indexing and Slicing in NumPy:*"
      ],
      "metadata": {
        "id": "D4mvzmVYMi_G"
      }
    },
    {
      "cell_type": "markdown",
      "source": [
        "\n",
        "\n",
        "> 3.1.4.1.Advanced Indexing Techniques:\n",
        "   \n",
        "\n",
        "\n",
        "\n",
        "\n",
        "\n",
        "\n",
        "\n",
        "\n",
        "\n"
      ],
      "metadata": {
        "id": "MXX02h64Mi_N"
      }
    },
    {
      "cell_type": "markdown",
      "source": [
        "a. Integer Indexing:\n",
        "NumPy allows you to use integer arrays to index or access specific elements from an array."
      ],
      "metadata": {
        "id": "bgWpS43AMi_N"
      }
    },
    {
      "cell_type": "code",
      "source": [
        "import numpy as np\n",
        "\n",
        "# Integer indexing\n",
        "arr = np.array([1, 2, 3, 4, 5])\n",
        "indices = np.array([0, 2, 4])\n",
        "result_integer_indexing = arr[indices]\n",
        "print(\"Integer Indexing Result:\", result_integer_indexing)\n"
      ],
      "metadata": {
        "colab": {
          "base_uri": "https://localhost:8080/"
        },
        "outputId": "11900204-8d17-45db-ef1b-8332bbe81675",
        "id": "Pssjesu4Mi_N"
      },
      "execution_count": null,
      "outputs": [
        {
          "output_type": "stream",
          "name": "stdout",
          "text": [
            "Integer Indexing Result: [1 3 5]\n"
          ]
        }
      ]
    },
    {
      "cell_type": "markdown",
      "source": [
        "*3.1.5. File I/O in NumPy:*"
      ],
      "metadata": {
        "id": "_nofUhLsMwR4"
      }
    },
    {
      "cell_type": "markdown",
      "source": [
        "\n",
        "\n",
        "> 3.1.5.1.Reading and Writing Data using `numpy.genfromtxt`:\n",
        "- `numpy.genfromtxt` is a versatile function for reading data from text files, handling missing values, and converting different data types.\n",
        "   \n",
        "\n",
        "\n",
        "\n",
        "\n",
        "\n",
        "\n",
        "\n",
        "\n",
        "\n"
      ],
      "metadata": {
        "id": "nPjqcy73MwR5"
      }
    },
    {
      "cell_type": "code",
      "source": [
        "import numpy as np\n",
        "\n",
        "# Reading data from a CSV file\n",
        "data = np.genfromtxt('data.csv', delimiter=',', skip_header=1)\n",
        "print(\"Data from CSV File:\")\n",
        "print(data)\n",
        "\n",
        "# Reading data with missing values\n",
        "data_missing = np.genfromtxt('data_missing.csv', delimiter=',', filling_values=np.nan)\n",
        "print(\"\\nData from CSV File with Missing Values:\")\n",
        "print(data_missing)\n",
        "\n",
        "# Writing data to a text file\n",
        "np.savetxt('output.txt', data, fmt='%d', header='Column1, Column2', delimiter=',', comments='')\n",
        "print(\"\\nData Successfully Written to output.txt\")\n"
      ],
      "metadata": {
        "colab": {
          "base_uri": "https://localhost:8080/",
          "height": 391
        },
        "outputId": "f38b37ff-8d15-42c6-dd8c-5f6a303ea607",
        "id": "oLedf0HjMwR5"
      },
      "execution_count": null,
      "outputs": [
        {
          "output_type": "error",
          "ename": "FileNotFoundError",
          "evalue": "ignored",
          "traceback": [
            "\u001b[0;31m---------------------------------------------------------------------------\u001b[0m",
            "\u001b[0;31mFileNotFoundError\u001b[0m                         Traceback (most recent call last)",
            "\u001b[0;32m<ipython-input-70-278799674840>\u001b[0m in \u001b[0;36m<cell line: 4>\u001b[0;34m()\u001b[0m\n\u001b[1;32m      2\u001b[0m \u001b[0;34m\u001b[0m\u001b[0m\n\u001b[1;32m      3\u001b[0m \u001b[0;31m# Reading data from a CSV file\u001b[0m\u001b[0;34m\u001b[0m\u001b[0;34m\u001b[0m\u001b[0m\n\u001b[0;32m----> 4\u001b[0;31m \u001b[0mdata\u001b[0m \u001b[0;34m=\u001b[0m \u001b[0mnp\u001b[0m\u001b[0;34m.\u001b[0m\u001b[0mgenfromtxt\u001b[0m\u001b[0;34m(\u001b[0m\u001b[0;34m'data.csv'\u001b[0m\u001b[0;34m,\u001b[0m \u001b[0mdelimiter\u001b[0m\u001b[0;34m=\u001b[0m\u001b[0;34m','\u001b[0m\u001b[0;34m,\u001b[0m \u001b[0mskip_header\u001b[0m\u001b[0;34m=\u001b[0m\u001b[0;36m1\u001b[0m\u001b[0;34m)\u001b[0m\u001b[0;34m\u001b[0m\u001b[0;34m\u001b[0m\u001b[0m\n\u001b[0m\u001b[1;32m      5\u001b[0m \u001b[0mprint\u001b[0m\u001b[0;34m(\u001b[0m\u001b[0;34m\"Data from CSV File:\"\u001b[0m\u001b[0;34m)\u001b[0m\u001b[0;34m\u001b[0m\u001b[0;34m\u001b[0m\u001b[0m\n\u001b[1;32m      6\u001b[0m \u001b[0mprint\u001b[0m\u001b[0;34m(\u001b[0m\u001b[0mdata\u001b[0m\u001b[0;34m)\u001b[0m\u001b[0;34m\u001b[0m\u001b[0;34m\u001b[0m\u001b[0m\n",
            "\u001b[0;32m/usr/local/lib/python3.10/dist-packages/numpy/lib/npyio.py\u001b[0m in \u001b[0;36mgenfromtxt\u001b[0;34m(fname, dtype, comments, delimiter, skip_header, skip_footer, converters, missing_values, filling_values, usecols, names, excludelist, deletechars, replace_space, autostrip, case_sensitive, defaultfmt, unpack, usemask, loose, invalid_raise, max_rows, encoding, ndmin, like)\u001b[0m\n\u001b[1;32m   1957\u001b[0m         \u001b[0mfname\u001b[0m \u001b[0;34m=\u001b[0m \u001b[0mos_fspath\u001b[0m\u001b[0;34m(\u001b[0m\u001b[0mfname\u001b[0m\u001b[0;34m)\u001b[0m\u001b[0;34m\u001b[0m\u001b[0;34m\u001b[0m\u001b[0m\n\u001b[1;32m   1958\u001b[0m     \u001b[0;32mif\u001b[0m \u001b[0misinstance\u001b[0m\u001b[0;34m(\u001b[0m\u001b[0mfname\u001b[0m\u001b[0;34m,\u001b[0m \u001b[0mstr\u001b[0m\u001b[0;34m)\u001b[0m\u001b[0;34m:\u001b[0m\u001b[0;34m\u001b[0m\u001b[0;34m\u001b[0m\u001b[0m\n\u001b[0;32m-> 1959\u001b[0;31m         \u001b[0mfid\u001b[0m \u001b[0;34m=\u001b[0m \u001b[0mnp\u001b[0m\u001b[0;34m.\u001b[0m\u001b[0mlib\u001b[0m\u001b[0;34m.\u001b[0m\u001b[0m_datasource\u001b[0m\u001b[0;34m.\u001b[0m\u001b[0mopen\u001b[0m\u001b[0;34m(\u001b[0m\u001b[0mfname\u001b[0m\u001b[0;34m,\u001b[0m \u001b[0;34m'rt'\u001b[0m\u001b[0;34m,\u001b[0m \u001b[0mencoding\u001b[0m\u001b[0;34m=\u001b[0m\u001b[0mencoding\u001b[0m\u001b[0;34m)\u001b[0m\u001b[0;34m\u001b[0m\u001b[0;34m\u001b[0m\u001b[0m\n\u001b[0m\u001b[1;32m   1960\u001b[0m         \u001b[0mfid_ctx\u001b[0m \u001b[0;34m=\u001b[0m \u001b[0mcontextlib\u001b[0m\u001b[0;34m.\u001b[0m\u001b[0mclosing\u001b[0m\u001b[0;34m(\u001b[0m\u001b[0mfid\u001b[0m\u001b[0;34m)\u001b[0m\u001b[0;34m\u001b[0m\u001b[0;34m\u001b[0m\u001b[0m\n\u001b[1;32m   1961\u001b[0m     \u001b[0;32melse\u001b[0m\u001b[0;34m:\u001b[0m\u001b[0;34m\u001b[0m\u001b[0;34m\u001b[0m\u001b[0m\n",
            "\u001b[0;32m/usr/local/lib/python3.10/dist-packages/numpy/lib/_datasource.py\u001b[0m in \u001b[0;36mopen\u001b[0;34m(path, mode, destpath, encoding, newline)\u001b[0m\n\u001b[1;32m    191\u001b[0m \u001b[0;34m\u001b[0m\u001b[0m\n\u001b[1;32m    192\u001b[0m     \u001b[0mds\u001b[0m \u001b[0;34m=\u001b[0m \u001b[0mDataSource\u001b[0m\u001b[0;34m(\u001b[0m\u001b[0mdestpath\u001b[0m\u001b[0;34m)\u001b[0m\u001b[0;34m\u001b[0m\u001b[0;34m\u001b[0m\u001b[0m\n\u001b[0;32m--> 193\u001b[0;31m     \u001b[0;32mreturn\u001b[0m \u001b[0mds\u001b[0m\u001b[0;34m.\u001b[0m\u001b[0mopen\u001b[0m\u001b[0;34m(\u001b[0m\u001b[0mpath\u001b[0m\u001b[0;34m,\u001b[0m \u001b[0mmode\u001b[0m\u001b[0;34m,\u001b[0m \u001b[0mencoding\u001b[0m\u001b[0;34m=\u001b[0m\u001b[0mencoding\u001b[0m\u001b[0;34m,\u001b[0m \u001b[0mnewline\u001b[0m\u001b[0;34m=\u001b[0m\u001b[0mnewline\u001b[0m\u001b[0;34m)\u001b[0m\u001b[0;34m\u001b[0m\u001b[0;34m\u001b[0m\u001b[0m\n\u001b[0m\u001b[1;32m    194\u001b[0m \u001b[0;34m\u001b[0m\u001b[0m\n\u001b[1;32m    195\u001b[0m \u001b[0;34m\u001b[0m\u001b[0m\n",
            "\u001b[0;32m/usr/local/lib/python3.10/dist-packages/numpy/lib/_datasource.py\u001b[0m in \u001b[0;36mopen\u001b[0;34m(self, path, mode, encoding, newline)\u001b[0m\n\u001b[1;32m    531\u001b[0m                                       encoding=encoding, newline=newline)\n\u001b[1;32m    532\u001b[0m         \u001b[0;32melse\u001b[0m\u001b[0;34m:\u001b[0m\u001b[0;34m\u001b[0m\u001b[0;34m\u001b[0m\u001b[0m\n\u001b[0;32m--> 533\u001b[0;31m             \u001b[0;32mraise\u001b[0m \u001b[0mFileNotFoundError\u001b[0m\u001b[0;34m(\u001b[0m\u001b[0;34mf\"{path} not found.\"\u001b[0m\u001b[0;34m)\u001b[0m\u001b[0;34m\u001b[0m\u001b[0;34m\u001b[0m\u001b[0m\n\u001b[0m\u001b[1;32m    534\u001b[0m \u001b[0;34m\u001b[0m\u001b[0m\n\u001b[1;32m    535\u001b[0m \u001b[0;34m\u001b[0m\u001b[0m\n",
            "\u001b[0;31mFileNotFoundError\u001b[0m: data.csv not found."
          ]
        }
      ]
    },
    {
      "cell_type": "markdown",
      "source": [
        "\n",
        "\n",
        "> 3.1.5.2.Working with Different File Formats:\n",
        "- NumPy provides functions to read and write data in various file formats, including CSV, text files, and more.\n",
        "   \n",
        "\n",
        "\n",
        "\n",
        "\n",
        "\n",
        "\n",
        "\n",
        "\n",
        "\n"
      ],
      "metadata": {
        "id": "JPaxtWChNOi_"
      }
    },
    {
      "cell_type": "code",
      "source": [
        "# Reading data from a text file\n",
        "text_data = np.genfromtxt('text_data.txt', dtype=str)\n",
        "print(\"\\nText Data from text_data.txt:\")\n",
        "print(text_data)\n",
        "\n",
        "# Writing data to a CSV file\n",
        "csv_data = np.array([[1, 2, 3], [4, 5, 6], [7, 8, 9]])\n",
        "np.savetxt('output.csv', csv_data, fmt='%d', delimiter=',', header='Col1, Col2, Col3', comments='')\n",
        "\n",
        "print(\"\\nData Successfully Written to output.csv\")\n"
      ],
      "metadata": {
        "id": "66W743GMGn4J"
      },
      "execution_count": null,
      "outputs": []
    },
    {
      "cell_type": "markdown",
      "source": [
        "*3.1.6. Random in NumPy:*"
      ],
      "metadata": {
        "id": "luw7qSNgNvtW"
      }
    },
    {
      "cell_type": "markdown",
      "source": [
        "\n",
        "\n",
        "> 3.1.6.1.Generating Random Numbers with `numpy.random`:\n",
        "- NumPy's numpy.random module provides functions to generate random numbers and random arrays efficiently.\n",
        "   \n",
        "\n",
        "\n",
        "\n",
        "\n",
        "\n",
        "\n",
        "\n",
        "\n",
        "\n"
      ],
      "metadata": {
        "id": "8m0PGevKNvtW"
      }
    },
    {
      "cell_type": "code",
      "source": [
        "import numpy as np\n",
        "\n",
        "# Generate a random float in the half-open interval [0.0, 1.0)\n",
        "random_float = np.random.rand()\n",
        "print(\"Random Float:\", random_float)\n",
        "\n",
        "# Generate an array of random floats in [0.0, 1.0)\n",
        "random_array = np.random.rand(3, 3)\n",
        "print(\"\\nRandom 3x3 Array:\")\n",
        "print(random_array)\n",
        "\n",
        "# Generate random integers within a specified range\n",
        "random_int = np.random.randint(1, 10, size=(2, 3))\n",
        "print(\"\\nRandom 2x3 Array of Integers:\")\n",
        "print(random_int)\n"
      ],
      "metadata": {
        "colab": {
          "base_uri": "https://localhost:8080/"
        },
        "outputId": "5e846d64-6e81-49e5-a356-57f3d5824235",
        "id": "YvwS-nPFNvtW"
      },
      "execution_count": null,
      "outputs": [
        {
          "output_type": "stream",
          "name": "stdout",
          "text": [
            "Random Float: 0.8423150453915556\n",
            "\n",
            "Random 3x3 Array:\n",
            "[[0.60923653 0.45779057 0.13586464]\n",
            " [0.9848891  0.14377863 0.19768413]\n",
            " [0.07259395 0.45533132 0.51160377]]\n",
            "\n",
            "Random 2x3 Array of Integers:\n",
            "[[4 3 5]\n",
            " [8 2 9]]\n"
          ]
        }
      ]
    },
    {
      "cell_type": "markdown",
      "source": [
        "\n",
        "\n",
        "> 3.1.6.2.Sampling from Distributions:\n",
        "- NumPy provides functions for sampling from various probability distributions.\n",
        "   \n",
        "\n",
        "\n",
        "\n",
        "\n",
        "\n",
        "\n",
        "\n",
        "\n",
        "\n"
      ],
      "metadata": {
        "id": "5OP1WwLKNvtW"
      }
    },
    {
      "cell_type": "code",
      "source": [
        "# Normal distribution (mean=0, standard deviation=1)\n",
        "normal_distribution = np.random.normal(0, 1, size=(3, 3))\n",
        "print(\"\\nRandom Array from Normal Distribution:\")\n",
        "print(normal_distribution)\n",
        "\n",
        "# Uniform distribution in [0.0, 1.0)\n",
        "uniform_distribution = np.random.uniform(0, 1, size=(2, 2))\n",
        "print(\"\\nRandom 2x2 Array from Uniform Distribution:\")\n",
        "print(uniform_distribution)\n",
        "\n",
        "# Binomial distribution (n=10, p=0.5)\n",
        "binomial_distribution = np.random.binomial(10, 0.5, size=5)\n",
        "print(\"\\nRandom Array from Binomial Distribution:\")\n",
        "print(binomial_distribution)\n"
      ],
      "metadata": {
        "colab": {
          "base_uri": "https://localhost:8080/"
        },
        "id": "6pD7QPp6NvtW",
        "outputId": "d4d98047-156c-404a-c5df-2aa8439e20f8"
      },
      "execution_count": null,
      "outputs": [
        {
          "output_type": "stream",
          "name": "stdout",
          "text": [
            "\n",
            "Random Array from Normal Distribution:\n",
            "[[-1.11796489 -1.88114863  0.69477641]\n",
            " [ 0.82859366 -2.09039884  0.95047865]\n",
            " [ 1.58143509  0.36722877  1.269025  ]]\n",
            "\n",
            "Random 2x2 Array from Uniform Distribution:\n",
            "[[0.03418952 0.32184095]\n",
            " [0.52299119 0.62797962]]\n",
            "\n",
            "Random Array from Binomial Distribution:\n",
            "[3 3 6 3 5]\n"
          ]
        }
      ]
    },
    {
      "cell_type": "markdown",
      "source": [
        "\n",
        "\n",
        "> 3.1.6.3.Setting the Seed for Reproducibility:\n",
        "- Setting the seed ensures that the random numbers generated are reproducible.\n",
        "   \n",
        "\n",
        "\n",
        "\n",
        "\n",
        "\n",
        "\n",
        "\n",
        "\n",
        "\n"
      ],
      "metadata": {
        "id": "YpwmtMnDOULf"
      }
    },
    {
      "cell_type": "code",
      "source": [
        "# Setting the seed for reproducibility\n",
        "np.random.seed(42)\n",
        "\n",
        "# Generate random floats with the same seed\n",
        "random_float_1 = np.random.rand()\n",
        "random_float_2 = np.random.rand()\n",
        "print(\"\\nRandom Float 1:\", random_float_1)\n",
        "print(\"Random Float 2:\", random_float_2)\n",
        "\n",
        "# Resetting the seed\n",
        "np.random.seed(42)\n",
        "random_float_reset = np.random.rand()\n",
        "print(\"\\nRandom Float Reset with Seed 42:\", random_float_reset)\n"
      ],
      "metadata": {
        "colab": {
          "base_uri": "https://localhost:8080/"
        },
        "outputId": "a1c26362-bdf6-4f8f-83a5-547278b53af1",
        "id": "hRbp-8dZOULl"
      },
      "execution_count": null,
      "outputs": [
        {
          "output_type": "stream",
          "name": "stdout",
          "text": [
            "\n",
            "Random Float 1: 0.3745401188473625\n",
            "Random Float 2: 0.9507143064099162\n",
            "\n",
            "Random Float Reset with Seed 42: 0.3745401188473625\n"
          ]
        }
      ]
    },
    {
      "cell_type": "code",
      "source": [],
      "metadata": {
        "id": "METktniKNvtW"
      },
      "execution_count": null,
      "outputs": []
    },
    {
      "cell_type": "markdown",
      "source": [
        "*3.1.7. NumPy and Matplotlib Integration:*"
      ],
      "metadata": {
        "id": "TxxSn_hFO75l"
      }
    },
    {
      "cell_type": "markdown",
      "source": [
        "\n",
        "\n",
        "> 3.1.7.1.Visualizing 1D Arrays:\n",
        "\n",
        "   \n",
        "\n",
        "\n",
        "\n",
        "\n",
        "\n",
        "\n",
        "\n",
        "\n",
        "\n"
      ],
      "metadata": {
        "id": "SqbCa2VjO75r"
      }
    },
    {
      "cell_type": "code",
      "source": [
        "import numpy as np\n",
        "import matplotlib.pyplot as plt\n",
        "\n",
        "# Generating a 1D NumPy array\n",
        "x = np.linspace(0, 10, 100)\n",
        "y = np.sin(x)\n",
        "\n",
        "# Plotting the 1D array\n",
        "plt.plot(x, y, label='sin(x)')\n",
        "plt.title('Visualization of a 1D NumPy Array')\n",
        "plt.xlabel('x')\n",
        "plt.ylabel('sin(x)')\n",
        "plt.legend()\n",
        "plt.show()\n"
      ],
      "metadata": {
        "colab": {
          "base_uri": "https://localhost:8080/",
          "height": 472
        },
        "outputId": "5e5e8128-cf81-4e61-bb55-547564af9db2",
        "id": "p65nqo2OO75r"
      },
      "execution_count": null,
      "outputs": [
        {
          "output_type": "display_data",
          "data": {
            "text/plain": [
              "<Figure size 640x480 with 1 Axes>"
            ],
            "image/png": "[encoded data removed]"
          },
          "metadata": {}
        }
      ]
    },
    {
      "cell_type": "markdown",
      "source": [
        "\n",
        "\n",
        "> 3.1.7.2.Visualizing 2D Arrays:\n",
        "\n",
        "\n",
        "\n",
        "\n",
        "\n",
        "\n",
        "\n"
      ],
      "metadata": {
        "id": "OLOxdGEkO75r"
      }
    },
    {
      "cell_type": "code",
      "source": [
        "# Generating a 2D NumPy array\n",
        "x = np.linspace(0, 5, 50)\n",
        "y = np.linspace(0, 5, 50)\n",
        "X, Y = np.meshgrid(x, y)\n",
        "Z = np.sin(np.sqrt(X**2 + Y**2))\n",
        "\n",
        "# Plotting the 2D array as a heatmap\n",
        "plt.imshow(Z, cmap='viridis', extent=[0, 5, 0, 5], origin='lower')\n",
        "plt.colorbar(label='sin(sqrt(x^2 + y^2))')\n",
        "plt.title('Visualization of a 2D NumPy Array')\n",
        "plt.xlabel('x')\n",
        "plt.ylabel('y')\n",
        "plt.show()\n"
      ],
      "metadata": {
        "colab": {
          "base_uri": "https://localhost:8080/",
          "height": 472
        },
        "outputId": "c4649cda-6543-4b4f-9fe2-f24f87ded758",
        "id": "k9Q0GigvO75s"
      },
      "execution_count": null,
      "outputs": [
        {
          "output_type": "display_data",
          "data": {
            "text/plain": [
              "<Figure size 640x480 with 2 Axes>"
            ],
            "image/png": "[encoded data removed]"
          },
          "metadata": {}
        }
      ]
    },
    {
      "cell_type": "markdown",
      "source": [
        "\n",
        "\n",
        "> 3.1.7.3.Subplots with NumPy Arrays:\n",
        "\n",
        "   \n",
        "\n",
        "\n",
        "\n",
        "\n",
        "\n",
        "\n",
        "\n",
        "\n",
        "\n"
      ],
      "metadata": {
        "id": "vU5jPX01O75s"
      }
    },
    {
      "cell_type": "code",
      "source": [
        "# Generating multiple NumPy arrays\n",
        "x = np.linspace(0, 10, 100)\n",
        "y1 = np.sin(x)\n",
        "y2 = np.cos(x)\n",
        "\n",
        "# Plotting multiple arrays in subplots\n",
        "fig, (ax1, ax2) = plt.subplots(2, 1, sharex=True)\n",
        "ax1.plot(x, y1, label='sin(x)')\n",
        "ax2.plot(x, y2, label='cos(x)', color='orange')\n",
        "ax1.set_ylabel('sin(x)')\n",
        "ax2.set_ylabel('cos(x)')\n",
        "ax2.set_xlabel('x')\n",
        "plt.title('Visualization of Multiple 1D NumPy Arrays')\n",
        "plt.legend()\n",
        "plt.show()\n"
      ],
      "metadata": {
        "colab": {
          "base_uri": "https://localhost:8080/",
          "height": 449
        },
        "outputId": "323d6b97-d444-444d-b7b9-9bb0130c0785",
        "id": "QnivnP98O75s"
      },
      "execution_count": null,
      "outputs": [
        {
          "output_type": "display_data",
          "data": {
            "text/plain": [
              "<Figure size 640x480 with 2 Axes>"
            ],
            "image/png": "[encoded data removed]"
          },
          "metadata": {}
        }
      ]
    },
    {
      "cell_type": "code",
      "source": [],
      "metadata": {
        "id": "ryOLFqN4O75s"
      },
      "execution_count": null,
      "outputs": []
    },
    {
      "cell_type": "markdown",
      "source": [
        "*3.1.8. Advanced Topics in NumPy:*"
      ],
      "metadata": {
        "id": "gdlnU8gxP0nZ"
      }
    },
    {
      "cell_type": "markdown",
      "source": [
        "\n",
        "\n",
        "> 3.1.8.1.NumPy's `datetime` and `timedelta` Objects:\n",
        "- NumPy provides specialized data types for handling dates and times efficiently using datetime64 and timedelta64. These types are particularly useful for time-series data and time-based calculations.\n",
        "\n",
        "   \n",
        "\n",
        "\n",
        "\n",
        "\n",
        "\n",
        "\n",
        "\n",
        "\n",
        "\n"
      ],
      "metadata": {
        "id": "b-RcquooP0nZ"
      }
    },
    {
      "cell_type": "code",
      "source": [
        "import numpy as np\n",
        "\n",
        "# Creating a datetime array\n",
        "datetime_array = np.array(['2022-01-01', '2022-02-01', '2022-03-01'], dtype='datetime64')\n",
        "print(\"Datetime Array:\")\n",
        "print(datetime_array)\n",
        "\n",
        "# Creating a timedelta array\n",
        "timedelta_array = np.array([1, 2, 3], dtype='timedelta64[D]')\n",
        "print(\"\\nTimedelta Array:\")\n",
        "print(timedelta_array)\n",
        "\n",
        "# Performing operations with datetime and timedelta\n",
        "new_datetime = datetime_array + timedelta_array\n",
        "print(\"\\nNew Datetime Array:\")\n",
        "print(new_datetime)\n"
      ],
      "metadata": {
        "colab": {
          "base_uri": "https://localhost:8080/"
        },
        "outputId": "0e2f3ba2-2256-4a25-a114-d0d07a7393be",
        "id": "9TwkU2SUP0nZ"
      },
      "execution_count": null,
      "outputs": [
        {
          "output_type": "stream",
          "name": "stdout",
          "text": [
            "Datetime Array:\n",
            "['2022-01-01' '2022-02-01' '2022-03-01']\n",
            "\n",
            "Timedelta Array:\n",
            "[1 2 3]\n",
            "\n",
            "New Datetime Array:\n",
            "['2022-01-02' '2022-02-03' '2022-03-04']\n"
          ]
        }
      ]
    },
    {
      "cell_type": "markdown",
      "source": [
        "\n",
        "\n",
        "> 3.1.8.2.Memory Layout of NumPy Arrays:\n",
        "-Understanding the memory layout of NumPy arrays is crucial for optimizing performance. NumPy allows you to specify the order of memory layout, either row-major (C-style) or column-major (Fortran-style).\n",
        "\n",
        "\n",
        "\n",
        "\n",
        "\n",
        "\n",
        "\n"
      ],
      "metadata": {
        "id": "pUhg0DxdP0nZ"
      }
    },
    {
      "cell_type": "code",
      "source": [
        "# Creating a NumPy array\n",
        "arr = np.array([[1, 2, 3], [4, 5, 6]])\n",
        "\n",
        "# Checking the memory layout\n",
        "print(\"Memory Layout (C-style):\")\n",
        "print(arr.flags['C_CONTIGUOUS'])\n",
        "\n",
        "# Checking the memory layout (Fortran-style)\n",
        "print(\"\\nMemory Layout (Fortran-style):\")\n",
        "print(arr.flags['F_CONTIGUOUS'])\n"
      ],
      "metadata": {
        "colab": {
          "base_uri": "https://localhost:8080/"
        },
        "outputId": "46751be4-a6ff-463a-adb6-c97752e90834",
        "id": "H6X1I8_SP0na"
      },
      "execution_count": null,
      "outputs": [
        {
          "output_type": "stream",
          "name": "stdout",
          "text": [
            "Memory Layout (C-style):\n",
            "True\n",
            "\n",
            "Memory Layout (Fortran-style):\n",
            "False\n"
          ]
        }
      ]
    },
    {
      "cell_type": "markdown",
      "source": [
        "\n",
        "\n",
        "> 3.1.8.3.Working with Structured Arrays:\n",
        "Structured arrays allow you to define custom data types with multiple fields, similar to a table with named columns. This is useful for handling heterogeneous data.\n",
        "\n",
        "   \n",
        "\n",
        "\n",
        "\n",
        "\n",
        "\n",
        "\n",
        "\n",
        "\n",
        "\n"
      ],
      "metadata": {
        "id": "gwP6zJCEP0na"
      }
    },
    {
      "cell_type": "code",
      "source": [
        "# Creating a structured array\n",
        "structured_arr = np.array([('Alice', 25, 160), ('Bob', 30, 175)], dtype=[('name', 'U10'), ('age', 'i4'), ('height', 'f4')])\n",
        "print(\"Structured Array:\")\n",
        "print(structured_arr)\n",
        "\n",
        "# Accessing fields in a structured array\n",
        "print(\"\\nName Column:\")\n",
        "print(structured_arr['name'])\n",
        "\n",
        "# Filtering based on age\n",
        "filtered_arr = structured_arr[structured_arr['age'] > 25]\n",
        "print(\"\\nFiltered Array (Age > 25):\")\n",
        "print(filtered_arr)\n"
      ],
      "metadata": {
        "id": "9FQjrffpWhCb",
        "colab": {
          "base_uri": "https://localhost:8080/"
        },
        "outputId": "d520173a-0ab5-4803-bd91-adebcf577322"
      },
      "execution_count": null,
      "outputs": [
        {
          "output_type": "stream",
          "name": "stdout",
          "text": [
            "Structured Array:\n",
            "[('Alice', 25, 160.) ('Bob', 30, 175.)]\n",
            "\n",
            "Name Column:\n",
            "['Alice' 'Bob']\n",
            "\n",
            "Filtered Array (Age > 25):\n",
            "[('Bob', 30, 175.)]\n"
          ]
        }
      ]
    },
    {
      "cell_type": "markdown",
      "source": [
        "\n",
        "\n",
        ">***3.2.1 Pandas Series*** :\n"
      ],
      "metadata": {
        "id": "GQxj4EUHYqgW"
      }
    },
    {
      "cell_type": "markdown",
      "source": [
        "\n",
        "\n",
        "> 3.2.1.1.Creating and Manipulating Pandas Series:\n",
        "   - A Pandas Series is a one-dimensional labeled array capable of holding any data type. It can be created from a list, array, or dictionary.\n",
        "\n",
        "\n",
        "\n",
        "\n",
        "\n",
        "\n",
        "\n",
        "\n",
        "\n"
      ],
      "metadata": {
        "id": "jDVNmzkYYqgX"
      }
    },
    {
      "cell_type": "code",
      "source": [
        "import pandas as pd\n",
        "\n",
        "# Creating a Series from a list\n",
        "my_list = [10, 20, 30, 40, 50]\n",
        "series_from_list = pd.Series(my_list)\n",
        "print(\"Series from List:\")\n",
        "print(series_from_list)\n",
        "\n",
        "# Creating a Series with custom index\n",
        "custom_index_series = pd.Series([1, 2, 3], index=['a', 'b', 'c'])\n",
        "print(\"\\nSeries with Custom Index:\")\n",
        "print(custom_index_series)\n",
        "\n",
        "# Creating a Series from a dictionary\n",
        "my_dict = {'a': 100, 'b': 200, 'c': 300}\n",
        "series_from_dict = pd.Series(my_dict)\n",
        "print(\"\\nSeries from Dictionary:\")\n",
        "print(series_from_dict)\n"
      ],
      "metadata": {
        "colab": {
          "base_uri": "https://localhost:8080/"
        },
        "id": "28P8J7DvQiaY",
        "outputId": "71edda83-9c93-43aa-d8e7-f2bfa73adc78"
      },
      "execution_count": null,
      "outputs": [
        {
          "output_type": "stream",
          "name": "stdout",
          "text": [
            "Series from List:\n",
            "0    10\n",
            "1    20\n",
            "2    30\n",
            "3    40\n",
            "4    50\n",
            "dtype: int64\n",
            "\n",
            "Series with Custom Index:\n",
            "a    1\n",
            "b    2\n",
            "c    3\n",
            "dtype: int64\n",
            "\n",
            "Series from Dictionary:\n",
            "a    100\n",
            "b    200\n",
            "c    300\n",
            "dtype: int64\n"
          ]
        }
      ]
    },
    {
      "cell_type": "markdown",
      "source": [
        "\n",
        "\n",
        "> 3.2.1.2. Indexing and Slicing Series:\n",
        "   - Pandas Series can be indexed and sliced using labels or integer positions.\n",
        "\n",
        "\n",
        "\n",
        "\n",
        "\n",
        "\n",
        "\n",
        "\n",
        "\n"
      ],
      "metadata": {
        "id": "8cWNm4c7ZKcH"
      }
    },
    {
      "cell_type": "code",
      "source": [
        "# Indexing by label\n",
        "print(\"Value at index 'b':\", series_from_dict['b'])\n",
        "\n",
        "# Slicing by label\n",
        "print(\"\\nSlicing by Labels:\")\n",
        "print(series_from_dict['a':'c'])\n",
        "\n",
        "# Slicing by position\n",
        "print(\"\\nSlicing by Positions:\")\n",
        "print(series_from_dict[1:3])\n"
      ],
      "metadata": {
        "colab": {
          "base_uri": "https://localhost:8080/"
        },
        "id": "wbIEy4xHZD4B",
        "outputId": "9c71673e-9494-4802-a4fc-71add9a5f0d8"
      },
      "execution_count": null,
      "outputs": [
        {
          "output_type": "stream",
          "name": "stdout",
          "text": [
            "Value at index 'b': 200\n",
            "\n",
            "Slicing by Labels:\n",
            "a    100\n",
            "b    200\n",
            "c    300\n",
            "dtype: int64\n",
            "\n",
            "Slicing by Positions:\n",
            "b    200\n",
            "c    300\n",
            "dtype: int64\n"
          ]
        }
      ]
    },
    {
      "cell_type": "markdown",
      "source": [
        "\n",
        "\n",
        "> 3.2.1.3. Operations on Series:\n",
        "   - Pandas Series supports various operations, including element-wise operations and statistical operations..\n",
        "\n",
        "\n",
        "\n",
        "\n",
        "\n",
        "\n",
        "\n",
        "\n",
        "\n"
      ],
      "metadata": {
        "id": "SmAScmmKZYTB"
      }
    },
    {
      "cell_type": "code",
      "source": [
        "# Element-wise operation\n",
        "double_series = series_from_list * 2\n",
        "print(\"\\nDouble the Series:\")\n",
        "print(double_series)\n",
        "\n",
        "# Mathematical operations\n",
        "sum_series = series_from_list + series_from_dict\n",
        "print(\"\\nSum of Two Series:\")\n",
        "print(sum_series)\n",
        "\n",
        "# Statistical operations\n",
        "print(\"\\nMean of the Series:\", series_from_list.mean())\n",
        "print(\"Maximum value in the Series:\", series_from_list.max())\n"
      ],
      "metadata": {
        "colab": {
          "base_uri": "https://localhost:8080/"
        },
        "id": "OBlbExgoZUN2",
        "outputId": "a52c8236-435b-4cef-97c7-9d8b4968f5eb"
      },
      "execution_count": null,
      "outputs": [
        {
          "output_type": "stream",
          "name": "stdout",
          "text": [
            "\n",
            "Double the Series:\n",
            "0     20\n",
            "1     40\n",
            "2     60\n",
            "3     80\n",
            "4    100\n",
            "dtype: int64\n",
            "\n",
            "Sum of Two Series:\n",
            "0   NaN\n",
            "1   NaN\n",
            "2   NaN\n",
            "3   NaN\n",
            "4   NaN\n",
            "a   NaN\n",
            "b   NaN\n",
            "c   NaN\n",
            "dtype: float64\n",
            "\n",
            "Mean of the Series: 30.0\n",
            "Maximum value in the Series: 50\n"
          ]
        }
      ]
    },
    {
      "cell_type": "markdown",
      "source": [
        "\n",
        "\n",
        ">***3.2.2 Pandas DataFrames*** :\n",
        "-  Pandas DataFrame is a two-dimensional labeled data structure with columns that can be of different types. It is similar to a spreadsheet or SQL table and is a powerful tool for data manipulation and analysis.\n"
      ],
      "metadata": {
        "id": "Vfgb1znVb2cp"
      }
    },
    {
      "cell_type": "markdown",
      "source": [
        "\n",
        "\n",
        "> 3.2.2.1.Creating and Manipulating DataFrames:\n",
        "   - DataFrames can be created from various data structures, such as lists, dictionaries, or NumPy arrays.\n",
        "\n",
        "\n",
        "\n",
        "\n",
        "\n",
        "\n",
        "\n",
        "\n",
        "\n"
      ],
      "metadata": {
        "id": "0IZ_XCrub2cp"
      }
    },
    {
      "cell_type": "code",
      "source": [
        "import pandas as pd\n",
        "\n",
        "# Creating a DataFrame from a list of lists\n",
        "data = [['Alice', 25], ['Bob', 30], ['Charlie', 35]]\n",
        "df_from_list = pd.DataFrame(data, columns=['Name', 'Age'])\n",
        "print(\"DataFrame from List of Lists:\")\n",
        "print(df_from_list)\n",
        "\n",
        "# Creating a DataFrame from a dictionary\n",
        "data_dict = {'Name': ['Alice', 'Bob', 'Charlie'], 'Age': [25, 30, 35]}\n",
        "df_from_dict = pd.DataFrame(data_dict)\n",
        "print(\"\\nDataFrame from Dictionary:\")\n",
        "print(df_from_dict)\n"
      ],
      "metadata": {
        "colab": {
          "base_uri": "https://localhost:8080/"
        },
        "outputId": "2cda30ea-8bbd-4bc5-cfe7-1ae36304d4a6",
        "id": "0hpPT__caDKL"
      },
      "execution_count": null,
      "outputs": [
        {
          "output_type": "stream",
          "name": "stdout",
          "text": [
            "DataFrame from List of Lists:\n",
            "      Name  Age\n",
            "0    Alice   25\n",
            "1      Bob   30\n",
            "2  Charlie   35\n",
            "\n",
            "DataFrame from Dictionary:\n",
            "      Name  Age\n",
            "0    Alice   25\n",
            "1      Bob   30\n",
            "2  Charlie   35\n"
          ]
        }
      ]
    },
    {
      "cell_type": "markdown",
      "source": [
        "\n",
        "\n",
        "> 3.2.2.2. Reading and Writing Data with DataFrames:\n",
        "   - Pandas supports reading data from various file formats like CSV, Excel, and SQL databases.\n",
        "\n",
        "\n",
        "\n",
        "\n",
        "\n",
        "\n",
        "\n",
        "\n",
        "\n"
      ],
      "metadata": {
        "id": "9Wzo7hPhaDKL"
      }
    },
    {
      "cell_type": "code",
      "source": [
        "# Reading data from a CSV file\n",
        "df_from_csv = pd.read_csv('data.csv')\n",
        "print(\"\\nDataFrame from CSV:\")\n",
        "print(df_from_csv)\n",
        "\n",
        "# Writing data to a CSV file\n",
        "df_from_dict.to_csv('output.csv', index=False)\n",
        "print(\"\\nDataFrame Successfully Written to output.csv\")\n"
      ],
      "metadata": {
        "colab": {
          "base_uri": "https://localhost:8080/",
          "height": 391
        },
        "outputId": "a869f360-2a52-4891-9504-40a8edbf1fc7",
        "id": "pIN01UHqaDKL"
      },
      "execution_count": null,
      "outputs": [
        {
          "output_type": "error",
          "ename": "FileNotFoundError",
          "evalue": "ignored",
          "traceback": [
            "\u001b[0;31m---------------------------------------------------------------------------\u001b[0m",
            "\u001b[0;31mFileNotFoundError\u001b[0m                         Traceback (most recent call last)",
            "\u001b[0;32m<ipython-input-89-5a30efc7de69>\u001b[0m in \u001b[0;36m<cell line: 2>\u001b[0;34m()\u001b[0m\n\u001b[1;32m      1\u001b[0m \u001b[0;31m# Reading data from a CSV file\u001b[0m\u001b[0;34m\u001b[0m\u001b[0;34m\u001b[0m\u001b[0m\n\u001b[0;32m----> 2\u001b[0;31m \u001b[0mdf_from_csv\u001b[0m \u001b[0;34m=\u001b[0m \u001b[0mpd\u001b[0m\u001b[0;34m.\u001b[0m\u001b[0mread_csv\u001b[0m\u001b[0;34m(\u001b[0m\u001b[0;34m'data.csv'\u001b[0m\u001b[0;34m)\u001b[0m\u001b[0;34m\u001b[0m\u001b[0;34m\u001b[0m\u001b[0m\n\u001b[0m\u001b[1;32m      3\u001b[0m \u001b[0mprint\u001b[0m\u001b[0;34m(\u001b[0m\u001b[0;34m\"\\nDataFrame from CSV:\"\u001b[0m\u001b[0;34m)\u001b[0m\u001b[0;34m\u001b[0m\u001b[0;34m\u001b[0m\u001b[0m\n\u001b[1;32m      4\u001b[0m \u001b[0mprint\u001b[0m\u001b[0;34m(\u001b[0m\u001b[0mdf_from_csv\u001b[0m\u001b[0;34m)\u001b[0m\u001b[0;34m\u001b[0m\u001b[0;34m\u001b[0m\u001b[0m\n\u001b[1;32m      5\u001b[0m \u001b[0;34m\u001b[0m\u001b[0m\n",
            "\u001b[0;32m/usr/local/lib/python3.10/dist-packages/pandas/util/_decorators.py\u001b[0m in \u001b[0;36mwrapper\u001b[0;34m(*args, **kwargs)\u001b[0m\n\u001b[1;32m    209\u001b[0m                 \u001b[0;32melse\u001b[0m\u001b[0;34m:\u001b[0m\u001b[0;34m\u001b[0m\u001b[0;34m\u001b[0m\u001b[0m\n\u001b[1;32m    210\u001b[0m                     \u001b[0mkwargs\u001b[0m\u001b[0;34m[\u001b[0m\u001b[0mnew_arg_name\u001b[0m\u001b[0;34m]\u001b[0m \u001b[0;34m=\u001b[0m \u001b[0mnew_arg_value\u001b[0m\u001b[0;34m\u001b[0m\u001b[0;34m\u001b[0m\u001b[0m\n\u001b[0;32m--> 211\u001b[0;31m             \u001b[0;32mreturn\u001b[0m \u001b[0mfunc\u001b[0m\u001b[0;34m(\u001b[0m\u001b[0;34m*\u001b[0m\u001b[0margs\u001b[0m\u001b[0;34m,\u001b[0m \u001b[0;34m**\u001b[0m\u001b[0mkwargs\u001b[0m\u001b[0;34m)\u001b[0m\u001b[0;34m\u001b[0m\u001b[0;34m\u001b[0m\u001b[0m\n\u001b[0m\u001b[1;32m    212\u001b[0m \u001b[0;34m\u001b[0m\u001b[0m\n\u001b[1;32m    213\u001b[0m         \u001b[0;32mreturn\u001b[0m \u001b[0mcast\u001b[0m\u001b[0;34m(\u001b[0m\u001b[0mF\u001b[0m\u001b[0;34m,\u001b[0m \u001b[0mwrapper\u001b[0m\u001b[0;34m)\u001b[0m\u001b[0;34m\u001b[0m\u001b[0;34m\u001b[0m\u001b[0m\n",
            "\u001b[0;32m/usr/local/lib/python3.10/dist-packages/pandas/util/_decorators.py\u001b[0m in \u001b[0;36mwrapper\u001b[0;34m(*args, **kwargs)\u001b[0m\n\u001b[1;32m    329\u001b[0m                     \u001b[0mstacklevel\u001b[0m\u001b[0;34m=\u001b[0m\u001b[0mfind_stack_level\u001b[0m\u001b[0;34m(\u001b[0m\u001b[0;34m)\u001b[0m\u001b[0;34m,\u001b[0m\u001b[0;34m\u001b[0m\u001b[0;34m\u001b[0m\u001b[0m\n\u001b[1;32m    330\u001b[0m                 )\n\u001b[0;32m--> 331\u001b[0;31m             \u001b[0;32mreturn\u001b[0m \u001b[0mfunc\u001b[0m\u001b[0;34m(\u001b[0m\u001b[0;34m*\u001b[0m\u001b[0margs\u001b[0m\u001b[0;34m,\u001b[0m \u001b[0;34m**\u001b[0m\u001b[0mkwargs\u001b[0m\u001b[0;34m)\u001b[0m\u001b[0;34m\u001b[0m\u001b[0;34m\u001b[0m\u001b[0m\n\u001b[0m\u001b[1;32m    332\u001b[0m \u001b[0;34m\u001b[0m\u001b[0m\n\u001b[1;32m    333\u001b[0m         \u001b[0;31m# error: \"Callable[[VarArg(Any), KwArg(Any)], Any]\" has no\u001b[0m\u001b[0;34m\u001b[0m\u001b[0;34m\u001b[0m\u001b[0m\n",
            "\u001b[0;32m/usr/local/lib/python3.10/dist-packages/pandas/io/parsers/readers.py\u001b[0m in \u001b[0;36mread_csv\u001b[0;34m(filepath_or_buffer, sep, delimiter, header, names, index_col, usecols, squeeze, prefix, mangle_dupe_cols, dtype, engine, converters, true_values, false_values, skipinitialspace, skiprows, skipfooter, nrows, na_values, keep_default_na, na_filter, verbose, skip_blank_lines, parse_dates, infer_datetime_format, keep_date_col, date_parser, dayfirst, cache_dates, iterator, chunksize, compression, thousands, decimal, lineterminator, quotechar, quoting, doublequote, escapechar, comment, encoding, encoding_errors, dialect, error_bad_lines, warn_bad_lines, on_bad_lines, delim_whitespace, low_memory, memory_map, float_precision, storage_options)\u001b[0m\n\u001b[1;32m    948\u001b[0m     \u001b[0mkwds\u001b[0m\u001b[0;34m.\u001b[0m\u001b[0mupdate\u001b[0m\u001b[0;34m(\u001b[0m\u001b[0mkwds_defaults\u001b[0m\u001b[0;34m)\u001b[0m\u001b[0;34m\u001b[0m\u001b[0;34m\u001b[0m\u001b[0m\n\u001b[1;32m    949\u001b[0m \u001b[0;34m\u001b[0m\u001b[0m\n\u001b[0;32m--> 950\u001b[0;31m     \u001b[0;32mreturn\u001b[0m \u001b[0m_read\u001b[0m\u001b[0;34m(\u001b[0m\u001b[0mfilepath_or_buffer\u001b[0m\u001b[0;34m,\u001b[0m \u001b[0mkwds\u001b[0m\u001b[0;34m)\u001b[0m\u001b[0;34m\u001b[0m\u001b[0;34m\u001b[0m\u001b[0m\n\u001b[0m\u001b[1;32m    951\u001b[0m \u001b[0;34m\u001b[0m\u001b[0m\n\u001b[1;32m    952\u001b[0m \u001b[0;34m\u001b[0m\u001b[0m\n",
            "\u001b[0;32m/usr/local/lib/python3.10/dist-packages/pandas/io/parsers/readers.py\u001b[0m in \u001b[0;36m_read\u001b[0;34m(filepath_or_buffer, kwds)\u001b[0m\n\u001b[1;32m    603\u001b[0m \u001b[0;34m\u001b[0m\u001b[0m\n\u001b[1;32m    604\u001b[0m     \u001b[0;31m# Create the parser.\u001b[0m\u001b[0;34m\u001b[0m\u001b[0;34m\u001b[0m\u001b[0m\n\u001b[0;32m--> 605\u001b[0;31m     \u001b[0mparser\u001b[0m \u001b[0;34m=\u001b[0m \u001b[0mTextFileReader\u001b[0m\u001b[0;34m(\u001b[0m\u001b[0mfilepath_or_buffer\u001b[0m\u001b[0;34m,\u001b[0m \u001b[0;34m**\u001b[0m\u001b[0mkwds\u001b[0m\u001b[0;34m)\u001b[0m\u001b[0;34m\u001b[0m\u001b[0;34m\u001b[0m\u001b[0m\n\u001b[0m\u001b[1;32m    606\u001b[0m \u001b[0;34m\u001b[0m\u001b[0m\n\u001b[1;32m    607\u001b[0m     \u001b[0;32mif\u001b[0m \u001b[0mchunksize\u001b[0m \u001b[0;32mor\u001b[0m \u001b[0miterator\u001b[0m\u001b[0;34m:\u001b[0m\u001b[0;34m\u001b[0m\u001b[0;34m\u001b[0m\u001b[0m\n",
            "\u001b[0;32m/usr/local/lib/python3.10/dist-packages/pandas/io/parsers/readers.py\u001b[0m in \u001b[0;36m__init__\u001b[0;34m(self, f, engine, **kwds)\u001b[0m\n\u001b[1;32m   1440\u001b[0m \u001b[0;34m\u001b[0m\u001b[0m\n\u001b[1;32m   1441\u001b[0m         \u001b[0mself\u001b[0m\u001b[0;34m.\u001b[0m\u001b[0mhandles\u001b[0m\u001b[0;34m:\u001b[0m \u001b[0mIOHandles\u001b[0m \u001b[0;34m|\u001b[0m \u001b[0;32mNone\u001b[0m \u001b[0;34m=\u001b[0m \u001b[0;32mNone\u001b[0m\u001b[0;34m\u001b[0m\u001b[0;34m\u001b[0m\u001b[0m\n\u001b[0;32m-> 1442\u001b[0;31m         \u001b[0mself\u001b[0m\u001b[0;34m.\u001b[0m\u001b[0m_engine\u001b[0m \u001b[0;34m=\u001b[0m \u001b[0mself\u001b[0m\u001b[0;34m.\u001b[0m\u001b[0m_make_engine\u001b[0m\u001b[0;34m(\u001b[0m\u001b[0mf\u001b[0m\u001b[0;34m,\u001b[0m \u001b[0mself\u001b[0m\u001b[0;34m.\u001b[0m\u001b[0mengine\u001b[0m\u001b[0;34m)\u001b[0m\u001b[0;34m\u001b[0m\u001b[0;34m\u001b[0m\u001b[0m\n\u001b[0m\u001b[1;32m   1443\u001b[0m \u001b[0;34m\u001b[0m\u001b[0m\n\u001b[1;32m   1444\u001b[0m     \u001b[0;32mdef\u001b[0m \u001b[0mclose\u001b[0m\u001b[0;34m(\u001b[0m\u001b[0mself\u001b[0m\u001b[0;34m)\u001b[0m \u001b[0;34m->\u001b[0m \u001b[0;32mNone\u001b[0m\u001b[0;34m:\u001b[0m\u001b[0;34m\u001b[0m\u001b[0;34m\u001b[0m\u001b[0m\n",
            "\u001b[0;32m/usr/local/lib/python3.10/dist-packages/pandas/io/parsers/readers.py\u001b[0m in \u001b[0;36m_make_engine\u001b[0;34m(self, f, engine)\u001b[0m\n\u001b[1;32m   1733\u001b[0m                 \u001b[0;32mif\u001b[0m \u001b[0;34m\"b\"\u001b[0m \u001b[0;32mnot\u001b[0m \u001b[0;32min\u001b[0m \u001b[0mmode\u001b[0m\u001b[0;34m:\u001b[0m\u001b[0;34m\u001b[0m\u001b[0;34m\u001b[0m\u001b[0m\n\u001b[1;32m   1734\u001b[0m                     \u001b[0mmode\u001b[0m \u001b[0;34m+=\u001b[0m \u001b[0;34m\"b\"\u001b[0m\u001b[0;34m\u001b[0m\u001b[0;34m\u001b[0m\u001b[0m\n\u001b[0;32m-> 1735\u001b[0;31m             self.handles = get_handle(\n\u001b[0m\u001b[1;32m   1736\u001b[0m                 \u001b[0mf\u001b[0m\u001b[0;34m,\u001b[0m\u001b[0;34m\u001b[0m\u001b[0;34m\u001b[0m\u001b[0m\n\u001b[1;32m   1737\u001b[0m                 \u001b[0mmode\u001b[0m\u001b[0;34m,\u001b[0m\u001b[0;34m\u001b[0m\u001b[0;34m\u001b[0m\u001b[0m\n",
            "\u001b[0;32m/usr/local/lib/python3.10/dist-packages/pandas/io/common.py\u001b[0m in \u001b[0;36mget_handle\u001b[0;34m(path_or_buf, mode, encoding, compression, memory_map, is_text, errors, storage_options)\u001b[0m\n\u001b[1;32m    854\u001b[0m         \u001b[0;32mif\u001b[0m \u001b[0mioargs\u001b[0m\u001b[0;34m.\u001b[0m\u001b[0mencoding\u001b[0m \u001b[0;32mand\u001b[0m \u001b[0;34m\"b\"\u001b[0m \u001b[0;32mnot\u001b[0m \u001b[0;32min\u001b[0m \u001b[0mioargs\u001b[0m\u001b[0;34m.\u001b[0m\u001b[0mmode\u001b[0m\u001b[0;34m:\u001b[0m\u001b[0;34m\u001b[0m\u001b[0;34m\u001b[0m\u001b[0m\n\u001b[1;32m    855\u001b[0m             \u001b[0;31m# Encoding\u001b[0m\u001b[0;34m\u001b[0m\u001b[0;34m\u001b[0m\u001b[0m\n\u001b[0;32m--> 856\u001b[0;31m             handle = open(\n\u001b[0m\u001b[1;32m    857\u001b[0m                 \u001b[0mhandle\u001b[0m\u001b[0;34m,\u001b[0m\u001b[0;34m\u001b[0m\u001b[0;34m\u001b[0m\u001b[0m\n\u001b[1;32m    858\u001b[0m                 \u001b[0mioargs\u001b[0m\u001b[0;34m.\u001b[0m\u001b[0mmode\u001b[0m\u001b[0;34m,\u001b[0m\u001b[0;34m\u001b[0m\u001b[0;34m\u001b[0m\u001b[0m\n",
            "\u001b[0;31mFileNotFoundError\u001b[0m: [Errno 2] No such file or directory: 'data.csv'"
          ]
        }
      ]
    },
    {
      "cell_type": "markdown",
      "source": [
        "\n",
        "\n",
        "> 3.2.2.3. Indexing and Selecting Data in DataFrames:\n",
        "   - Indexing and selecting data in DataFrames can be done using column names and row indices..\n",
        "\n",
        "\n",
        "\n",
        "\n",
        "\n",
        "\n",
        "\n",
        "\n",
        "\n"
      ],
      "metadata": {
        "id": "CMgT7-f-aDKM"
      }
    },
    {
      "cell_type": "code",
      "source": [
        "# Selecting a column\n",
        "ages = df_from_dict['Age']\n",
        "print(\"\\nAges Column:\")\n",
        "print(ages)\n",
        "\n",
        "# Selecting multiple columns\n",
        "selected_cols = df_from_dict[['Name', 'Age']]\n",
        "print(\"\\nSelected Columns:\")\n",
        "print(selected_cols)\n",
        "\n",
        "# Selecting rows using boolean indexing\n",
        "young_people = df_from_dict[df_from_dict['Age'] < 30]\n",
        "print(\"\\nYoung People:\")\n",
        "print(young_people)\n"
      ],
      "metadata": {
        "colab": {
          "base_uri": "https://localhost:8080/"
        },
        "outputId": "8d21655f-7a1a-49a8-cdf3-206f45e112ff",
        "id": "t4PlT0FLaDKM"
      },
      "execution_count": null,
      "outputs": [
        {
          "output_type": "stream",
          "name": "stdout",
          "text": [
            "\n",
            "Ages Column:\n",
            "0    25\n",
            "1    30\n",
            "2    35\n",
            "Name: Age, dtype: int64\n",
            "\n",
            "Selected Columns:\n",
            "      Name  Age\n",
            "0    Alice   25\n",
            "1      Bob   30\n",
            "2  Charlie   35\n",
            "\n",
            "Young People:\n",
            "    Name  Age\n",
            "0  Alice   25\n"
          ]
        }
      ]
    },
    {
      "cell_type": "markdown",
      "source": [
        "\n",
        "\n",
        "> 3.2.2.4. Data Cleaning and Preprocessing:\n",
        "   - Data cleaning involves handling missing values, duplicates, and converting data types..\n",
        "\n",
        "\n",
        "\n",
        "\n",
        "\n",
        "\n",
        "\n",
        "\n",
        "\n"
      ],
      "metadata": {
        "id": "o15CfX7pcrBD"
      }
    },
    {
      "cell_type": "code",
      "source": [
        "# Handling missing values\n",
        "df_with_nan = pd.DataFrame({'A': [1, 2, np.nan], 'B': [4, np.nan, 6]})\n",
        "cleaned_df = df_with_nan.dropna()\n",
        "print(\"\\nCleaned DataFrame (Drop NaN):\")\n",
        "print(cleaned_df)\n",
        "\n",
        "# Removing duplicates\n",
        "df_with_duplicates = pd.DataFrame({'A': [1, 2, 2, 3], 'B': [4, 5, 5, 6]})\n",
        "unique_df = df_with_duplicates.drop_duplicates()\n",
        "print(\"\\nUnique DataFrame:\")\n",
        "print(unique_df)\n"
      ],
      "metadata": {
        "colab": {
          "base_uri": "https://localhost:8080/"
        },
        "outputId": "3c0b2f18-8329-465e-dc76-d5a495c2b370",
        "id": "KVUghRjKcrBJ"
      },
      "execution_count": null,
      "outputs": [
        {
          "output_type": "stream",
          "name": "stdout",
          "text": [
            "\n",
            "Cleaned DataFrame (Drop NaN):\n",
            "     A    B\n",
            "0  1.0  4.0\n",
            "\n",
            "Unique DataFrame:\n",
            "   A  B\n",
            "0  1  4\n",
            "1  2  5\n",
            "3  3  6\n"
          ]
        }
      ]
    },
    {
      "cell_type": "markdown",
      "source": [
        "\n",
        "\n",
        ">***3.2.3 Data Cleaning and Preprocessing with Pandas*** :\n",
        "\n"
      ],
      "metadata": {
        "id": "Gw5vPHSUhh8T"
      }
    },
    {
      "cell_type": "markdown",
      "source": [
        "\n",
        "\n",
        "> 3.2.3.1.Handling Missing Data:\n",
        "   - Dealing with missing data is a crucial step in data preprocessing. Pandas provides methods to identify and handle missing values.\n",
        "\n",
        "\n",
        "\n",
        "\n",
        "\n",
        "\n",
        "\n",
        "\n"
      ],
      "metadata": {
        "id": "-U8fIr2jhh8V"
      }
    },
    {
      "cell_type": "code",
      "source": [
        "import pandas as pd\n",
        "import numpy as np\n",
        "\n",
        "# Creating a DataFrame with missing values\n",
        "data = {'Name': ['Alice', 'Bob', np.nan, 'Charlie'],\n",
        "        'Age': [25, 30, np.nan, 35],\n",
        "        'Salary': [50000, 60000, np.nan, 75000]}\n",
        "\n",
        "df = pd.DataFrame(data)\n",
        "print(\"Original DataFrame:\")\n",
        "print(df)\n",
        "\n",
        "# Checking for missing values\n",
        "print(\"\\nMissing Values:\")\n",
        "print(df.isnull())\n",
        "\n",
        "# Dropping rows with missing values\n",
        "df_no_missing = df.dropna()\n",
        "print(\"\\nDataFrame after Dropping Missing Values:\")\n",
        "print(df_no_missing)\n",
        "\n",
        "# Filling missing values with a specific value\n",
        "df_filled = df.fillna({'Name': 'Unknown', 'Age': 0, 'Salary': 0})\n",
        "print(\"\\nDataFrame after Filling Missing Values:\")\n",
        "print(df_filled)\n"
      ],
      "metadata": {
        "colab": {
          "base_uri": "https://localhost:8080/"
        },
        "outputId": "e82e8b8b-c9a9-4305-de48-2621083a014c",
        "id": "dfiC-pwphh8V"
      },
      "execution_count": null,
      "outputs": [
        {
          "output_type": "stream",
          "name": "stdout",
          "text": [
            "Original DataFrame:\n",
            "      Name   Age   Salary\n",
            "0    Alice  25.0  50000.0\n",
            "1      Bob  30.0  60000.0\n",
            "2      NaN   NaN      NaN\n",
            "3  Charlie  35.0  75000.0\n",
            "\n",
            "Missing Values:\n",
            "    Name    Age  Salary\n",
            "0  False  False   False\n",
            "1  False  False   False\n",
            "2   True   True    True\n",
            "3  False  False   False\n",
            "\n",
            "DataFrame after Dropping Missing Values:\n",
            "      Name   Age   Salary\n",
            "0    Alice  25.0  50000.0\n",
            "1      Bob  30.0  60000.0\n",
            "3  Charlie  35.0  75000.0\n",
            "\n",
            "DataFrame after Filling Missing Values:\n",
            "      Name   Age   Salary\n",
            "0    Alice  25.0  50000.0\n",
            "1      Bob  30.0  60000.0\n",
            "2  Unknown   0.0      0.0\n",
            "3  Charlie  35.0  75000.0\n"
          ]
        }
      ]
    },
    {
      "cell_type": "markdown",
      "source": [
        "\n",
        "\n",
        "> 3.2.3.2. Removing Duplicates:\n",
        "   - Identifying and removing duplicate rows in a DataFrame can improve data quality.\n",
        "\n",
        "\n",
        "\n",
        "\n",
        "\n",
        "\n",
        "\n",
        "\n",
        "\n"
      ],
      "metadata": {
        "id": "S5hC4gr5hh8W"
      }
    },
    {
      "cell_type": "code",
      "source": [
        "# Creating a DataFrame with duplicate rows\n",
        "data_duplicates = {'Name': ['Alice', 'Bob', 'Charlie', 'Bob'],\n",
        "                    'Age': [25, 30, 35, 30],\n",
        "                    'Salary': [50000, 60000, 75000, 60000]}\n",
        "\n",
        "df_duplicates = pd.DataFrame(data_duplicates)\n",
        "print(\"\\nDataFrame with Duplicates:\")\n",
        "print(df_duplicates)\n",
        "\n",
        "# Identifying and removing duplicates\n",
        "df_no_duplicates = df_duplicates.drop_duplicates()\n",
        "print(\"\\nDataFrame after Removing Duplicates:\")\n",
        "print(df_no_duplicates)\n"
      ],
      "metadata": {
        "colab": {
          "base_uri": "https://localhost:8080/"
        },
        "outputId": "52203cc6-5ddf-4370-aa3d-7d3cf00fa5d6",
        "id": "w4hoHXsFhh8X"
      },
      "execution_count": null,
      "outputs": [
        {
          "output_type": "stream",
          "name": "stdout",
          "text": [
            "\n",
            "DataFrame with Duplicates:\n",
            "      Name  Age  Salary\n",
            "0    Alice   25   50000\n",
            "1      Bob   30   60000\n",
            "2  Charlie   35   75000\n",
            "3      Bob   30   60000\n",
            "\n",
            "DataFrame after Removing Duplicates:\n",
            "      Name  Age  Salary\n",
            "0    Alice   25   50000\n",
            "1      Bob   30   60000\n",
            "2  Charlie   35   75000\n"
          ]
        }
      ]
    },
    {
      "cell_type": "markdown",
      "source": [
        "\n",
        "\n",
        "> 3.2.3.3. Data Type Conversions:\n",
        "   - Converting data types is important for ensuring consistency in the dataset.\n",
        "\n",
        "\n",
        "\n",
        "\n",
        "\n",
        "\n",
        "\n",
        "\n",
        "\n"
      ],
      "metadata": {
        "id": "U5-irGtAhh8X"
      }
    },
    {
      "cell_type": "code",
      "source": [
        "# Checking data types\n",
        "print(\"\\nData Types:\")\n",
        "print(df.dtypes)\n",
        "\n",
        "# Converting data types\n",
        "df['Age'] = df['Age'].astype(int)\n",
        "print(\"\\nDataFrame after Converting Age to Integer:\")\n",
        "print(df)\n"
      ],
      "metadata": {
        "colab": {
          "base_uri": "https://localhost:8080/",
          "height": 495
        },
        "outputId": "5c63ed68-6de9-4b3a-bd76-a449b4801648",
        "id": "kIj7hVzihh8X"
      },
      "execution_count": null,
      "outputs": [
        {
          "output_type": "stream",
          "name": "stdout",
          "text": [
            "\n",
            "Data Types:\n",
            "Name       object\n",
            "Age       float64\n",
            "Salary    float64\n",
            "dtype: object\n"
          ]
        },
        {
          "output_type": "error",
          "ename": "IntCastingNaNError",
          "evalue": "ignored",
          "traceback": [
            "\u001b[0;31m---------------------------------------------------------------------------\u001b[0m",
            "\u001b[0;31mIntCastingNaNError\u001b[0m                        Traceback (most recent call last)",
            "\u001b[0;32m<ipython-input-3-e7339d61a6c5>\u001b[0m in \u001b[0;36m<cell line: 6>\u001b[0;34m()\u001b[0m\n\u001b[1;32m      4\u001b[0m \u001b[0;34m\u001b[0m\u001b[0m\n\u001b[1;32m      5\u001b[0m \u001b[0;31m# Converting data types\u001b[0m\u001b[0;34m\u001b[0m\u001b[0;34m\u001b[0m\u001b[0m\n\u001b[0;32m----> 6\u001b[0;31m \u001b[0mdf\u001b[0m\u001b[0;34m[\u001b[0m\u001b[0;34m'Age'\u001b[0m\u001b[0;34m]\u001b[0m \u001b[0;34m=\u001b[0m \u001b[0mdf\u001b[0m\u001b[0;34m[\u001b[0m\u001b[0;34m'Age'\u001b[0m\u001b[0;34m]\u001b[0m\u001b[0;34m.\u001b[0m\u001b[0mastype\u001b[0m\u001b[0;34m(\u001b[0m\u001b[0mint\u001b[0m\u001b[0;34m)\u001b[0m\u001b[0;34m\u001b[0m\u001b[0;34m\u001b[0m\u001b[0m\n\u001b[0m\u001b[1;32m      7\u001b[0m \u001b[0mprint\u001b[0m\u001b[0;34m(\u001b[0m\u001b[0;34m\"\\nDataFrame after Converting Age to Integer:\"\u001b[0m\u001b[0;34m)\u001b[0m\u001b[0;34m\u001b[0m\u001b[0;34m\u001b[0m\u001b[0m\n\u001b[1;32m      8\u001b[0m \u001b[0mprint\u001b[0m\u001b[0;34m(\u001b[0m\u001b[0mdf\u001b[0m\u001b[0;34m)\u001b[0m\u001b[0;34m\u001b[0m\u001b[0;34m\u001b[0m\u001b[0m\n",
            "\u001b[0;32m/usr/local/lib/python3.10/dist-packages/pandas/core/generic.py\u001b[0m in \u001b[0;36mastype\u001b[0;34m(self, dtype, copy, errors)\u001b[0m\n\u001b[1;32m   6238\u001b[0m         \u001b[0;32melse\u001b[0m\u001b[0;34m:\u001b[0m\u001b[0;34m\u001b[0m\u001b[0;34m\u001b[0m\u001b[0m\n\u001b[1;32m   6239\u001b[0m             \u001b[0;31m# else, only a single dtype is given\u001b[0m\u001b[0;34m\u001b[0m\u001b[0;34m\u001b[0m\u001b[0m\n\u001b[0;32m-> 6240\u001b[0;31m             \u001b[0mnew_data\u001b[0m \u001b[0;34m=\u001b[0m \u001b[0mself\u001b[0m\u001b[0;34m.\u001b[0m\u001b[0m_mgr\u001b[0m\u001b[0;34m.\u001b[0m\u001b[0mastype\u001b[0m\u001b[0;34m(\u001b[0m\u001b[0mdtype\u001b[0m\u001b[0;34m=\u001b[0m\u001b[0mdtype\u001b[0m\u001b[0;34m,\u001b[0m \u001b[0mcopy\u001b[0m\u001b[0;34m=\u001b[0m\u001b[0mcopy\u001b[0m\u001b[0;34m,\u001b[0m \u001b[0merrors\u001b[0m\u001b[0;34m=\u001b[0m\u001b[0merrors\u001b[0m\u001b[0;34m)\u001b[0m\u001b[0;34m\u001b[0m\u001b[0;34m\u001b[0m\u001b[0m\n\u001b[0m\u001b[1;32m   6241\u001b[0m             \u001b[0;32mreturn\u001b[0m \u001b[0mself\u001b[0m\u001b[0;34m.\u001b[0m\u001b[0m_constructor\u001b[0m\u001b[0;34m(\u001b[0m\u001b[0mnew_data\u001b[0m\u001b[0;34m)\u001b[0m\u001b[0;34m.\u001b[0m\u001b[0m__finalize__\u001b[0m\u001b[0;34m(\u001b[0m\u001b[0mself\u001b[0m\u001b[0;34m,\u001b[0m \u001b[0mmethod\u001b[0m\u001b[0;34m=\u001b[0m\u001b[0;34m\"astype\"\u001b[0m\u001b[0;34m)\u001b[0m\u001b[0;34m\u001b[0m\u001b[0;34m\u001b[0m\u001b[0m\n\u001b[1;32m   6242\u001b[0m \u001b[0;34m\u001b[0m\u001b[0m\n",
            "\u001b[0;32m/usr/local/lib/python3.10/dist-packages/pandas/core/internals/managers.py\u001b[0m in \u001b[0;36mastype\u001b[0;34m(self, dtype, copy, errors)\u001b[0m\n\u001b[1;32m    446\u001b[0m \u001b[0;34m\u001b[0m\u001b[0m\n\u001b[1;32m    447\u001b[0m     \u001b[0;32mdef\u001b[0m \u001b[0mastype\u001b[0m\u001b[0;34m(\u001b[0m\u001b[0mself\u001b[0m\u001b[0;34m:\u001b[0m \u001b[0mT\u001b[0m\u001b[0;34m,\u001b[0m \u001b[0mdtype\u001b[0m\u001b[0;34m,\u001b[0m \u001b[0mcopy\u001b[0m\u001b[0;34m:\u001b[0m \u001b[0mbool\u001b[0m \u001b[0;34m=\u001b[0m \u001b[0;32mFalse\u001b[0m\u001b[0;34m,\u001b[0m \u001b[0merrors\u001b[0m\u001b[0;34m:\u001b[0m \u001b[0mstr\u001b[0m \u001b[0;34m=\u001b[0m \u001b[0;34m\"raise\"\u001b[0m\u001b[0;34m)\u001b[0m \u001b[0;34m->\u001b[0m \u001b[0mT\u001b[0m\u001b[0;34m:\u001b[0m\u001b[0;34m\u001b[0m\u001b[0;34m\u001b[0m\u001b[0m\n\u001b[0;32m--> 448\u001b[0;31m         \u001b[0;32mreturn\u001b[0m \u001b[0mself\u001b[0m\u001b[0;34m.\u001b[0m\u001b[0mapply\u001b[0m\u001b[0;34m(\u001b[0m\u001b[0;34m\"astype\"\u001b[0m\u001b[0;34m,\u001b[0m \u001b[0mdtype\u001b[0m\u001b[0;34m=\u001b[0m\u001b[0mdtype\u001b[0m\u001b[0;34m,\u001b[0m \u001b[0mcopy\u001b[0m\u001b[0;34m=\u001b[0m\u001b[0mcopy\u001b[0m\u001b[0;34m,\u001b[0m \u001b[0merrors\u001b[0m\u001b[0;34m=\u001b[0m\u001b[0merrors\u001b[0m\u001b[0;34m)\u001b[0m\u001b[0;34m\u001b[0m\u001b[0;34m\u001b[0m\u001b[0m\n\u001b[0m\u001b[1;32m    449\u001b[0m \u001b[0;34m\u001b[0m\u001b[0m\n\u001b[1;32m    450\u001b[0m     def convert(\n",
            "\u001b[0;32m/usr/local/lib/python3.10/dist-packages/pandas/core/internals/managers.py\u001b[0m in \u001b[0;36mapply\u001b[0;34m(self, f, align_keys, ignore_failures, **kwargs)\u001b[0m\n\u001b[1;32m    350\u001b[0m                     \u001b[0mapplied\u001b[0m \u001b[0;34m=\u001b[0m \u001b[0mb\u001b[0m\u001b[0;34m.\u001b[0m\u001b[0mapply\u001b[0m\u001b[0;34m(\u001b[0m\u001b[0mf\u001b[0m\u001b[0;34m,\u001b[0m \u001b[0;34m**\u001b[0m\u001b[0mkwargs\u001b[0m\u001b[0;34m)\u001b[0m\u001b[0;34m\u001b[0m\u001b[0;34m\u001b[0m\u001b[0m\n\u001b[1;32m    351\u001b[0m                 \u001b[0;32melse\u001b[0m\u001b[0;34m:\u001b[0m\u001b[0;34m\u001b[0m\u001b[0;34m\u001b[0m\u001b[0m\n\u001b[0;32m--> 352\u001b[0;31m                     \u001b[0mapplied\u001b[0m \u001b[0;34m=\u001b[0m \u001b[0mgetattr\u001b[0m\u001b[0;34m(\u001b[0m\u001b[0mb\u001b[0m\u001b[0;34m,\u001b[0m \u001b[0mf\u001b[0m\u001b[0;34m)\u001b[0m\u001b[0;34m(\u001b[0m\u001b[0;34m**\u001b[0m\u001b[0mkwargs\u001b[0m\u001b[0;34m)\u001b[0m\u001b[0;34m\u001b[0m\u001b[0;34m\u001b[0m\u001b[0m\n\u001b[0m\u001b[1;32m    353\u001b[0m             \u001b[0;32mexcept\u001b[0m \u001b[0;34m(\u001b[0m\u001b[0mTypeError\u001b[0m\u001b[0;34m,\u001b[0m \u001b[0mNotImplementedError\u001b[0m\u001b[0;34m)\u001b[0m\u001b[0;34m:\u001b[0m\u001b[0;34m\u001b[0m\u001b[0;34m\u001b[0m\u001b[0m\n\u001b[1;32m    354\u001b[0m                 \u001b[0;32mif\u001b[0m \u001b[0;32mnot\u001b[0m \u001b[0mignore_failures\u001b[0m\u001b[0;34m:\u001b[0m\u001b[0;34m\u001b[0m\u001b[0;34m\u001b[0m\u001b[0m\n",
            "\u001b[0;32m/usr/local/lib/python3.10/dist-packages/pandas/core/internals/blocks.py\u001b[0m in \u001b[0;36mastype\u001b[0;34m(self, dtype, copy, errors)\u001b[0m\n\u001b[1;32m    524\u001b[0m         \u001b[0mvalues\u001b[0m \u001b[0;34m=\u001b[0m \u001b[0mself\u001b[0m\u001b[0;34m.\u001b[0m\u001b[0mvalues\u001b[0m\u001b[0;34m\u001b[0m\u001b[0;34m\u001b[0m\u001b[0m\n\u001b[1;32m    525\u001b[0m \u001b[0;34m\u001b[0m\u001b[0m\n\u001b[0;32m--> 526\u001b[0;31m         \u001b[0mnew_values\u001b[0m \u001b[0;34m=\u001b[0m \u001b[0mastype_array_safe\u001b[0m\u001b[0;34m(\u001b[0m\u001b[0mvalues\u001b[0m\u001b[0;34m,\u001b[0m \u001b[0mdtype\u001b[0m\u001b[0;34m,\u001b[0m \u001b[0mcopy\u001b[0m\u001b[0;34m=\u001b[0m\u001b[0mcopy\u001b[0m\u001b[0;34m,\u001b[0m \u001b[0merrors\u001b[0m\u001b[0;34m=\u001b[0m\u001b[0merrors\u001b[0m\u001b[0;34m)\u001b[0m\u001b[0;34m\u001b[0m\u001b[0;34m\u001b[0m\u001b[0m\n\u001b[0m\u001b[1;32m    527\u001b[0m \u001b[0;34m\u001b[0m\u001b[0m\n\u001b[1;32m    528\u001b[0m         \u001b[0mnew_values\u001b[0m \u001b[0;34m=\u001b[0m \u001b[0mmaybe_coerce_values\u001b[0m\u001b[0;34m(\u001b[0m\u001b[0mnew_values\u001b[0m\u001b[0;34m)\u001b[0m\u001b[0;34m\u001b[0m\u001b[0;34m\u001b[0m\u001b[0m\n",
            "\u001b[0;32m/usr/local/lib/python3.10/dist-packages/pandas/core/dtypes/astype.py\u001b[0m in \u001b[0;36mastype_array_safe\u001b[0;34m(values, dtype, copy, errors)\u001b[0m\n\u001b[1;32m    297\u001b[0m \u001b[0;34m\u001b[0m\u001b[0m\n\u001b[1;32m    298\u001b[0m     \u001b[0;32mtry\u001b[0m\u001b[0;34m:\u001b[0m\u001b[0;34m\u001b[0m\u001b[0;34m\u001b[0m\u001b[0m\n\u001b[0;32m--> 299\u001b[0;31m         \u001b[0mnew_values\u001b[0m \u001b[0;34m=\u001b[0m \u001b[0mastype_array\u001b[0m\u001b[0;34m(\u001b[0m\u001b[0mvalues\u001b[0m\u001b[0;34m,\u001b[0m \u001b[0mdtype\u001b[0m\u001b[0;34m,\u001b[0m \u001b[0mcopy\u001b[0m\u001b[0;34m=\u001b[0m\u001b[0mcopy\u001b[0m\u001b[0;34m)\u001b[0m\u001b[0;34m\u001b[0m\u001b[0;34m\u001b[0m\u001b[0m\n\u001b[0m\u001b[1;32m    300\u001b[0m     \u001b[0;32mexcept\u001b[0m \u001b[0;34m(\u001b[0m\u001b[0mValueError\u001b[0m\u001b[0;34m,\u001b[0m \u001b[0mTypeError\u001b[0m\u001b[0;34m)\u001b[0m\u001b[0;34m:\u001b[0m\u001b[0;34m\u001b[0m\u001b[0;34m\u001b[0m\u001b[0m\n\u001b[1;32m    301\u001b[0m         \u001b[0;31m# e.g. astype_nansafe can fail on object-dtype of strings\u001b[0m\u001b[0;34m\u001b[0m\u001b[0;34m\u001b[0m\u001b[0m\n",
            "\u001b[0;32m/usr/local/lib/python3.10/dist-packages/pandas/core/dtypes/astype.py\u001b[0m in \u001b[0;36mastype_array\u001b[0;34m(values, dtype, copy)\u001b[0m\n\u001b[1;32m    228\u001b[0m \u001b[0;34m\u001b[0m\u001b[0m\n\u001b[1;32m    229\u001b[0m     \u001b[0;32melse\u001b[0m\u001b[0;34m:\u001b[0m\u001b[0;34m\u001b[0m\u001b[0;34m\u001b[0m\u001b[0m\n\u001b[0;32m--> 230\u001b[0;31m         \u001b[0mvalues\u001b[0m \u001b[0;34m=\u001b[0m \u001b[0mastype_nansafe\u001b[0m\u001b[0;34m(\u001b[0m\u001b[0mvalues\u001b[0m\u001b[0;34m,\u001b[0m \u001b[0mdtype\u001b[0m\u001b[0;34m,\u001b[0m \u001b[0mcopy\u001b[0m\u001b[0;34m=\u001b[0m\u001b[0mcopy\u001b[0m\u001b[0;34m)\u001b[0m\u001b[0;34m\u001b[0m\u001b[0;34m\u001b[0m\u001b[0m\n\u001b[0m\u001b[1;32m    231\u001b[0m \u001b[0;34m\u001b[0m\u001b[0m\n\u001b[1;32m    232\u001b[0m     \u001b[0;31m# in pandas we don't store numpy str dtypes, so convert to object\u001b[0m\u001b[0;34m\u001b[0m\u001b[0;34m\u001b[0m\u001b[0m\n",
            "\u001b[0;32m/usr/local/lib/python3.10/dist-packages/pandas/core/dtypes/astype.py\u001b[0m in \u001b[0;36mastype_nansafe\u001b[0;34m(arr, dtype, copy, skipna)\u001b[0m\n\u001b[1;32m    138\u001b[0m \u001b[0;34m\u001b[0m\u001b[0m\n\u001b[1;32m    139\u001b[0m     \u001b[0;32melif\u001b[0m \u001b[0mnp\u001b[0m\u001b[0;34m.\u001b[0m\u001b[0missubdtype\u001b[0m\u001b[0;34m(\u001b[0m\u001b[0marr\u001b[0m\u001b[0;34m.\u001b[0m\u001b[0mdtype\u001b[0m\u001b[0;34m,\u001b[0m \u001b[0mnp\u001b[0m\u001b[0;34m.\u001b[0m\u001b[0mfloating\u001b[0m\u001b[0;34m)\u001b[0m \u001b[0;32mand\u001b[0m \u001b[0mis_integer_dtype\u001b[0m\u001b[0;34m(\u001b[0m\u001b[0mdtype\u001b[0m\u001b[0;34m)\u001b[0m\u001b[0;34m:\u001b[0m\u001b[0;34m\u001b[0m\u001b[0;34m\u001b[0m\u001b[0m\n\u001b[0;32m--> 140\u001b[0;31m         \u001b[0;32mreturn\u001b[0m \u001b[0m_astype_float_to_int_nansafe\u001b[0m\u001b[0;34m(\u001b[0m\u001b[0marr\u001b[0m\u001b[0;34m,\u001b[0m \u001b[0mdtype\u001b[0m\u001b[0;34m,\u001b[0m \u001b[0mcopy\u001b[0m\u001b[0;34m)\u001b[0m\u001b[0;34m\u001b[0m\u001b[0;34m\u001b[0m\u001b[0m\n\u001b[0m\u001b[1;32m    141\u001b[0m \u001b[0;34m\u001b[0m\u001b[0m\n\u001b[1;32m    142\u001b[0m     \u001b[0;32melif\u001b[0m \u001b[0mis_object_dtype\u001b[0m\u001b[0;34m(\u001b[0m\u001b[0marr\u001b[0m\u001b[0;34m.\u001b[0m\u001b[0mdtype\u001b[0m\u001b[0;34m)\u001b[0m\u001b[0;34m:\u001b[0m\u001b[0;34m\u001b[0m\u001b[0;34m\u001b[0m\u001b[0m\n",
            "\u001b[0;32m/usr/local/lib/python3.10/dist-packages/pandas/core/dtypes/astype.py\u001b[0m in \u001b[0;36m_astype_float_to_int_nansafe\u001b[0;34m(values, dtype, copy)\u001b[0m\n\u001b[1;32m    180\u001b[0m     \"\"\"\n\u001b[1;32m    181\u001b[0m     \u001b[0;32mif\u001b[0m \u001b[0;32mnot\u001b[0m \u001b[0mnp\u001b[0m\u001b[0;34m.\u001b[0m\u001b[0misfinite\u001b[0m\u001b[0;34m(\u001b[0m\u001b[0mvalues\u001b[0m\u001b[0;34m)\u001b[0m\u001b[0;34m.\u001b[0m\u001b[0mall\u001b[0m\u001b[0;34m(\u001b[0m\u001b[0;34m)\u001b[0m\u001b[0;34m:\u001b[0m\u001b[0;34m\u001b[0m\u001b[0;34m\u001b[0m\u001b[0m\n\u001b[0;32m--> 182\u001b[0;31m         raise IntCastingNaNError(\n\u001b[0m\u001b[1;32m    183\u001b[0m             \u001b[0;34m\"Cannot convert non-finite values (NA or inf) to integer\"\u001b[0m\u001b[0;34m\u001b[0m\u001b[0;34m\u001b[0m\u001b[0m\n\u001b[1;32m    184\u001b[0m         )\n",
            "\u001b[0;31mIntCastingNaNError\u001b[0m: Cannot convert non-finite values (NA or inf) to integer"
          ]
        }
      ]
    },
    {
      "cell_type": "markdown",
      "source": [
        "\n",
        "\n",
        "> 3.2.3.4. Renaming and Reindexing:\n",
        "   - Renaming columns and reindexing can make the DataFrame more readable..\n",
        "\n",
        "\n",
        "\n",
        "\n",
        "\n",
        "\n",
        "\n",
        "\n",
        "\n"
      ],
      "metadata": {
        "id": "PziFlRI3hh8Y"
      }
    },
    {
      "cell_type": "code",
      "source": [
        "# Renaming columns\n",
        "df.rename(columns={'Name': 'Full Name', 'Salary': 'Income'}, inplace=True)\n",
        "print(\"\\nDataFrame after Renaming Columns:\")\n",
        "print(df)\n",
        "\n",
        "# Reindexing the DataFrame\n",
        "new_index = ['a', 'b', 'c', 'd']\n",
        "df_reindexed = df.reindex(new_index)\n",
        "print(\"\\nDataFrame after Reindexing:\")\n",
        "print(df_reindexed)\n"
      ],
      "metadata": {
        "colab": {
          "base_uri": "https://localhost:8080/"
        },
        "outputId": "1be69fc4-1da0-46f0-a81e-103a02280362",
        "id": "rSffd2Zjhh8Y"
      },
      "execution_count": null,
      "outputs": [
        {
          "output_type": "stream",
          "name": "stdout",
          "text": [
            "\n",
            "DataFrame after Renaming Columns:\n",
            "  Full Name   Age   Income\n",
            "0     Alice  25.0  50000.0\n",
            "1       Bob  30.0  60000.0\n",
            "2       NaN   NaN      NaN\n",
            "3   Charlie  35.0  75000.0\n",
            "\n",
            "DataFrame after Reindexing:\n",
            "  Full Name  Age  Income\n",
            "a       NaN  NaN     NaN\n",
            "b       NaN  NaN     NaN\n",
            "c       NaN  NaN     NaN\n",
            "d       NaN  NaN     NaN\n"
          ]
        }
      ]
    },
    {
      "cell_type": "markdown",
      "source": [
        "\n",
        "\n",
        ">***3.2.4 Indexing and Selecting Data in Pandas:*** :\n",
        "\n"
      ],
      "metadata": {
        "id": "PxtfHefQjEEd"
      }
    },
    {
      "cell_type": "markdown",
      "source": [
        "\n",
        "\n",
        "> 3.2.4.1.Selecting and Indexing Rows and Columns:\n",
        "   - Pandas provides various methods for selecting specific rows and columns in a DataFrame.\n",
        "   - You can use the `loc` method to get a value of a specific row and column of a DataFrame. The `loc` method works by indexing the DataFrame using labels, rather than positions. `df.loc[row_label, column_name]`\n",
        "\n",
        "\n",
        "\n",
        "\n",
        "\n",
        "\n",
        "\n",
        "\n",
        "\n"
      ],
      "metadata": {
        "id": "L5_vPQqfjEEf"
      }
    },
    {
      "cell_type": "code",
      "source": [
        "import pandas as pd\n",
        "\n",
        "# Creating a sample DataFrame\n",
        "data = {'Name': ['Alice', 'Bob', 'Charlie', 'David'],\n",
        "        'Age': [25, 30, 35, 28],\n",
        "        'Salary': [50000, 60000, 75000, 55000]}\n",
        "\n",
        "df = pd.DataFrame(data)\n",
        "print(\"Original DataFrame:\")\n",
        "print(df)\n",
        "\n",
        "# Selecting a column by name\n",
        "ages = df['Age']\n",
        "print(\"\\nAges Column:\")\n",
        "print(ages)\n",
        "\n",
        "# Selecting multiple columns by name\n",
        "selected_cols = df[['Name', 'Salary']]\n",
        "print(\"\\nSelected Columns:\")\n",
        "print(selected_cols)\n",
        "\n",
        "# Selecting rows by index\n",
        "selected_rows = df.loc[1:2]  # Using labels\n",
        "print(\"\\nSelected Rows by Label:\")\n",
        "print(selected_rows)\n",
        "\n",
        "# Selecting rows and columns by label\n",
        "selected_rows_cols = df.loc[1:2, ['Name', 'Salary']]\n",
        "print(\"\\nSelected Rows and Columns by Label:\")\n",
        "print(selected_rows_cols)\n"
      ],
      "metadata": {
        "colab": {
          "base_uri": "https://localhost:8080/"
        },
        "outputId": "1e64fc46-7a76-4ed7-a641-9ab090f046ac",
        "id": "v8vFwYoijEEf"
      },
      "execution_count": 5,
      "outputs": [
        {
          "output_type": "stream",
          "name": "stdout",
          "text": [
            "Original DataFrame:\n",
            "      Name  Age  Salary\n",
            "0    Alice   25   50000\n",
            "1      Bob   30   60000\n",
            "2  Charlie   35   75000\n",
            "3    David   28   55000\n",
            "\n",
            "Ages Column:\n",
            "0    25\n",
            "1    30\n",
            "2    35\n",
            "3    28\n",
            "Name: Age, dtype: int64\n",
            "\n",
            "Selected Columns:\n",
            "      Name  Salary\n",
            "0    Alice   50000\n",
            "1      Bob   60000\n",
            "2  Charlie   75000\n",
            "3    David   55000\n",
            "\n",
            "Selected Rows by Label:\n",
            "      Name  Age  Salary\n",
            "1      Bob   30   60000\n",
            "2  Charlie   35   75000\n",
            "\n",
            "Selected Rows and Columns by Label:\n",
            "      Name  Salary\n",
            "1      Bob   60000\n",
            "2  Charlie   75000\n"
          ]
        }
      ]
    },
    {
      "cell_type": "markdown",
      "source": [
        "\n",
        "\n",
        "> 3.2.4.2.Boolean Indexing:\n",
        "   - Boolean indexing allows you to filter rows based on conditions.\n",
        "\n",
        "\n",
        "\n",
        "\n",
        "\n",
        "\n",
        "\n"
      ],
      "metadata": {
        "id": "qqpJ_7_VjEEg"
      }
    },
    {
      "cell_type": "code",
      "source": [
        "# Boolean indexing\n",
        "high_salary = df[df['Salary'] > 60000]\n",
        "print(\"\\nHigh Salary Employees:\")\n",
        "print(high_salary)\n",
        "\n",
        "# Combining multiple conditions\n",
        "young_high_salary = df[(df['Age'] < 30) & (df['Salary'] > 50000)]\n",
        "print(\"\\nYoung Employees with High Salary:\")\n",
        "print(young_high_salary)\n"
      ],
      "metadata": {
        "colab": {
          "base_uri": "https://localhost:8080/"
        },
        "outputId": "15b873cc-24cf-4e38-b054-967733863db7",
        "id": "W903oIyljEEh"
      },
      "execution_count": 6,
      "outputs": [
        {
          "output_type": "stream",
          "name": "stdout",
          "text": [
            "\n",
            "High Salary Employees:\n",
            "      Name  Age  Salary\n",
            "2  Charlie   35   75000\n",
            "\n",
            "Young Employees with High Salary:\n",
            "    Name  Age  Salary\n",
            "3  David   28   55000\n"
          ]
        }
      ]
    },
    {
      "cell_type": "markdown",
      "source": [
        "\n",
        "\n",
        "> 3.2.4.3.  Using iloc for Integer-based Indexing:\n",
        "   - `iloc` is used for integer-location based indexing.\n",
        "   - To get a value of a specific row and column of a DataFrame using `iloc`, you can use the following syntax:\n",
        "         df.iloc[row_index, df.columns.get_loc(column_name)]\n",
        "\n",
        "\n",
        "\n",
        "\n",
        "\n",
        "\n",
        "\n",
        "\n",
        "\n"
      ],
      "metadata": {
        "id": "6oF_Y0MEjEEh"
      }
    },
    {
      "cell_type": "code",
      "source": [
        "# Selecting rows and columns by integer positions\n",
        "selected_rows_cols_iloc = df.iloc[1:3, 0:2]\n",
        "print(\"\\nSelected Rows and Columns by Integer Positions (iloc):\")\n",
        "print(selected_rows_cols_iloc)\n"
      ],
      "metadata": {
        "colab": {
          "base_uri": "https://localhost:8080/"
        },
        "outputId": "89be93ea-1fc4-454d-97d5-cc00be8f917c",
        "id": "bATtcdCOjEEi"
      },
      "execution_count": 7,
      "outputs": [
        {
          "output_type": "stream",
          "name": "stdout",
          "text": [
            "\n",
            "Selected Rows and Columns by Integer Positions (iloc):\n",
            "      Name  Age\n",
            "1      Bob   30\n",
            "2  Charlie   35\n"
          ]
        }
      ]
    },
    {
      "cell_type": "markdown",
      "source": [
        "\n",
        "\n",
        ">***3.2.5 Data Aggregation and Grouping with Pandas:*** :\n",
        "\n"
      ],
      "metadata": {
        "id": "F8C_SluclfvR"
      }
    },
    {
      "cell_type": "markdown",
      "source": [
        "\n",
        "\n",
        "> 3.2.5.1.Grouping Data with Pandas:\n",
        "   - Grouping data is a fundamental operation in data analysis. It involves splitting the data into groups based on some criteria.\n",
        "\n",
        "\n",
        "\n",
        "\n",
        "\n",
        "\n",
        "\n",
        "\n"
      ],
      "metadata": {
        "id": "zvAKN8e7lfvb"
      }
    },
    {
      "cell_type": "code",
      "source": [
        "import pandas as pd\n",
        "\n",
        "# Creating a sample DataFrame\n",
        "data = {'Category': ['A', 'B', 'A', 'B', 'A', 'B'],\n",
        "        'Value': [10, 20, 30, 40, 50, 60]}\n",
        "\n",
        "df = pd.DataFrame(data)\n",
        "print(\"Original DataFrame:\")\n",
        "print(df)\n",
        "\n",
        "# Grouping by 'Category'\n",
        "grouped_data = df.groupby('Category')\n",
        "print(\"\\nGrouped Data:\")\n",
        "print(grouped_data)\n"
      ],
      "metadata": {
        "colab": {
          "base_uri": "https://localhost:8080/"
        },
        "outputId": "183e395d-821e-473a-9303-0f9138289f7e",
        "id": "jf4Nw7Mjlfvb"
      },
      "execution_count": 8,
      "outputs": [
        {
          "output_type": "stream",
          "name": "stdout",
          "text": [
            "Original DataFrame:\n",
            "  Category  Value\n",
            "0        A     10\n",
            "1        B     20\n",
            "2        A     30\n",
            "3        B     40\n",
            "4        A     50\n",
            "5        B     60\n",
            "\n",
            "Grouped Data:\n",
            "<pandas.core.groupby.generic.DataFrameGroupBy object at 0x793bf58ff250>\n"
          ]
        }
      ]
    },
    {
      "cell_type": "markdown",
      "source": [
        "\n",
        "\n",
        "> 3.2.5.2.Aggregating Data with Functions:\n",
        "   - Once the data is grouped, you can aggregate it using various functions like sum, mean, count, etc.\n",
        "\n",
        "\n",
        "\n",
        "\n",
        "\n",
        "\n",
        "\n"
      ],
      "metadata": {
        "id": "ihcu_9LJlfvb"
      }
    },
    {
      "cell_type": "code",
      "source": [
        "# Aggregating using mean\n",
        "mean_values = grouped_data.mean()\n",
        "print(\"\\nMean Values for Each Category:\")\n",
        "print(mean_values)\n",
        "\n",
        "# Aggregating using sum\n",
        "sum_values = grouped_data.sum()\n",
        "print(\"\\nSum of Values for Each Category:\")\n",
        "print(sum_values)\n",
        "\n",
        "# Aggregating using count\n",
        "count_values = grouped_data.count()\n",
        "print(\"\\nCount of Values for Each Category:\")\n",
        "print(count_values)\n"
      ],
      "metadata": {
        "colab": {
          "base_uri": "https://localhost:8080/"
        },
        "outputId": "f4b02527-b9ad-4e9a-e2c1-5fda13ad963f",
        "id": "qWDvNof_lfvb"
      },
      "execution_count": 9,
      "outputs": [
        {
          "output_type": "stream",
          "name": "stdout",
          "text": [
            "\n",
            "Mean Values for Each Category:\n",
            "          Value\n",
            "Category       \n",
            "A          30.0\n",
            "B          40.0\n",
            "\n",
            "Sum of Values for Each Category:\n",
            "          Value\n",
            "Category       \n",
            "A            90\n",
            "B           120\n",
            "\n",
            "Count of Values for Each Category:\n",
            "          Value\n",
            "Category       \n",
            "A             3\n",
            "B             3\n"
          ]
        }
      ]
    },
    {
      "cell_type": "markdown",
      "source": [
        "\n",
        "\n",
        "> 3.2.5.3.  Applying Custom Functions to Grouped Data:\n",
        "   - You can apply custom functions to the grouped data using the `apply` function.\n",
        "\n",
        "\n",
        "\n",
        "\n",
        "\n",
        "\n",
        "\n",
        "\n",
        "\n"
      ],
      "metadata": {
        "id": "PHcZUNnWlfvc"
      }
    },
    {
      "cell_type": "code",
      "source": [
        "# Applying a custom function to calculate the range\n",
        "def calculate_range(x):\n",
        "    return x.max() - x.min()\n",
        "\n",
        "# Applying the custom function to grouped data\n",
        "range_values = grouped_data['Value'].apply(calculate_range)\n",
        "print(\"\\nRange of Values for Each Category:\")\n",
        "print(range_values)\n"
      ],
      "metadata": {
        "colab": {
          "base_uri": "https://localhost:8080/"
        },
        "outputId": "f30863ba-bcaa-4a10-81c5-63bb3af90d54",
        "id": "gxTxsmnGlfvc"
      },
      "execution_count": 10,
      "outputs": [
        {
          "output_type": "stream",
          "name": "stdout",
          "text": [
            "\n",
            "Range of Values for Each Category:\n",
            "Category\n",
            "A    40\n",
            "B    40\n",
            "Name: Value, dtype: int64\n"
          ]
        }
      ]
    },
    {
      "cell_type": "markdown",
      "source": [
        "\n",
        "\n",
        ">***3.2.6 Data Merging and Joining with Pandas:*** :\n",
        "\n"
      ],
      "metadata": {
        "id": "Q93DzWe8sLGq"
      }
    },
    {
      "cell_type": "markdown",
      "source": [
        "\n",
        "\n",
        "> 3.2.6.1.Combining DataFrames using `merge`:\n",
        "   - Merging involves combining two or more DataFrames based on a common column or index. The merge function in Pandas provides a flexible way to perform this operation.\n",
        "\n",
        "\n",
        "\n",
        "\n",
        "\n",
        "\n",
        "\n",
        "\n"
      ],
      "metadata": {
        "id": "uoEEiaaIsLGx"
      }
    },
    {
      "cell_type": "code",
      "source": [
        "import pandas as pd\n",
        "\n",
        "# Creating sample DataFrames\n",
        "df1 = pd.DataFrame({'Employee': ['Alice', 'Bob', 'Charlie'],\n",
        "                    'Department': ['HR', 'Engineering', 'Marketing']})\n",
        "\n",
        "df2 = pd.DataFrame({'Employee': ['Bob', 'Charlie', 'David'],\n",
        "                    'Salary': [60000, 75000, 55000]})\n",
        "\n",
        "# Merging DataFrames based on the 'Employee' column\n",
        "merged_df = pd.merge(df1, df2, on='Employee')\n",
        "print(\"Merged DataFrame:\")\n",
        "print(merged_df)\n"
      ],
      "metadata": {
        "colab": {
          "base_uri": "https://localhost:8080/"
        },
        "outputId": "84b5299f-c59b-47c6-c959-f5b703e770b4",
        "id": "y2S7V-LWsLGx"
      },
      "execution_count": 11,
      "outputs": [
        {
          "output_type": "stream",
          "name": "stdout",
          "text": [
            "Merged DataFrame:\n",
            "  Employee   Department  Salary\n",
            "0      Bob  Engineering   60000\n",
            "1  Charlie    Marketing   75000\n"
          ]
        }
      ]
    },
    {
      "cell_type": "markdown",
      "source": [
        "\n",
        "\n",
        "> 3.2.6.2.Understanding Different Types of Joins:\n",
        "   - Different types of joins (inner, outer, left, right) determine how the merging operation is performed.\n",
        "\n",
        "\n",
        "\n",
        "\n",
        "\n",
        "\n",
        "\n"
      ],
      "metadata": {
        "id": "oIMfxCQ-sLGx"
      }
    },
    {
      "cell_type": "code",
      "source": [
        "# Creating sample DataFrames for different types of joins\n",
        "df3 = pd.DataFrame({'Employee': ['Charlie', 'David', 'Eve'],\n",
        "                    'Department': ['Sales', 'Finance', 'HR']})\n",
        "\n",
        "# Performing different types of joins\n",
        "inner_join = pd.merge(df1, df3, on='Employee', how='inner')\n",
        "outer_join = pd.merge(df1, df3, on='Employee', how='outer')\n",
        "left_join = pd.merge(df1, df3, on='Employee', how='left')\n",
        "right_join = pd.merge(df1, df3, on='Employee', how='right')\n",
        "\n",
        "print(\"\\nInner Join:\")\n",
        "print(inner_join)\n",
        "\n",
        "print(\"\\nOuter Join:\")\n",
        "print(outer_join)\n",
        "\n",
        "print(\"\\nLeft Join:\")\n",
        "print(left_join)\n",
        "\n",
        "print(\"\\nRight Join:\")\n",
        "print(right_join)\n"
      ],
      "metadata": {
        "colab": {
          "base_uri": "https://localhost:8080/"
        },
        "outputId": "0137662a-be2b-414f-a3d5-918dd48261c0",
        "id": "kXiXAvJEsLGy"
      },
      "execution_count": 12,
      "outputs": [
        {
          "output_type": "stream",
          "name": "stdout",
          "text": [
            "\n",
            "Inner Join:\n",
            "  Employee Department_x Department_y\n",
            "0  Charlie    Marketing        Sales\n",
            "\n",
            "Outer Join:\n",
            "  Employee Department_x Department_y\n",
            "0    Alice           HR          NaN\n",
            "1      Bob  Engineering          NaN\n",
            "2  Charlie    Marketing        Sales\n",
            "3    David          NaN      Finance\n",
            "4      Eve          NaN           HR\n",
            "\n",
            "Left Join:\n",
            "  Employee Department_x Department_y\n",
            "0    Alice           HR          NaN\n",
            "1      Bob  Engineering          NaN\n",
            "2  Charlie    Marketing        Sales\n",
            "\n",
            "Right Join:\n",
            "  Employee Department_x Department_y\n",
            "0  Charlie    Marketing        Sales\n",
            "1    David          NaN      Finance\n",
            "2      Eve          NaN           HR\n"
          ]
        }
      ]
    },
    {
      "cell_type": "markdown",
      "source": [
        "\n",
        "\n",
        ">***3.2.7 Time Series Analysis with Pandas:*** :\n",
        "\n"
      ],
      "metadata": {
        "id": "PL7i6fHAs1O5"
      }
    },
    {
      "cell_type": "markdown",
      "source": [
        "\n",
        "\n",
        "> 3.2.7.1.Working with Time Series Data:\n",
        "   - Pandas provides specialized data structures and functions for handling time series data. The DateTimeIndex is particularly useful for indexing time series data.\n",
        "\n",
        "\n",
        "\n",
        "\n",
        "\n",
        "\n",
        "\n",
        "\n"
      ],
      "metadata": {
        "id": "gzY76yfxs1O5"
      }
    },
    {
      "cell_type": "code",
      "source": [
        "import pandas as pd\n",
        "import numpy as np\n",
        "\n",
        "# Creating a time series DataFrame\n",
        "date_rng = pd.date_range(start='2022-01-01', end='2022-01-10', freq='D')\n",
        "time_series_df = pd.DataFrame(date_rng, columns=['date'])\n",
        "time_series_df['data'] = np.random.randint(0, 100, size=(len(date_rng)))\n",
        "\n",
        "print(\"Time Series DataFrame:\")\n",
        "print(time_series_df)\n"
      ],
      "metadata": {
        "colab": {
          "base_uri": "https://localhost:8080/"
        },
        "outputId": "e875923f-476a-46a6-9ff6-4d353420f306",
        "id": "WQ1KX0kHs1O6"
      },
      "execution_count": 13,
      "outputs": [
        {
          "output_type": "stream",
          "name": "stdout",
          "text": [
            "Time Series DataFrame:\n",
            "        date  data\n",
            "0 2022-01-01    11\n",
            "1 2022-01-02    10\n",
            "2 2022-01-03    53\n",
            "3 2022-01-04    64\n",
            "4 2022-01-05     6\n",
            "5 2022-01-06    23\n",
            "6 2022-01-07    18\n",
            "7 2022-01-08    69\n",
            "8 2022-01-09    74\n",
            "9 2022-01-10    22\n"
          ]
        }
      ]
    },
    {
      "cell_type": "markdown",
      "source": [
        "\n",
        "\n",
        "> 3.2.7.2.Resampling and Frequency Conversion:\n",
        "   - Resampling involves changing the frequency of the time series data. This is useful for aggregating or downsampling data.\n",
        "\n",
        "\n",
        "\n",
        "\n",
        "\n",
        "\n",
        "\n"
      ],
      "metadata": {
        "id": "1adlCQsjs1O6"
      }
    },
    {
      "cell_type": "code",
      "source": [
        "# Resampling to weekly frequency\n",
        "weekly_resampled = time_series_df.resample('W-Mon', on='date').sum()\n",
        "print(\"\\nWeekly Resampled Data:\")\n",
        "print(weekly_resampled)\n"
      ],
      "metadata": {
        "colab": {
          "base_uri": "https://localhost:8080/"
        },
        "outputId": "c9b93937-ddeb-41ad-c9f8-1778ad6aaec9",
        "id": "ttW2wbyis1O6"
      },
      "execution_count": 14,
      "outputs": [
        {
          "output_type": "stream",
          "name": "stdout",
          "text": [
            "\n",
            "Weekly Resampled Data:\n",
            "            data\n",
            "date            \n",
            "2022-01-03    74\n",
            "2022-01-10   276\n"
          ]
        }
      ]
    },
    {
      "cell_type": "markdown",
      "source": [
        "\n",
        "\n",
        "> 3.2.7.3.Rolling Statistics and Moving Averages::\n",
        "   - Rolling statistics and moving averages are essential for smoothing time series data and identifying trends.\n",
        "\n",
        "\n",
        "\n",
        "\n",
        "\n",
        "\n",
        "\n"
      ],
      "metadata": {
        "id": "_GTkMKAsteXs"
      }
    },
    {
      "cell_type": "code",
      "source": [
        "# Creating a rolling window for moving averages\n",
        "time_series_df['rolling_mean'] = time_series_df['data'].rolling(window=3).mean()\n",
        "print(\"\\nTime Series with Rolling Mean:\")\n",
        "print(time_series_df)\n",
        "\n",
        "# Plotting the original and smoothed time series data\n",
        "import matplotlib.pyplot as plt\n",
        "\n",
        "plt.plot(time_series_df['date'], time_series_df['data'], label='Original Data')\n",
        "plt.plot(time_series_df['date'], time_series_df['rolling_mean'], label='Rolling Mean')\n",
        "plt.legend()\n",
        "plt.title('Original and Smoothed Time Series Data')\n",
        "plt.show()\n"
      ],
      "metadata": {
        "colab": {
          "base_uri": "https://localhost:8080/",
          "height": 678
        },
        "outputId": "efa20eef-eb6e-4977-c2cd-34b48339344f",
        "id": "wPZbGAbLteXs"
      },
      "execution_count": 15,
      "outputs": [
        {
          "output_type": "stream",
          "name": "stdout",
          "text": [
            "\n",
            "Time Series with Rolling Mean:\n",
            "        date  data  rolling_mean\n",
            "0 2022-01-01    11           NaN\n",
            "1 2022-01-02    10           NaN\n",
            "2 2022-01-03    53     24.666667\n",
            "3 2022-01-04    64     42.333333\n",
            "4 2022-01-05     6     41.000000\n",
            "5 2022-01-06    23     31.000000\n",
            "6 2022-01-07    18     15.666667\n",
            "7 2022-01-08    69     36.666667\n",
            "8 2022-01-09    74     53.666667\n",
            "9 2022-01-10    22     55.000000\n"
          ]
        },
        {
          "output_type": "display_data",
          "data": {
            "text/plain": [
              "<Figure size 640x480 with 1 Axes>"
            ],
            "image/png": "[encoded data removed]"
          },
          "metadata": {}
        }
      ]
    },
    {
      "cell_type": "code",
      "source": [],
      "metadata": {
        "id": "d_P8MWF5s1O6"
      },
      "execution_count": null,
      "outputs": []
    },
    {
      "cell_type": "markdown",
      "source": [
        "\n",
        "\n",
        ">***3.2.8 Visualization with Pandas:***\n",
        "\n"
      ],
      "metadata": {
        "id": "Gj8LfON3uVDi"
      }
    },
    {
      "cell_type": "markdown",
      "source": [
        "\n",
        "\n",
        "> 3.2.8.1.Plotting Data using Pandas:\n",
        "   - Pandas provides convenient functions for data visualization, making it easy to create plots directly from DataFrames.\n",
        "\n",
        "\n",
        "\n",
        "\n",
        "\n",
        "\n",
        "\n",
        "\n"
      ],
      "metadata": {
        "id": "thrW44u7uVDv"
      }
    },
    {
      "cell_type": "code",
      "source": [
        "import pandas as pd\n",
        "import numpy as np\n",
        "import matplotlib.pyplot as plt\n",
        "\n",
        "# Creating a DataFrame for visualization\n",
        "data = {'Date': pd.date_range(start='2022-01-01', periods=10),\n",
        "        'Value': np.random.randint(0, 100, size=10)}\n",
        "\n",
        "df = pd.DataFrame(data)\n",
        "\n",
        "# Plotting a line chart\n",
        "df.plot(x='Date', y='Value', kind='line', title='Line Chart')\n",
        "plt.show()\n"
      ],
      "metadata": {
        "colab": {
          "base_uri": "https://localhost:8080/",
          "height": 504
        },
        "outputId": "8414ed07-2fcc-48ba-ad09-9fd490136860",
        "id": "mX5hH1zPuVDw"
      },
      "execution_count": 16,
      "outputs": [
        {
          "output_type": "display_data",
          "data": {
            "text/plain": [
              "<Figure size 640x480 with 1 Axes>"
            ],
            "image/png": "[encoded data removed]"
          },
          "metadata": {}
        }
      ]
    },
    {
      "cell_type": "markdown",
      "source": [
        "\n",
        "\n",
        "> 3.2.8.2.Exploring Different Types of Plots:\n",
        "   - Pandas supports various plot types, including line plots, bar plots, and histograms.\n",
        "\n",
        "\n",
        "\n",
        "\n",
        "\n",
        "\n",
        "\n"
      ],
      "metadata": {
        "id": "cPdLrZj0uVDw"
      }
    },
    {
      "cell_type": "code",
      "source": [
        "# Bar plot\n",
        "df.plot(x='Date', y='Value', kind='bar', title='Bar Plot')\n",
        "plt.show()\n",
        "\n",
        "# Horizontal bar plot\n",
        "df.plot(x='Date', y='Value', kind='barh', title='Horizontal Bar Plot')\n",
        "plt.show()\n",
        "\n",
        "# Histogram\n",
        "df['Value'].plot(kind='hist', bins=10, title='Histogram')\n",
        "plt.show()\n"
      ],
      "metadata": {
        "colab": {
          "base_uri": "https://localhost:8080/",
          "height": 1000
        },
        "outputId": "011d2762-2ae2-49ce-f4e5-de589645d561",
        "id": "T3FJLKCUuVDx"
      },
      "execution_count": 17,
      "outputs": [
        {
          "output_type": "display_data",
          "data": {
            "text/plain": [
              "<Figure size 640x480 with 1 Axes>"
            ],
            "image/png": "[encoded data removed]"
          },
          "metadata": {}
        },
        {
          "output_type": "display_data",
          "data": {
            "text/plain": [
              "<Figure size 640x480 with 1 Axes>"
            ],
            "image/png": "[encoded data removed]"
          },
          "metadata": {}
        },
        {
          "output_type": "display_data",
          "data": {
            "text/plain": [
              "<Figure size 640x480 with 1 Axes>"
            ],
            "image/png": "[encoded data removed]"
          },
          "metadata": {}
        }
      ]
    },
    {
      "cell_type": "markdown",
      "source": [
        "\n",
        "\n",
        "> 3.2.8.3.Customizing Plots:\n",
        "   - You can customize plots further by adjusting colors, labels, and other parameters.\n",
        "\n",
        "\n",
        "\n",
        "\n",
        "\n",
        "\n",
        "\n"
      ],
      "metadata": {
        "id": "0g6sROExuVDx"
      }
    },
    {
      "cell_type": "code",
      "source": [
        "# Customizing a line plot\n",
        "df.plot(x='Date', y='Value', kind='line', color='green', linestyle='--', marker='o',\n",
        "        title='Customized Line Plot', xlabel='Date', ylabel='Value')\n",
        "plt.show()\n"
      ],
      "metadata": {
        "colab": {
          "base_uri": "https://localhost:8080/",
          "height": 504
        },
        "outputId": "eb4a6fda-2a34-4828-8c98-6cb0efcd87f2",
        "id": "K0rUxrQFuVDx"
      },
      "execution_count": 18,
      "outputs": [
        {
          "output_type": "display_data",
          "data": {
            "text/plain": [
              "<Figure size 640x480 with 1 Axes>"
            ],
            "image/png": "[encoded data removed]"
          },
          "metadata": {}
        }
      ]
    },
    {
      "cell_type": "markdown",
      "source": [
        "\n",
        "\n",
        "> 3.2.8.4.Subplots with Pandas:\n",
        "   - Subplots can be created to visualize multiple plots in one figure.\n",
        "\n",
        "\n",
        "\n",
        "\n",
        "\n",
        "\n",
        "\n"
      ],
      "metadata": {
        "id": "G3-8biYFu60u"
      }
    },
    {
      "cell_type": "code",
      "source": [
        "# Creating subplots\n",
        "fig, axes = plt.subplots(nrows=2, ncols=2, figsize=(10, 6))\n",
        "\n",
        "# Line plot\n",
        "df.plot(x='Date', y='Value', kind='line', ax=axes[0, 0], title='Line Plot')\n",
        "\n",
        "# Bar plot\n",
        "df.plot(x='Date', y='Value', kind='bar', ax=axes[0, 1], title='Bar Plot')\n",
        "\n",
        "# Horizontal bar plot\n",
        "df.plot(x='Date', y='Value', kind='barh', ax=axes[1, 0], title='Horizontal Bar Plot')\n",
        "\n",
        "# Histogram\n",
        "df['Value'].plot(kind='hist', bins=10, ax=axes[1, 1], title='Histogram')\n",
        "\n",
        "plt.tight_layout()\n",
        "plt.show()\n"
      ],
      "metadata": {
        "colab": {
          "base_uri": "https://localhost:8080/",
          "height": 607
        },
        "outputId": "c5efce66-62b1-49c3-ef3e-314cea84feaf",
        "id": "Z0XT92r6u601"
      },
      "execution_count": 19,
      "outputs": [
        {
          "output_type": "display_data",
          "data": {
            "text/plain": [
              "<Figure size 1000x600 with 4 Axes>"
            ],
            "image/png": "[encoded data removed]"
          },
          "metadata": {}
        }
      ]
    },
    {
      "cell_type": "markdown",
      "source": [
        "\n",
        "\n",
        ">***3.2.9 Advanced Data Analysis with Pandas:***\n",
        "\n"
      ],
      "metadata": {
        "id": "YC2TkFQSy4sB"
      }
    },
    {
      "cell_type": "markdown",
      "source": [
        "\n",
        "\n",
        "> 3.2.9.1.Pivot Tables and Cross-Tabulations:\n",
        "   - Pivot tables and cross-tabulations are powerful tools for summarizing and analyzing data from multiple perspectives.\n",
        "\n",
        "   Pivot tables and cross-tabulations are two powerful tools for summarizing and analyzing data in pandas. Both techniques allow you to aggregate and reorganize data to reveal patterns and trends. However, they differ in their approach and the type of information they provide.\n",
        "\n",
        "Pivot Tables\n",
        "\n",
        "Pivot tables are a versatile tool for summarizing and analyzing large datasets. They provide a flexible way to aggregate data based on multiple dimensions, allowing you to create concise and informative summaries of complex data.\n",
        "\n",
        "Pivot tables typically involve the following steps:\n",
        "\n",
        "Selecting data: Identify the dataset you want to analyze and select the relevant columns for the pivot table.\n",
        "\n",
        "Defining index and columns: Specify the columns that will act as the rows (index) and columns (columns) of the pivot table.\n",
        "\n",
        "Aggregating values: Choose an aggregation function (e.g., sum, mean, count) to apply to the values you want to summarize.\n",
        "\n",
        "Pandas provides a built-in pivot_table() function that simplifies the process of creating and manipulating pivot tables.\n",
        "\n",
        "Cross-Tabulations\n",
        "\n",
        "Cross-tabulations, also known as cross-tabs or contingency tables, are a specific type of pivot table that focuses on summarizing the frequency of occurrences in two or more categorical variables. They provide a concise way to visualize the relationship between different categories.\n",
        "\n",
        "Cross-tabulations are typically created using the crosstab() function in pandas. This function takes two or more arrays of data and returns a DataFrame with the frequency counts for each combination of categories.\n",
        "\n",
        "Key Differences\n",
        "\n",
        "Pivot tables offer greater flexibility and customization compared to cross-tabulations. They allow for more complex aggregations, calculations, and filtering options. Cross-tabulations, on the other hand, are simpler and more focused on summarizing frequency counts for categorical variables.\n",
        "\n",
        "When to Use Each Technique\n",
        "\n",
        "Pivot tables are suitable for analyzing large datasets and summarizing data based on multiple dimensions. They are useful for identifying trends, patterns, and relationships within the data. Cross-tabulations are appropriate when you want to focus on the frequency of occurrences in two or more categorical variables. They provide a quick and concise way to visualize the relationships between categories.\n",
        "\n",
        "\n",
        "\n",
        "\n",
        "\n",
        "\n",
        "\n",
        "\n"
      ],
      "metadata": {
        "id": "XQIWAvR2y4sC"
      }
    },
    {
      "cell_type": "code",
      "source": [
        "import pandas as pd\n",
        "\n",
        "# Creating a sample DataFrame\n",
        "data = {'Date': pd.date_range(start='2022-01-01', periods=10),\n",
        "        'Category': ['A', 'B', 'A', 'B', 'A', 'B', 'A', 'B', 'A', 'B'],\n",
        "        'Value': [10, 20, 30, 40, 50, 60, 70, 80, 90, 100]}\n",
        "\n",
        "df = pd.DataFrame(data)\n",
        "\n",
        "# Creating a pivot table\n",
        "pivot_table = df.pivot_table(values='Value', index='Date', columns='Category', aggfunc='sum')\n",
        "print(\"Pivot Table:\")\n",
        "print(pivot_table)\n",
        "\n",
        "# Creating a cross-tabulation\n",
        "cross_tab = pd.crosstab(df['Date'], df['Category'], values=df['Value'], aggfunc='sum')\n",
        "print(\"\\nCross-Tabulation:\")\n",
        "print(cross_tab)\n"
      ],
      "metadata": {
        "colab": {
          "base_uri": "https://localhost:8080/"
        },
        "outputId": "705cdc38-ef52-402e-d6d3-30edc2c51f54",
        "id": "vUd8D4mVy4sC"
      },
      "execution_count": 20,
      "outputs": [
        {
          "output_type": "stream",
          "name": "stdout",
          "text": [
            "Pivot Table:\n",
            "Category       A      B\n",
            "Date                   \n",
            "2022-01-01  10.0    NaN\n",
            "2022-01-02   NaN   20.0\n",
            "2022-01-03  30.0    NaN\n",
            "2022-01-04   NaN   40.0\n",
            "2022-01-05  50.0    NaN\n",
            "2022-01-06   NaN   60.0\n",
            "2022-01-07  70.0    NaN\n",
            "2022-01-08   NaN   80.0\n",
            "2022-01-09  90.0    NaN\n",
            "2022-01-10   NaN  100.0\n",
            "\n",
            "Cross-Tabulation:\n",
            "Category       A      B\n",
            "Date                   \n",
            "2022-01-01  10.0    NaN\n",
            "2022-01-02   NaN   20.0\n",
            "2022-01-03  30.0    NaN\n",
            "2022-01-04   NaN   40.0\n",
            "2022-01-05  50.0    NaN\n",
            "2022-01-06   NaN   60.0\n",
            "2022-01-07  70.0    NaN\n",
            "2022-01-08   NaN   80.0\n",
            "2022-01-09  90.0    NaN\n",
            "2022-01-10   NaN  100.0\n"
          ]
        }
      ]
    },
    {
      "cell_type": "markdown",
      "source": [
        "\n",
        "\n",
        "> 3.2.9.2.Applying Functions Element-Wise with apply:\n",
        "   - The `apply` function allows you to apply a custom function to each element or row/column in a DataFrame.\n",
        "\n",
        "\n",
        "\n",
        "\n",
        "\n",
        "\n",
        "\n"
      ],
      "metadata": {
        "id": "yLEXXKdKy4sC"
      }
    },
    {
      "cell_type": "code",
      "source": [
        "# Applying a function element-wise\n",
        "def square_value(x):\n",
        "    return x ** 2\n",
        "\n",
        "df['Squared_Value'] = df['Value'].apply(square_value)\n",
        "print(\"\\nDataFrame with Squared Values:\")\n",
        "print(df)\n"
      ],
      "metadata": {
        "colab": {
          "base_uri": "https://localhost:8080/"
        },
        "outputId": "5a60462d-b51e-4ec3-9b95-67d44faba219",
        "id": "Xn_45Vily4sC"
      },
      "execution_count": 21,
      "outputs": [
        {
          "output_type": "stream",
          "name": "stdout",
          "text": [
            "\n",
            "DataFrame with Squared Values:\n",
            "        Date Category  Value  Squared_Value\n",
            "0 2022-01-01        A     10            100\n",
            "1 2022-01-02        B     20            400\n",
            "2 2022-01-03        A     30            900\n",
            "3 2022-01-04        B     40           1600\n",
            "4 2022-01-05        A     50           2500\n",
            "5 2022-01-06        B     60           3600\n",
            "6 2022-01-07        A     70           4900\n",
            "7 2022-01-08        B     80           6400\n",
            "8 2022-01-09        A     90           8100\n",
            "9 2022-01-10        B    100          10000\n"
          ]
        }
      ]
    },
    {
      "cell_type": "code",
      "source": [],
      "metadata": {
        "id": "n4PEMUWFuVDy"
      },
      "execution_count": null,
      "outputs": []
    },
    {
      "cell_type": "code",
      "source": [],
      "metadata": {
        "id": "lKks6m7ZuVDy"
      },
      "execution_count": null,
      "outputs": []
    },
    {
      "cell_type": "code",
      "source": [],
      "metadata": {
        "id": "Z6Kmhsy2mlqa"
      },
      "execution_count": null,
      "outputs": []
    }
  ]
}