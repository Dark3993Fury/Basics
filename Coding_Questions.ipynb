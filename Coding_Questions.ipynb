{
  "nbformat": 4,
  "nbformat_minor": 0,
  "metadata": {
    "colab": {
      "provenance": []
    },
    "kernelspec": {
      "name": "python3",
      "display_name": "Python 3"
    },
    "language_info": {
      "name": "python"
    }
  },
  "cells": [
    {
      "cell_type": "markdown",
      "source": [
        "# 1. Data Structures- Dictionary\n"
      ],
      "metadata": {
        "id": "c2L-nN5Y9jMj"
      }
    },
    {
      "cell_type": "markdown",
      "source": [
        "**1.1 Imagine you are building a simple inventory management system for a small store. The store sells various products, and you need to keep track of the available quantity of each product**. Write a Python script to perform the following operations:\n",
        "\n",
        "\n",
        "\n",
        "1.   Initialize an empty inventory.\n",
        "2.   Add products and their quantities to the inventory.\n",
        "3.   Display the current inventory.\n",
        "4.   Update the quantity of a specific product.\n",
        "5.   Remove a product from the inventory.\n",
        "6.   Calculate the total quantity of all products in the inventory."
      ],
      "metadata": {
        "id": "-EDSfMzF9rhM"
      }
    },
    {
      "cell_type": "code",
      "source": [
        "class InventoryManager:\n",
        "    def __init__(self):\n",
        "        self.inventory = {}\n",
        "\n",
        "    def add_product(self, product, quantity):\n",
        "        if product in self.inventory:\n",
        "            self.inventory[product] += quantity\n",
        "        else:\n",
        "            self.inventory[product] = quantity\n",
        "\n",
        "    def display_inventory(self):\n",
        "        print(\"Current Inventory:\")\n",
        "        for product, quantity in self.inventory.items():\n",
        "            print(f\"{product}: {quantity}\")\n",
        "\n",
        "    def update_quantity(self, product, new_quantity):\n",
        "        if product in self.inventory:\n",
        "            self.inventory[product] = new_quantity\n",
        "            print(f\"Quantity of {product} updated to {new_quantity}\")\n",
        "        else:\n",
        "            print(f\"{product} not found in inventory.\")\n",
        "\n",
        "    def remove_product(self, product):\n",
        "        if product in self.inventory:\n",
        "            del self.inventory[product]\n",
        "            print(f\"{product} removed from inventory.\")\n",
        "        else:\n",
        "            print(f\"{product} not found in inventory.\")\n",
        "\n",
        "    def total_quantity(self):\n",
        "        return sum(self.inventory.values())\n",
        "\n",
        "\n",
        "# Example Usage\n",
        "inventory_manager = InventoryManager()\n",
        "\n",
        "inventory_manager.add_product(\"Apple\", 50)\n",
        "inventory_manager.add_product(\"Banana\", 30)\n",
        "inventory_manager.add_product(\"Orange\", 40)\n",
        "\n",
        "inventory_manager.display_inventory()\n",
        "\n",
        "inventory_manager.update_quantity(\"Banana\", 25)\n",
        "\n",
        "inventory_manager.remove_product(\"Apple\")\n",
        "\n",
        "total_quantity = inventory_manager.total_quantity()\n",
        "print(f\"Total Quantity in Inventory: {total_quantity}\")\n"
      ],
      "metadata": {
        "colab": {
          "base_uri": "https://localhost:8080/"
        },
        "id": "SoDqhj2c4Hc5",
        "outputId": "9178bcc7-7cc7-4cc2-972e-3896affae4f6"
      },
      "execution_count": 31,
      "outputs": [
        {
          "output_type": "stream",
          "name": "stdout",
          "text": [
            "Current Inventory:\n",
            "Apple: 50\n",
            "Banana: 30\n",
            "Orange: 40\n",
            "Quantity of Banana updated to 25\n",
            "Apple removed from inventory.\n",
            "Total Quantity in Inventory: 65\n"
          ]
        }
      ]
    },
    {
      "cell_type": "markdown",
      "source": [
        "**1.2 Search for a value in a dictionary and find its associated key**"
      ],
      "metadata": {
        "id": "RKtu6K285FwJ"
      }
    },
    {
      "cell_type": "code",
      "source": [
        "def find_key_by_value(dictionary, search_value):\n",
        "    for key, value in dictionary.items():\n",
        "        if value == search_value:\n",
        "            return key\n",
        "    return None  # Return None if the value is not found\n",
        "\n",
        "# Example dictionary\n",
        "my_dict = {'apple': 1, 'banana': 2, 'orange': 3, 'grape': 2}\n",
        "\n",
        "# Value to search for\n",
        "target_value = 2\n",
        "\n",
        "# Find the key associated with the value\n",
        "result_key = find_key_by_value(my_dict, target_value)\n",
        "\n",
        "if result_key is not None:\n",
        "    print(f\"The key associated with value {target_value} is: {result_key}\")\n",
        "else:\n",
        "    print(f\"Value {target_value} not found in the dictionary.\")\n"
      ],
      "metadata": {
        "colab": {
          "base_uri": "https://localhost:8080/"
        },
        "id": "udwBjTik4v_o",
        "outputId": "527355b8-3410-44f1-9abb-5ec8df374675"
      },
      "execution_count": 32,
      "outputs": [
        {
          "output_type": "stream",
          "name": "stdout",
          "text": [
            "The key associated with value 2 is: banana\n"
          ]
        }
      ]
    },
    {
      "cell_type": "markdown",
      "source": [
        "**1.3 : Student Grades**\n",
        "\n",
        "Scenario:\n",
        "You are tasked with managing student grades. Write a Python script to perform the following operations:\n",
        "\n",
        "Initialize an empty dictionary to store student grades.\n",
        "Add students and their grades to the dictionary.\n",
        "Display the current list of students and their grades.\n",
        "Calculate the average grade for all students."
      ],
      "metadata": {
        "id": "ESGzgLCr6tV_"
      }
    },
    {
      "cell_type": "code",
      "source": [
        "class GradeManager:\n",
        "  def __init__(self):\n",
        "    self.student_grades = {}\n",
        "\n",
        "  def add_student_grade(self, student, grade):\n",
        "    self.student_grades[student] = grade\n",
        "\n",
        "  def display_grades(self):\n",
        "    print(\"Student Grades:\")\n",
        "    for student, grade in self.student_grades.items():\n",
        "      print(f\"{student}: {grade}\")\n",
        "\n",
        "  def calculate_average_grade(self):\n",
        "        if not self.student_grades:\n",
        "            return 0\n",
        "        total_grades = sum(self.student_grades.values())\n",
        "        average_grade = total_grades / len(self.student_grades)\n",
        "        return average_grade\n",
        "\n",
        "  # Example Usage\n",
        "grade_manager = GradeManager()\n",
        "\n",
        "grade_manager.add_student_grade(\"Alice\", 85)\n",
        "grade_manager.add_student_grade(\"Bob\", 92)\n",
        "grade_manager.add_student_grade(\"Charlie\", 78)\n",
        "\n",
        "grade_manager.display_grades()\n",
        "\n",
        "average_grade = grade_manager.calculate_average_grade()\n",
        "print(f\"Average Grade: {average_grade}\")"
      ],
      "metadata": {
        "id": "mwsGwmOs5MXM",
        "colab": {
          "base_uri": "https://localhost:8080/"
        },
        "outputId": "60836ffd-c591-4417-e1dc-405230622252"
      },
      "execution_count": 33,
      "outputs": [
        {
          "output_type": "stream",
          "name": "stdout",
          "text": [
            "Student Grades:\n",
            "Alice: 85\n",
            "Bob: 92\n",
            "Charlie: 78\n",
            "Average Grade: 85.0\n"
          ]
        }
      ]
    },
    {
      "cell_type": "markdown",
      "source": [
        "**1.4 : To-Do List**\n",
        "\n",
        "Scenario:\n",
        "You are building a to-do list application. Write a Python script to perform the following operations:\n",
        "\n",
        "1.   Initialize an empty to-do list.\n",
        "2.   Add tasks to the to-do list.\n",
        "3.   Display the current list of tasks.\n",
        "4.   Mark a task as completed.\n",
        "5.   Remove a task from the to-do list.\n",
        "6.   Count the total number of tasks and completed tasks."
      ],
      "metadata": {
        "id": "ewLrhfiy9gLh"
      }
    },
    {
      "cell_type": "code",
      "source": [
        "class ToDoList:\n",
        "    def __init__(self):\n",
        "        self.tasks = {}\n",
        "\n",
        "    def add_task(self, task):\n",
        "        self.tasks[task] = False\n",
        "\n",
        "    def display_tasks(self):\n",
        "        print(\"To-Do List:\")\n",
        "        for task, completed in self.tasks.items():\n",
        "            status = \"Completed\" if completed else \"Not Completed\"\n",
        "            print(f\"{task}: {status}\")\n",
        "\n",
        "    def mark_as_completed(self, task):\n",
        "        if task in self.tasks:\n",
        "            self.tasks[task] = True\n",
        "            print(f\"{task} marked as completed.\")\n",
        "        else:\n",
        "            print(f\"{task} not found in the to-do list.\")\n",
        "\n",
        "    def remove_task(self, task):\n",
        "        if task in self.tasks:\n",
        "            del self.tasks[task]\n",
        "            print(f\"{task} removed from the to-do list.\")\n",
        "        else:\n",
        "            print(f\"{task} not found in the to-do list.\")\n",
        "\n",
        "    def count_tasks(self):\n",
        "        total_tasks = len(self.tasks)\n",
        "        completed_tasks = sum(self.tasks.values())\n",
        "        return total_tasks, completed_tasks\n",
        "\n",
        "# Example Usage\n",
        "to_do_list = ToDoList()\n",
        "\n",
        "to_do_list.add_task(\"Complete homework\")\n",
        "to_do_list.add_task(\"Read a book\")\n",
        "to_do_list.add_task(\"Exercise\")\n",
        "\n",
        "to_do_list.display_tasks()\n",
        "\n",
        "to_do_list.mark_as_completed(\"Read a book\")\n",
        "to_do_list.remove_task(\"Exercise\")\n",
        "\n",
        "total_tasks, completed_tasks = to_do_list.count_tasks()\n",
        "print(f\"Total Tasks: {total_tasks}, Completed Tasks: {completed_tasks}\")"
      ],
      "metadata": {
        "colab": {
          "base_uri": "https://localhost:8080/"
        },
        "outputId": "85143fe9-92f9-4d80-cdc1-3a9f3667614a",
        "id": "IOVnnTux9gLh"
      },
      "execution_count": 34,
      "outputs": [
        {
          "output_type": "stream",
          "name": "stdout",
          "text": [
            "To-Do List:\n",
            "Complete homework: Not Completed\n",
            "Read a book: Not Completed\n",
            "Exercise: Not Completed\n",
            "Read a book marked as completed.\n",
            "Exercise removed from the to-do list.\n",
            "Total Tasks: 2, Completed Tasks: 1\n"
          ]
        }
      ]
    },
    {
      "cell_type": "markdown",
      "source": [
        "# 2. Data Structures- Lists\n"
      ],
      "metadata": {
        "id": "LmOdo1NSAcFi"
      }
    },
    {
      "cell_type": "markdown",
      "source": [
        "**2.1 Shopping Cart:**\n",
        "\n",
        "You are building a simple shopping cart. Write a Python script to perform the following operations:\n",
        "\n",
        "1.   Initialize an empty shopping cart.\n",
        "2.   Add items to the shopping cart.\n",
        "3.   Display the current items in the cart.\n",
        "4.   Remove an item from the cart.\n",
        "5.   Calculate the total cost of items in the cart.\n"
      ],
      "metadata": {
        "id": "SCGa-XY0ApWL"
      }
    },
    {
      "cell_type": "code",
      "source": [
        "class StudentRanking:\n",
        "    \"\"\"\n",
        "    This class manages a ranking of students based on their scores.\n",
        "    \"\"\"\n",
        "\n",
        "    def __init__(self):\n",
        "        \"\"\"\n",
        "        Initializes the student ranking with an empty list.\n",
        "        \"\"\"\n",
        "        self.students = []  # Create an empty list to store student data\n",
        "\n",
        "    def display_ranking(self):\n",
        "        \"\"\"\n",
        "        Prints the current ranking of students with their names and scores.\n",
        "        \"\"\"\n",
        "        print(\"Student Ranking:\")\n",
        "        for rank, student in enumerate(self.students, start=1):\n",
        "            \"\"\"\n",
        "            Iterate through each student with their rank (starting from 1) using enumerate.\n",
        "            \"\"\"\n",
        "            print(f\"{rank}. {student['name']} - Score: {student['score']}\")  # Print the rank, name, and score\n",
        "\n",
        "    def add_student(self, name, score):\n",
        "        \"\"\"\n",
        "        Adds a new student with the given name and score to the ranking.\n",
        "        \"\"\"\n",
        "        self.students.append({\"name\": name, \"score\": score})  # Create a dictionary for the student and append it to the list\n",
        "\n",
        "    def remove_student(self, name):\n",
        "        \"\"\"\n",
        "        Removes a student with the given name from the ranking.\n",
        "        \"\"\"\n",
        "        self.students = [s for s in self.students if s['name'] != name]  # Create a new list with students whose name is not the target name\n",
        "        print(f\"{name} removed from the student ranking.\")\n",
        "\n",
        "    def calculate_average_score(self):\n",
        "        \"\"\"\n",
        "        Calculates and returns the average score of all students in the ranking.\n",
        "        \"\"\"\n",
        "        if not self.students:  # Check if the list is empty\n",
        "            return 0  # Return 0 if there are no students\n",
        "        total_score = sum(student['score'] for student in self.students)  # Calculate the total score using a generator expression\n",
        "        average_score = total_score / len(self.students)  # Calculate the average score\n",
        "        return average_score  # Return the average score\n",
        "\n",
        "# Example Usage (demonstrating how to use the class)\n",
        "student_ranking = StudentRanking()  # Create an instance of the class\n",
        "\n",
        "student_ranking.add_student(\"Alice\", 85)  # Add students to the ranking\n",
        "student_ranking.add_student(\"Bob\", 92)\n",
        "student_ranking.add_student(\"Charlie\", 78)\n",
        "\n",
        "student_ranking.display_ranking()  # Display the current ranking\n",
        "\n",
        "student_ranking.remove_student(\"Bob\")  # Remove a student\n",
        "\n",
        "average_score = student_ranking.calculate_average_score()  # Calculate the average score\n",
        "print(f\"Average Score: {average_score}\")\n"
      ],
      "metadata": {
        "colab": {
          "base_uri": "https://localhost:8080/"
        },
        "id": "g6Jl8PW39EjE",
        "outputId": "32cd15f2-e843-4b3f-d064-9c893d2c7a5b"
      },
      "execution_count": 35,
      "outputs": [
        {
          "output_type": "stream",
          "name": "stdout",
          "text": [
            "Student Ranking:\n",
            "1. Alice - Score: 85\n",
            "2. Bob - Score: 92\n",
            "3. Charlie - Score: 78\n",
            "Bob removed from the student ranking.\n",
            "Average Score: 81.5\n"
          ]
        }
      ]
    },
    {
      "cell_type": "markdown",
      "source": [
        "**2.2 Student Ranking:**\n",
        "\n",
        "You are tasked with ranking students based on their scores. Write a Python script to perform the following operations:\n",
        "\n",
        "1.   Initialize a list of students and their scores.\n",
        "2.   Display the current ranking of students.\n",
        "3.   Add a new student and their score to the list.\n",
        "4.   Remove a student from the list.\n",
        "5.   Find the average score of all students.\n"
      ],
      "metadata": {
        "id": "sgoVogh9HjTI"
      }
    },
    {
      "cell_type": "code",
      "source": [
        "class StudentRanking:\n",
        "    \"\"\"\n",
        "    This class manages a ranking of students based on their scores.\n",
        "    \"\"\"\n",
        "\n",
        "    def __init__(self):\n",
        "        \"\"\"\n",
        "        Initializes the student ranking with an empty list.\n",
        "        \"\"\"\n",
        "        self.students = []  # Create an empty list to store student data\n",
        "\n",
        "    def display_ranking(self):\n",
        "        \"\"\"\n",
        "        Prints the current ranking of students with their names and scores.\n",
        "        \"\"\"\n",
        "        print(\"Student Ranking:\")\n",
        "        for rank, student in enumerate(self.students, start=1):\n",
        "            \"\"\"\n",
        "            Iterate through each student with their rank (starting from 1) using enumerate.\n",
        "            \"\"\"\n",
        "            print(f\"{rank}. {student['name']} - Score: {student['score']}\")  # Print the rank, name, and score\n",
        "\n",
        "    def add_student(self, name, score):\n",
        "        \"\"\"\n",
        "        Adds a new student with the given name and score to the ranking.\n",
        "        \"\"\"\n",
        "        self.students.append({\"name\": name, \"score\": score})  # Create a dictionary for the student and append it to the list\n",
        "\n",
        "    def remove_student(self, name):\n",
        "        \"\"\"\n",
        "        Removes a student with the given name from the ranking.\n",
        "        \"\"\"\n",
        "        self.students = [s for s in self.students if s['name'] != name]  # Create a new list with students whose name is not the target name\n",
        "        print(f\"{name} removed from the student ranking.\")\n",
        "\n",
        "    def calculate_average_score(self):\n",
        "        \"\"\"\n",
        "        Calculates and returns the average score of all students in the ranking.\n",
        "        \"\"\"\n",
        "        if not self.students:  # Check if the list is empty\n",
        "            return 0  # Return 0 if there are no students\n",
        "        total_score = sum(student['score'] for student in self.students)  # Calculate the total score using a generator expression\n",
        "        average_score = total_score / len(self.students)  # Calculate the average score\n",
        "        return average_score  # Return the average score\n",
        "\n",
        "# Example Usage (demonstrating how to use the class)\n",
        "student_ranking = StudentRanking()  # Create an instance of the class\n",
        "\n",
        "student_ranking.add_student(\"Alice\", 85)  # Add students to the ranking\n",
        "student_ranking.add_student(\"Bob\", 92)\n",
        "student_ranking.add_student(\"Charlie\", 78)\n",
        "\n",
        "student_ranking.display_ranking()  # Display the current ranking\n",
        "\n",
        "student_ranking.remove_student(\"Bob\")  # Remove a student\n",
        "\n",
        "average_score = student_ranking.calculate_average_score()  # Calculate the average score\n",
        "print(f\"Average Score: {average_score}\")\n"
      ],
      "metadata": {
        "colab": {
          "base_uri": "https://localhost:8080/"
        },
        "outputId": "39297251-9397-4260-e6b8-a16c70a8650e",
        "id": "pbK-s0-3HjTJ"
      },
      "execution_count": 36,
      "outputs": [
        {
          "output_type": "stream",
          "name": "stdout",
          "text": [
            "Student Ranking:\n",
            "1. Alice - Score: 85\n",
            "2. Bob - Score: 92\n",
            "3. Charlie - Score: 78\n",
            "Bob removed from the student ranking.\n",
            "Average Score: 81.5\n"
          ]
        }
      ]
    },
    {
      "cell_type": "markdown",
      "source": [
        "# 3. Data Structures- Sets"
      ],
      "metadata": {
        "id": "dlhPQrHUIXkn"
      }
    },
    {
      "cell_type": "markdown",
      "source": [
        "**3.1 Unique Interests:**\n",
        "\n",
        "Imagine you are building a social networking platform, and you want to help users find common interests. Implement a function common_interests(users: Dict[str, Set[str]]) -> Set[str] that takes a dictionary of users and their interests. The goal is to find the set of interests that are common among all users.\n"
      ],
      "metadata": {
        "id": "P1cQk-63IXkn"
      }
    },
    {
      "cell_type": "code",
      "source": [
        "from typing import Dict, Set\n",
        "\n",
        "def common_interests(users: Dict[str, Set[str]]) -> Set[str]:\n",
        "    # Check if there are users in the dictionary\n",
        "    if not users:\n",
        "        return set()\n",
        "\n",
        "    # Find the common interests using set intersection\n",
        "    common_interests_set = set.intersection(*users.values())\n",
        "\n",
        "    return common_interests_set\n",
        "\n",
        "# Example Usage\n",
        "users_data = {\n",
        "    \"Alice\": {\"Reading\", \"Travel\", \"Photography\"},\n",
        "    \"Bob\": {\"Travel\", \"Cooking\", \"Coding\"},\n",
        "    \"Charlie\": {\"Photography\", \"Travel\", \"Yoga\"},\n",
        "}\n",
        "\n",
        "result = common_interests(users_data)\n",
        "print(\"Common Interests:\", result)\n"
      ],
      "metadata": {
        "colab": {
          "base_uri": "https://localhost:8080/"
        },
        "id": "52tDL5YNIynV",
        "outputId": "bfa046cb-2b82-476c-c3ad-74f67d760f2b"
      },
      "execution_count": 37,
      "outputs": [
        {
          "output_type": "stream",
          "name": "stdout",
          "text": [
            "Common Interests: {'Travel'}\n"
          ]
        }
      ]
    },
    {
      "cell_type": "markdown",
      "source": [
        "**3.2 Unique Email Domains:**\n",
        "\n",
        "You are building an email management system. Implement a function unique_email_domains(emails: List[str]) -> Set[str] to find the unique email domains in a given list of email addresses."
      ],
      "metadata": {
        "id": "9PtKXXa_KZlE"
      }
    },
    {
      "cell_type": "code",
      "source": [
        "from typing import List, Set\n",
        "\n",
        "def unique_email_domains(emails: List[str]) -> Set[str]:\n",
        "    return {email.split('@')[1] for email in emails}\n",
        "\n",
        "# Example Usage\n",
        "email_list = [\"user1@example.com\", \"user2@gmail.com\", \"user3@example.com\", \"user4@yahoo.com\"]\n",
        "result = unique_email_domains(email_list)\n",
        "print(\"Unique Email Domains:\", result)\n"
      ],
      "metadata": {
        "colab": {
          "base_uri": "https://localhost:8080/"
        },
        "outputId": "8dbef6b1-ee34-4d71-f39e-40e037a2a69f",
        "id": "_jiiwHJ7KZlF"
      },
      "execution_count": 38,
      "outputs": [
        {
          "output_type": "stream",
          "name": "stdout",
          "text": [
            "Unique Email Domains: {'yahoo.com', 'example.com', 'gmail.com'}\n"
          ]
        }
      ]
    },
    {
      "cell_type": "code",
      "source": [],
      "metadata": {
        "id": "g1gG20s4I_qB"
      },
      "execution_count": 38,
      "outputs": []
    },
    {
      "cell_type": "markdown",
      "source": [
        "**3.3 Common Words:**\n",
        "\n",
        "You are working on a text analysis tool. Implement a function common_words(texts: List[str]) -> Set[str] that finds the set of words common across multiple texts."
      ],
      "metadata": {
        "id": "PHMPs-pdK1ko"
      }
    },
    {
      "cell_type": "code",
      "source": [
        "from typing import List, Set\n",
        "\n",
        "def common_words(texts: List[str]) -> Set[str]:\n",
        "    text_sets = [set(text.split()) for text in texts]\n",
        "    return set.intersection(*text_sets)\n",
        "\n",
        "# Example Usage\n",
        "text_data = [\"The quick brown dog\", \"Jumped over the lazy dog\", \"A quick brown dog\"]\n",
        "result = common_words(text_data)\n",
        "print(\"Common Words:\", result)\n"
      ],
      "metadata": {
        "colab": {
          "base_uri": "https://localhost:8080/"
        },
        "outputId": "f83ba6c3-9131-4282-dcd9-c73b89858a39",
        "id": "th6PGWZOK1kp"
      },
      "execution_count": 39,
      "outputs": [
        {
          "output_type": "stream",
          "name": "stdout",
          "text": [
            "Common Words: {'dog'}\n"
          ]
        }
      ]
    },
    {
      "cell_type": "code",
      "source": [],
      "metadata": {
        "id": "_F-TBOcwLNSF"
      },
      "execution_count": 39,
      "outputs": []
    },
    {
      "cell_type": "markdown",
      "source": [
        "**3.4 Unique Tags:**\n",
        "\n",
        "You are developing a tagging system for blog posts. Implement a function unique_tags(posts: Dict[str, Set[str]]) -> Set[str] that finds the unique set of tags used across all blog posts."
      ],
      "metadata": {
        "id": "6QMpp9TZMENf"
      }
    },
    {
      "cell_type": "code",
      "source": [
        "from typing import Dict, Set\n",
        "\n",
        "def unique_tags(posts: Dict[str, Set[str]]) -> Set[str]:\n",
        "    return set.union(*posts.values())\n",
        "\n",
        "# Example Usage\n",
        "blog_posts = {\n",
        "    \"Post1\": {\"Python\", \"Programming\", \"Coding\"},\n",
        "    \"Post2\": {\"Java\", \"Programming\", \"Development\"},\n",
        "    \"Post3\": {\"Programming\", \"DataScience\", \"MachineLearning\"},\n",
        "}\n",
        "\n",
        "result = unique_tags(blog_posts)\n",
        "print(\"Unique Tags:\", result)\n"
      ],
      "metadata": {
        "colab": {
          "base_uri": "https://localhost:8080/"
        },
        "outputId": "a2681738-ab37-4012-a26f-19b424f6184b",
        "id": "RksHP5bdMENg"
      },
      "execution_count": 40,
      "outputs": [
        {
          "output_type": "stream",
          "name": "stdout",
          "text": [
            "Unique Tags: {'Development', 'Programming', 'Java', 'Coding', 'MachineLearning', 'Python', 'DataScience'}\n"
          ]
        }
      ]
    },
    {
      "cell_type": "markdown",
      "source": [
        "# 4. Data Structures- Tuples"
      ],
      "metadata": {
        "id": "jxI2M2FQNqR3"
      }
    },
    {
      "cell_type": "markdown",
      "source": [
        "**4.1 Product Inventory:**\n",
        "\n",
        "You are building a simple inventory management system for a store. Each product in the inventory is represented as a tuple containing the product details: (product_id, product_name, quantity, price). Implement a function calculate_total_value(inventory: List[Tuple[int, str, int, float]]) -> float to calculate the total value of the entire inventory.\n"
      ],
      "metadata": {
        "id": "uaomE7ebNqR4"
      }
    },
    {
      "cell_type": "code",
      "source": [
        "from typing import List, Tuple\n",
        "\n",
        "def calculate_total_value(inventory: List[Tuple[int, str, int, float]]) -> float:\n",
        "    total_value = 0.0\n",
        "    for product in inventory:\n",
        "        _, _, quantity, price = product\n",
        "        total_value += quantity * price\n",
        "    return total_value\n",
        "\n",
        "# Example Usage\n",
        "inventory_data = [\n",
        "    (1, \"Laptop\", 10, 800.0),\n",
        "    (2, \"Smartphone\", 20, 400.0),\n",
        "    (3, \"Tablet\", 15, 300.0),\n",
        "]\n",
        "\n",
        "total_inventory_value = calculate_total_value(inventory_data)\n",
        "print(\"Total Inventory Value:\", total_inventory_value)\n"
      ],
      "metadata": {
        "colab": {
          "base_uri": "https://localhost:8080/"
        },
        "id": "6u3sWsBMMR9-",
        "outputId": "98a3b17f-5b08-4b18-c34a-63b183222a26"
      },
      "execution_count": 41,
      "outputs": [
        {
          "output_type": "stream",
          "name": "stdout",
          "text": [
            "Total Inventory Value: 20500.0\n"
          ]
        }
      ]
    },
    {
      "cell_type": "markdown",
      "source": [
        "**4.2 Unique Elements:**\n",
        "\n",
        "You are given a list of tuples. Each tuple contains two elements. Implement a function unique_elements(tuples_list: List[Tuple[Any, Any]]) -> Set[Any] to find and return a set of unique elements from all tuples.\n"
      ],
      "metadata": {
        "id": "jPoi_f6UOUBq"
      }
    },
    {
      "cell_type": "code",
      "source": [
        "from typing import List, Tuple, Any\n",
        "\n",
        "def unique_elements(tuples_list: List[Tuple[Any, Any]]) -> Set[Any]:\n",
        "    unique_set = set()\n",
        "    for tpl in tuples_list:\n",
        "        unique_set.update(tpl)\n",
        "    return unique_set\n",
        "\n",
        "# Example Usage\n",
        "sample_tuples = [(1, 2), ('a', 'b'), (1, 'a'), (3, 'b')]\n",
        "result = unique_elements(sample_tuples)\n",
        "print(\"Unique Elements:\", result)\n"
      ],
      "metadata": {
        "colab": {
          "base_uri": "https://localhost:8080/"
        },
        "outputId": "f8cbaa35-e142-47f6-81b6-3ebd65967ad7",
        "id": "C5vtSSIoOUBr"
      },
      "execution_count": 42,
      "outputs": [
        {
          "output_type": "stream",
          "name": "stdout",
          "text": [
            "Unique Elements: {1, 2, 3, 'b', 'a'}\n"
          ]
        }
      ]
    },
    {
      "cell_type": "markdown",
      "source": [
        "**4.3 Tuple Averaging:**\n",
        "\n",
        "You are given a list of tuples, where each tuple contains three integers. Implement a function average_tuples(tuples_list: List[Tuple[int, int, int]]) -> Tuple[float, float, float] to calculate and return the average of each position across all tuples.\n"
      ],
      "metadata": {
        "id": "6so4qOftPQKf"
      }
    },
    {
      "cell_type": "code",
      "source": [
        "from typing import List, Tuple\n",
        "\n",
        "def average_tuples(tuples_list: List[Tuple[int, int, int]]) -> Tuple[float, float, float]:\n",
        "    num_tuples = len(tuples_list)\n",
        "    sum_positions = [sum(x) for x in zip(*tuples_list)]\n",
        "    average_positions = tuple(x / num_tuples for x in sum_positions)\n",
        "    return average_positions\n",
        "\n",
        "# Example Usage\n",
        "sample_tuples = [(1, 2, 3), (4, 5, 6), (7, 8, 9)]\n",
        "result = average_tuples(sample_tuples)\n",
        "print(\"Average Tuple:\", result)\n"
      ],
      "metadata": {
        "colab": {
          "base_uri": "https://localhost:8080/"
        },
        "outputId": "fabb660d-8139-4e7d-91ae-6b7991b2a972",
        "id": "Xfjqfbl0PQKg"
      },
      "execution_count": 43,
      "outputs": [
        {
          "output_type": "stream",
          "name": "stdout",
          "text": [
            "Average Tuple: (4.0, 5.0, 6.0)\n"
          ]
        }
      ]
    },
    {
      "cell_type": "code",
      "source": [],
      "metadata": {
        "id": "-ik6HtzLR7VZ"
      },
      "execution_count": 43,
      "outputs": []
    },
    {
      "cell_type": "markdown",
      "source": [
        "# 5. Misc Projects"
      ],
      "metadata": {
        "id": "Hz1NtuGQZhyN"
      }
    },
    {
      "cell_type": "markdown",
      "source": [
        "**5.1 Task Scheduler:**\n",
        "\n",
        "Code basic task scheduler in Python, focusing on task representation, dependency resolution, and a simple optimization strategy\n"
      ],
      "metadata": {
        "id": "90IDj9N9ZhyN"
      }
    },
    {
      "cell_type": "code",
      "source": [
        "from collections import defaultdict\n",
        "import heapq\n",
        "\n",
        "# Task class represents an individual task with a name, execution time, and optional dependencies\n",
        "class Task:\n",
        "    def __init__(self, name, execution_time, dependencies=None):\n",
        "        self.name = name\n",
        "        self.execution_time = execution_time\n",
        "        self.dependencies = dependencies or []\n",
        "\n",
        "# TaskScheduler class manages tasks and schedules them based on dependencies and execution times\n",
        "class TaskScheduler:\n",
        "    def __init__(self):\n",
        "        # Dictionary to store tasks by name\n",
        "        self.tasks = {}\n",
        "        # Dictionary to store task dependencies\n",
        "        self.dependencies = defaultdict(list)\n",
        "\n",
        "    # Adds a task to the scheduler\n",
        "    def add_task(self, task):\n",
        "        self.tasks[task.name] = task\n",
        "        # Update dependencies dictionary\n",
        "        for dependency in task.dependencies:\n",
        "            self.dependencies[dependency].append(task.name)\n",
        "\n",
        "    # Schedule tasks considering dependencies and execution times\n",
        "    def schedule_tasks(self):\n",
        "        # Topological sorting to resolve dependencies\n",
        "        result = [] #to store the topologically sorted vertices.\n",
        "        visited = set() #A set visited is used to keep track of visited vertices during the DFS traversal.\n",
        "\n",
        "        # Depth-first search to perform topological sorting\n",
        "        \"\"\"\n",
        "        Depth-First Search (DFS) is a graph traversal algorithm that explores as far as possible\n",
        "        along each branch before backtracking. Topological sorting is a specific application of DFS\n",
        "        for directed acyclic graphs (DAGs). The goal is to linearly order the vertices of a graph\n",
        "        such that for every directed edge (u, v), vertex u comes before v in the ordering.\n",
        "        \"\"\"\n",
        "        def dfs(node):\n",
        "            \"\"\"\n",
        "            The DFS function is recursively called for each vertex in the graph.\n",
        "            If a vertex hasn't been visited, the DFS function is called on it.\n",
        "            After the recursive calls, the current vertex is added to the result list.\n",
        "            \"\"\"\n",
        "            if node not in visited:\n",
        "                visited.add(node)\n",
        "                for dependency in self.dependencies[node]:\n",
        "                    dfs(dependency)\n",
        "                result.append(node)\n",
        "\n",
        "        # Start DFS for each task\n",
        "        #A loop iterates through each vertex in the graph.\n",
        "        #For each vertex that hasn't been visited, the DFS function is called.\n",
        "        for task_name in self.tasks:\n",
        "            dfs(task_name)\n",
        "\n",
        "        # Reverse the result to get a valid topological order\n",
        "        #The result obtained from DFS is in reverse topological order.\n",
        "        #To get the correct topological order, the list is reversed.\n",
        "        result.reverse()\n",
        "\n",
        "        # Simple optimization: Execute tasks with the longest execution time first\n",
        "        schedule = []\n",
        "        for task_name in result:\n",
        "            task = self.tasks[task_name] #For each task_name, it retrieves the corresponding task from the self.tasks dictionary.\n",
        "                                         #self.tasks seems to be a dictionary where task names are keys, and values are objects\n",
        "                                         #containing information about the task (e.g., execution time).\n",
        "            \"\"\"\n",
        "            The code then uses the heapq.heappush function to push a tuple into the schedule heap.\n",
        "            The tuple consists of:\n",
        "            The negation of the task's execution time (-task.execution_time).\n",
        "            This is done because Python's heapq module provides a min-heap implementation,\n",
        "            and negating the values effectively turns it into a max-heap.\n",
        "            The task name (task_name).\n",
        "            \"\"\"\n",
        "            heapq.heappush(schedule, (-task.execution_time, task_name))\n",
        "\n",
        "\n",
        "        return schedule\n",
        "\n",
        "# Example Usage:\n",
        "task1 = Task(\"Task1\", 5)\n",
        "task2 = Task(\"Task2\", 3, dependencies=[\"Task1\"])\n",
        "task3 = Task(\"Task3\", 2, dependencies=[\"Task1\", \"Task2\"])\n",
        "\n",
        "scheduler = TaskScheduler()\n",
        "scheduler.add_task(task1)\n",
        "scheduler.add_task(task2)\n",
        "scheduler.add_task(task3)\n",
        "\n",
        "optimized_schedule = scheduler.schedule_tasks()\n",
        "print(\"Optimized Schedule:\", optimized_schedule)\n"
      ],
      "metadata": {
        "colab": {
          "base_uri": "https://localhost:8080/"
        },
        "id": "JGT1pFo_Rkm8",
        "outputId": "945d97b4-e1db-41f7-a333-bb32ab86ec60"
      },
      "execution_count": 44,
      "outputs": [
        {
          "output_type": "stream",
          "name": "stdout",
          "text": [
            "Optimized Schedule: [(-5, 'Task1'), (-3, 'Task2'), (-2, 'Task3')]\n"
          ]
        }
      ]
    },
    {
      "cell_type": "markdown",
      "source": [
        "**5.2 Library Management:**\n",
        "\n",
        "Code  implementation of a library class, book class, user class, and functionality to borrow and return books.\n"
      ],
      "metadata": {
        "id": "XkdXfPIFqEBM"
      }
    },
    {
      "cell_type": "code",
      "source": [
        "class Book:\n",
        "    def __init__(self, book_id, title, author, available_copies):\n",
        "        self.book_id = book_id\n",
        "        self.title = title\n",
        "        self.author = author\n",
        "        self.available_copies = available_copies\n",
        "\n",
        "    def __str__(self):\n",
        "        return f\"{self.title} by {self.author} (ID: {self.book_id}, Available Copies: {self.available_copies})\"\n",
        "\n",
        "\n",
        "class User:\n",
        "    def __init__(self, user_id, name):\n",
        "        self.user_id = user_id\n",
        "        self.name = name\n",
        "        self.books_borrowed = []\n",
        "\n",
        "    def __str__(self):\n",
        "        return f\"{self.name} (ID: {self.user_id})\"\n",
        "\n",
        "    def borrow_book(self, book):\n",
        "        if book.available_copies > 0:\n",
        "            book.available_copies -= 1\n",
        "            self.books_borrowed.append(book)\n",
        "            return True\n",
        "        else:\n",
        "            return False\n",
        "\n",
        "    def return_book(self, book):\n",
        "        if book in self.books_borrowed:\n",
        "            book.available_copies += 1\n",
        "            self.books_borrowed.remove(book)\n",
        "            return True\n",
        "        else:\n",
        "            return False\n",
        "\n",
        "\n",
        "class Library:\n",
        "    def __init__(self):\n",
        "        self.books = []\n",
        "        self.users = []\n",
        "\n",
        "    def add_book(self, book):\n",
        "        self.books.append(book)\n",
        "\n",
        "    def add_user(self, user):\n",
        "        self.users.append(user)\n",
        "\n",
        "    def display_books(self):\n",
        "        print(\"Library Books:\")\n",
        "        for book in self.books:\n",
        "            print(book)\n",
        "\n",
        "    def display_users(self):\n",
        "        print(\"\\nLibrary Users:\")\n",
        "        for user in self.users:\n",
        "            print(user)\n",
        "\n",
        "\n",
        "if __name__ == \"__main__\":\n",
        "    library = Library()\n",
        "\n",
        "    book1 = Book(1, \"The Great Gatsby\", \"F. Scott Fitzgerald\", 5)\n",
        "    book2 = Book(2, \"To Kill a Mockingbird\", \"Harper Lee\", 3)\n",
        "\n",
        "    user1 = User(101, \"Alice\")\n",
        "    user2 = User(102, \"Bob\")\n",
        "\n",
        "    library.add_book(book1)\n",
        "    library.add_book(book2)\n",
        "    library.add_user(user1)\n",
        "    library.add_user(user2)\n",
        "\n",
        "    library.display_books()\n",
        "    library.display_users()\n",
        "\n",
        "    # Simulate book borrowing and returning\n",
        "    user1.borrow_book(book1)\n",
        "    user2.borrow_book(book2)\n",
        "\n",
        "    library.display_books()\n",
        "    library.display_users()\n",
        "\n",
        "    user1.return_book(book1)\n",
        "\n",
        "    library.display_books()\n",
        "    library.display_users()\n"
      ],
      "metadata": {
        "colab": {
          "base_uri": "https://localhost:8080/"
        },
        "outputId": "5f9a79eb-a952-488e-b6ef-baba72af0920",
        "id": "lvcztp5nqEBV"
      },
      "execution_count": 45,
      "outputs": [
        {
          "output_type": "stream",
          "name": "stdout",
          "text": [
            "Library Books:\n",
            "The Great Gatsby by F. Scott Fitzgerald (ID: 1, Available Copies: 5)\n",
            "To Kill a Mockingbird by Harper Lee (ID: 2, Available Copies: 3)\n",
            "\n",
            "Library Users:\n",
            "Alice (ID: 101)\n",
            "Bob (ID: 102)\n",
            "Library Books:\n",
            "The Great Gatsby by F. Scott Fitzgerald (ID: 1, Available Copies: 4)\n",
            "To Kill a Mockingbird by Harper Lee (ID: 2, Available Copies: 2)\n",
            "\n",
            "Library Users:\n",
            "Alice (ID: 101)\n",
            "Bob (ID: 102)\n",
            "Library Books:\n",
            "The Great Gatsby by F. Scott Fitzgerald (ID: 1, Available Copies: 5)\n",
            "To Kill a Mockingbird by Harper Lee (ID: 2, Available Copies: 2)\n",
            "\n",
            "Library Users:\n",
            "Alice (ID: 101)\n",
            "Bob (ID: 102)\n"
          ]
        }
      ]
    },
    {
      "cell_type": "markdown",
      "source": [
        "**5.3 Content Management System (CMS):**\n",
        "\n",
        "This project involves creating a simple content management system (CMS) for managing articles. The system will have user authentication, the ability to create, edit, and delete articles, and a search functionality.\n"
      ],
      "metadata": {
        "id": "0Eq3ASxArMlA"
      }
    },
    {
      "cell_type": "code",
      "source": [
        "from datetime import datetime\n",
        "import os\n",
        "import json\n",
        "\n",
        "class Article:\n",
        "    \"\"\"\n",
        "    Class to represent an article with title, content, author, and timestamp.\n",
        "    \"\"\"\n",
        "    def __init__(self, title, content, author):\n",
        "        \"\"\"\n",
        "        Initialize Article object.\n",
        "\n",
        "        Args:\n",
        "            title (str): Title of the article.\n",
        "            content (str): Content of the article.\n",
        "            author (str): Author of the article.\n",
        "        \"\"\"\n",
        "        self.title = title\n",
        "        self.content = content\n",
        "        self.author = author\n",
        "        self.timestamp = datetime.now()\n",
        "\n",
        "    def to_dict(self):\n",
        "        \"\"\"\n",
        "        Convert Article object to a dictionary.\n",
        "\n",
        "        Returns:\n",
        "            dict: Dictionary representation of the Article object.\n",
        "        \"\"\"\n",
        "        return {\n",
        "            'title': self.title,\n",
        "            'content': self.content,\n",
        "            'author': self.author,\n",
        "            'timestamp': str(self.timestamp)\n",
        "        }\n",
        "\n",
        "    def __str__(self):\n",
        "        \"\"\"\n",
        "        String representation of the Article object.\n",
        "\n",
        "        Returns:\n",
        "            str: Formatted string representing the article.\n",
        "        \"\"\"\n",
        "        return f\"{self.title} by {self.author} ({self.timestamp})\"\n",
        "\n",
        "\n",
        "class ArticleCMS:\n",
        "    \"\"\"\n",
        "    Class to manage an Article Content Management System (CMS).\n",
        "    \"\"\"\n",
        "    def __init__(self):\n",
        "        \"\"\"\n",
        "        Initialize ArticleCMS object with empty articles, users, and no current user.\n",
        "        \"\"\"\n",
        "        self.articles = []\n",
        "        self.users = {}\n",
        "        self.current_user = None\n",
        "\n",
        "    def register_user(self, username, password):\n",
        "        \"\"\"\n",
        "        Register a new user.\n",
        "\n",
        "        Args:\n",
        "            username (str): Username of the new user.\n",
        "            password (str): Password of the new user.\n",
        "        \"\"\"\n",
        "        self.users[username] = password\n",
        "\n",
        "    def login(self, username, password):\n",
        "        \"\"\"\n",
        "        Log in a user.\n",
        "\n",
        "        Args:\n",
        "            username (str): Username of the user.\n",
        "            password (str): Password of the user.\n",
        "        \"\"\"\n",
        "        if username in self.users and self.users[username] == password:\n",
        "            self.current_user = username\n",
        "            print(f\"Logged in as {username}\")\n",
        "        else:\n",
        "            print(\"Invalid credentials\")\n",
        "\n",
        "    def logout(self):\n",
        "        \"\"\"Log out the current user.\"\"\"\n",
        "        self.current_user = None\n",
        "        print(\"Logged out\")\n",
        "\n",
        "    def create_article(self, title, content):\n",
        "        \"\"\"\n",
        "        Create a new article.\n",
        "\n",
        "        Args:\n",
        "            title (str): Title of the new article.\n",
        "            content (str): Content of the new article.\n",
        "        \"\"\"\n",
        "        if self.current_user:\n",
        "            article = Article(title, content, self.current_user)\n",
        "            self.articles.append(article)\n",
        "            print(\"Article created successfully\")\n",
        "        else:\n",
        "            print(\"Please log in to create an article\")\n",
        "\n",
        "    def edit_article(self, article_index, new_title, new_content):\n",
        "        \"\"\"\n",
        "        Edit an existing article.\n",
        "\n",
        "        Args:\n",
        "            article_index (int): Index of the article to be edited.\n",
        "            new_title (str): New title for the article.\n",
        "            new_content (str): New content for the article.\n",
        "        \"\"\"\n",
        "        if self.current_user:\n",
        "            try:\n",
        "                article = self.articles[article_index]\n",
        "                if article.author == self.current_user:\n",
        "                    article.title = new_title\n",
        "                    article.content = new_content\n",
        "                    print(\"Article edited successfully\")\n",
        "                else:\n",
        "                    print(\"You can only edit your own articles\")\n",
        "            except IndexError:\n",
        "                print(\"Invalid article index\")\n",
        "        else:\n",
        "            print(\"Please log in to edit an article\")\n",
        "\n",
        "    def delete_article(self, article_index):\n",
        "        \"\"\"\n",
        "        Delete an existing article.\n",
        "\n",
        "        Args:\n",
        "            article_index (int): Index of the article to be deleted.\n",
        "        \"\"\"\n",
        "        if self.current_user:\n",
        "            try:\n",
        "                article = self.articles[article_index]\n",
        "                if article.author == self.current_user:\n",
        "                    del self.articles[article_index]\n",
        "                    print(\"Article deleted successfully\")\n",
        "                else:\n",
        "                    print(\"You can only delete your own articles\")\n",
        "            except IndexError:\n",
        "                print(\"Invalid article index\")\n",
        "        else:\n",
        "            print(\"Please log in to delete an article\")\n",
        "\n",
        "    def search_articles(self, keyword):\n",
        "        \"\"\"\n",
        "        Search for articles containing a keyword.\n",
        "\n",
        "        Args:\n",
        "            keyword (str): Keyword to search for in articles.\n",
        "        \"\"\"\n",
        "        results = [article for article in self.articles if keyword.lower() in article.title.lower() or keyword.lower() in article.content.lower()]\n",
        "        if results:\n",
        "            print(\"\\nSearch Results:\")\n",
        "            for result in results:\n",
        "                print(result)\n",
        "        else:\n",
        "            print(\"No matching articles found\")\n",
        "\n",
        "    def save_to_file(self):\n",
        "        \"\"\"Save CMS data to a JSON file.\"\"\"\n",
        "        data = {\n",
        "            'articles': [article.to_dict() for article in self.articles],\n",
        "            'users': self.users,\n",
        "            'current_user': self.current_user\n",
        "        }\n",
        "\n",
        "        with open(\"cms_data.json\", \"w\") as file:\n",
        "            json.dump(data, file)\n",
        "            print(\"Data saved to file\")\n",
        "\n",
        "    def load_from_file(self):\n",
        "        \"\"\"Load CMS data from a JSON file.\"\"\"\n",
        "        if os.path.exists(\"cms_data.json\"):\n",
        "            with open(\"cms_data.json\", \"r\") as file:\n",
        "                data = json.load(file)\n",
        "\n",
        "                # Remove 'timestamp' from article dictionaries before creating objects\n",
        "                self.articles = [Article(**{k: v for k, v in article.items() if k != 'timestamp'}) for article in data['articles']]\n",
        "\n",
        "                self.users = data['users']\n",
        "                self.current_user = data['current_user']\n",
        "\n",
        "                print(\"Data loaded from file\")\n",
        "\n",
        "\n",
        "if __name__ == \"__main__\":\n",
        "    cms = ArticleCMS()\n",
        "\n",
        "    # Register users\n",
        "    cms.register_user(\"user1\", \"pass1\")\n",
        "    cms.register_user(\"user2\", \"pass2\")\n",
        "\n",
        "    # Simulate user login\n",
        "    cms.login(\"user1\", \"pass1\")\n",
        "\n",
        "    # Create articles\n",
        "    cms.create_article(\"Python Basics\", \"Introduction to Python programming language.\")\n",
        "    cms.create_article(\"Data Structures in Python\", \"Learn about lists, sets, tuples, and dictionaries.\")\n",
        "\n",
        "    # Simulate user logout\n",
        "    cms.logout()\n",
        "\n",
        "    # Simulate another user login\n",
        "    cms.login(\"user2\", \"pass2\")\n",
        "\n",
        "    # Edit article\n",
        "    cms.edit_article(0, \"Updated Python Basics\", \"Updated content about Python programming language.\")\n",
        "\n",
        "    # Delete article\n",
        "    cms.delete_article(1)\n",
        "\n",
        "    # Search for articles\n",
        "    cms.search_articles(\"Python\")\n",
        "\n",
        "    # Save and load data from file\n",
        "    cms.save_to_file()\n",
        "    cms.load_from_file()\n"
      ],
      "metadata": {
        "colab": {
          "base_uri": "https://localhost:8080/"
        },
        "id": "_m_Vc77DR1oA",
        "outputId": "e65e1400-742c-4f51-8ce7-69c1a9a2fa06"
      },
      "execution_count": 51,
      "outputs": [
        {
          "output_type": "stream",
          "name": "stdout",
          "text": [
            "Logged in as user1\n",
            "Article created successfully\n",
            "Article created successfully\n",
            "Logged out\n",
            "Logged in as user2\n",
            "You can only edit your own articles\n",
            "You can only delete your own articles\n",
            "\n",
            "Search Results:\n",
            "Python Basics by user1 (2023-12-22 08:46:01.043085)\n",
            "Data Structures in Python by user1 (2023-12-22 08:46:01.043114)\n",
            "Data saved to file\n",
            "Data loaded from file\n"
          ]
        }
      ]
    },
    {
      "cell_type": "markdown",
      "source": [
        "**5.4  Inventory Management System:**\n",
        "\n",
        "This system will keep track of products, their quantities, and transactions. It involves complex interactions between classes and data structures."
      ],
      "metadata": {
        "id": "a4IFJRpgt7mc"
      }
    },
    {
      "cell_type": "code",
      "source": [
        "from datetime import datetime\n",
        "from typing import List, Dict\n",
        "\n",
        "class Product:\n",
        "    \"\"\"Class representing a product in the inventory.\"\"\"\n",
        "\n",
        "    def __init__(self, product_id: int, name: str, price: float, quantity: int):\n",
        "        \"\"\"Initialize a Product instance.\"\"\"\n",
        "        self.product_id = product_id\n",
        "        self.name = name\n",
        "        self.price = price\n",
        "        self.quantity = quantity\n",
        "\n",
        "    def to_dict(self) -> Dict:\n",
        "        \"\"\"Convert the Product instance to a dictionary.\"\"\"\n",
        "        return {\n",
        "            'product_id': self.product_id,\n",
        "            'name': self.name,\n",
        "            'price': self.price,\n",
        "            'quantity': self.quantity\n",
        "        }\n",
        "\n",
        "    def __str__(self) -> str:\n",
        "        \"\"\"Return a string representation of the Product.\"\"\"\n",
        "        return f\"{self.name} (ID: {self.product_id}) - Price: ${self.price}, Quantity: {self.quantity}\"\n",
        "\n",
        "class Transaction:\n",
        "    \"\"\"Class representing a transaction in the system.\"\"\"\n",
        "\n",
        "    def __init__(self, transaction_id: int, products: List[Product], total_amount: float):\n",
        "        \"\"\"Initialize a Transaction instance.\"\"\"\n",
        "        self.transaction_id = transaction_id\n",
        "        self.products = products\n",
        "        self.total_amount = total_amount\n",
        "        self.timestamp = datetime.now()\n",
        "\n",
        "    def to_dict(self) -> Dict:\n",
        "        \"\"\"Convert the Transaction instance to a dictionary.\"\"\"\n",
        "        return {\n",
        "            'transaction_id': self.transaction_id,\n",
        "            'products': [product.to_dict() for product in self.products],\n",
        "            'total_amount': self.total_amount,\n",
        "            'timestamp': str(self.timestamp)\n",
        "        }\n",
        "\n",
        "    def __str__(self) -> str:\n",
        "        \"\"\"Return a string representation of the Transaction.\"\"\"\n",
        "        return f\"Transaction ID: {self.transaction_id}, Total Amount: ${self.total_amount}, Timestamp: {self.timestamp}\"\n",
        "\n",
        "class InventoryManagementSystem:\n",
        "    \"\"\"Class representing the Inventory Management System.\"\"\"\n",
        "\n",
        "    def __init__(self):\n",
        "        \"\"\"Initialize the InventoryManagementSystem instance.\"\"\"\n",
        "        self.products = []  # List to store products\n",
        "        self.transactions = []  # List to store transactions\n",
        "        self.transaction_counter = 1  # Counter for generating unique transaction IDs\n",
        "\n",
        "    def add_product(self, name: str, price: float, quantity: int):\n",
        "        \"\"\"Add a new product to the inventory.\"\"\"\n",
        "        product_id = len(self.products) + 1\n",
        "        product = Product(product_id, name, price, quantity)\n",
        "        self.products.append(product)\n",
        "        print(f\"Product added successfully: {product}\")\n",
        "\n",
        "    def display_products(self):\n",
        "        \"\"\"Display information about all products in the inventory.\"\"\"\n",
        "        print(\"\\nCurrent Products:\")\n",
        "        for product in self.products:\n",
        "            print(product)\n",
        "\n",
        "    def make_transaction(self, product_id: int, quantity: int):\n",
        "        \"\"\"Make a transaction for purchasing products.\"\"\"\n",
        "        product = next((p for p in self.products if p.product_id == product_id), None)\n",
        "        if product and product.quantity >= quantity:\n",
        "            transaction_products = [Product(product.product_id, product.name, product.price, quantity)]\n",
        "            total_amount = quantity * product.price\n",
        "            transaction = Transaction(self.transaction_counter, transaction_products, total_amount)\n",
        "            self.transactions.append(transaction)\n",
        "            self.transaction_counter += 1\n",
        "            product.quantity -= quantity\n",
        "            print(f\"Transaction successful: {transaction}\")\n",
        "        elif not product:\n",
        "            print(\"Invalid product ID\")\n",
        "        else:\n",
        "            print(\"Insufficient quantity for the transaction\")\n",
        "\n",
        "    def display_transactions(self):\n",
        "        \"\"\"Display information about all transactions.\"\"\"\n",
        "        print(\"\\nTransaction History:\")\n",
        "        for transaction in self.transactions:\n",
        "            print(transaction)\n",
        "\n",
        "if __name__ == \"__main__\":\n",
        "    ims = InventoryManagementSystem()\n",
        "\n",
        "    # Add products to the inventory\n",
        "    ims.add_product(\"Laptop\", 1000, 10)\n",
        "    ims.add_product(\"Mouse\", 20, 50)\n",
        "    ims.add_product(\"Keyboard\", 50, 30)\n",
        "\n",
        "    # Display current products\n",
        "    ims.display_products()\n",
        "\n",
        "    # Make transactions\n",
        "    ims.make_transaction(1, 5)\n",
        "    ims.make_transaction(2, 10)\n",
        "\n",
        "    # Display transaction history\n",
        "    ims.display_transactions()\n"
      ],
      "metadata": {
        "colab": {
          "base_uri": "https://localhost:8080/"
        },
        "outputId": "ce91116b-19d6-4e9a-f96c-3c6f79e7e3a3",
        "id": "UhHPf96vt7mt"
      },
      "execution_count": 53,
      "outputs": [
        {
          "output_type": "stream",
          "name": "stdout",
          "text": [
            "Product added successfully: Laptop (ID: 1) - Price: $1000, Quantity: 10\n",
            "Product added successfully: Mouse (ID: 2) - Price: $20, Quantity: 50\n",
            "Product added successfully: Keyboard (ID: 3) - Price: $50, Quantity: 30\n",
            "\n",
            "Current Products:\n",
            "Laptop (ID: 1) - Price: $1000, Quantity: 10\n",
            "Mouse (ID: 2) - Price: $20, Quantity: 50\n",
            "Keyboard (ID: 3) - Price: $50, Quantity: 30\n",
            "Transaction successful: Transaction ID: 1, Total Amount: $5000, Timestamp: 2023-12-22 08:53:53.927430\n",
            "Transaction successful: Transaction ID: 2, Total Amount: $200, Timestamp: 2023-12-22 08:53:53.927951\n",
            "\n",
            "Transaction History:\n",
            "Transaction ID: 1, Total Amount: $5000, Timestamp: 2023-12-22 08:53:53.927430\n",
            "Transaction ID: 2, Total Amount: $200, Timestamp: 2023-12-22 08:53:53.927951\n"
          ]
        }
      ]
    },
    {
      "cell_type": "markdown",
      "source": [
        "**5.5  Social Media Graph Analysis:**\n",
        "\n",
        "Let's consider a simplified Social Media Graph Analysis project using Python. In this project, we'll represent a social network as a graph and perform basic analysis on the connections."
      ],
      "metadata": {
        "id": "Il0nxCLlxCAI"
      }
    },
    {
      "cell_type": "code",
      "source": [
        "class SocialMediaGraph:\n",
        "    def __init__(self):\n",
        "        \"\"\"\n",
        "        Initialize an empty Social Media Graph.\n",
        "\n",
        "        Attributes:\n",
        "        - users: A set to store unique user IDs.\n",
        "        - connections: A dictionary to store connections between users.\n",
        "        \"\"\"\n",
        "        self.users = set()\n",
        "        self.connections = dict()\n",
        "\n",
        "    def add_user(self, user_id, name):\n",
        "        \"\"\"\n",
        "        Add a new user to the graph.\n",
        "\n",
        "        Args:\n",
        "        - user_id: Unique identifier for the user.\n",
        "        - name: Name of the user.\n",
        "\n",
        "        Prints a message indicating success or failure.\n",
        "        \"\"\"\n",
        "        if user_id not in self.users:\n",
        "            self.users.add(user_id)\n",
        "            self.connections[user_id] = set()\n",
        "            print(f\"User {user_id} ({name}) added successfully.\")\n",
        "        else:\n",
        "            print(f\"User {user_id} already exists.\")\n",
        "\n",
        "    def add_connection(self, user_id1, user_id2):\n",
        "        \"\"\"\n",
        "        Add a connection between two users in the graph.\n",
        "\n",
        "        Args:\n",
        "        - user_id1: User ID of the first user.\n",
        "        - user_id2: User ID of the second user.\n",
        "\n",
        "        Prints a message indicating success or failure.\n",
        "        \"\"\"\n",
        "        if user_id1 in self.users and user_id2 in self.users:\n",
        "            self.connections[user_id1].add(user_id2)\n",
        "            self.connections[user_id2].add(user_id1)\n",
        "            print(f\"Connection added between User {user_id1} and User {user_id2}.\")\n",
        "        else:\n",
        "            print(\"Invalid user IDs. Both users should exist.\")\n",
        "\n",
        "    def display_users(self):\n",
        "        \"\"\"\n",
        "        Display the list of users in the social media graph.\n",
        "        \"\"\"\n",
        "        print(\"\\nUsers in the Social Media Graph:\")\n",
        "        for user_id in self.users:\n",
        "            print(f\"User {user_id}\")\n",
        "\n",
        "    def display_connections(self, user_id):\n",
        "        \"\"\"\n",
        "        Display the connections for a specific user.\n",
        "\n",
        "        Args:\n",
        "        - user_id: User ID of the user to display connections for.\n",
        "        \"\"\"\n",
        "        if user_id in self.users:\n",
        "            print(f\"\\nConnections for User {user_id}:\")\n",
        "            for connection in self.connections[user_id]:\n",
        "                print(f\"User {connection}\")\n",
        "        else:\n",
        "            print(\"Invalid user ID.\")\n",
        "\n",
        "\n",
        "if __name__ == \"__main__\":\n",
        "    # Example usage of the SocialMediaGraph class\n",
        "    social_graph = SocialMediaGraph()\n",
        "\n",
        "    # Add users to the social graph\n",
        "    social_graph.add_user(1, \"Alice\")\n",
        "    social_graph.add_user(2, \"Bob\")\n",
        "    social_graph.add_user(3, \"Charlie\")\n",
        "\n",
        "    # Add connections between users\n",
        "    social_graph.add_connection(1, 2)\n",
        "    social_graph.add_connection(2, 3)\n",
        "\n",
        "    # Display users and their connections\n",
        "    social_graph.display_users()\n",
        "    social_graph.display_connections(1)\n"
      ],
      "metadata": {
        "colab": {
          "base_uri": "https://localhost:8080/"
        },
        "outputId": "998e7a53-eeae-4684-f7ce-c043f76ee3af",
        "id": "nnuFiTHVxCAJ"
      },
      "execution_count": 54,
      "outputs": [
        {
          "output_type": "stream",
          "name": "stdout",
          "text": [
            "User 1 (Alice) added successfully.\n",
            "User 2 (Bob) added successfully.\n",
            "User 3 (Charlie) added successfully.\n",
            "Connection added between User 1 and User 2.\n",
            "Connection added between User 2 and User 3.\n",
            "\n",
            "Users in the Social Media Graph:\n",
            "User 1\n",
            "User 2\n",
            "User 3\n",
            "\n",
            "Connections for User 1:\n",
            "User 2\n"
          ]
        }
      ]
    }
  ]
}